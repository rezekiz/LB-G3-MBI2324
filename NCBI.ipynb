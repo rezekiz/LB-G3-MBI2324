{
 "cells": [
  {
   "cell_type": "markdown",
   "id": "12a1543d",
   "metadata": {},
   "source": [
    "# Análise da sequência e das features presentes no NCBI"
   ]
  },
  {
   "cell_type": "markdown",
   "id": "a74c9a95",
   "metadata": {},
   "source": [
    "* Aceder ao NCBI e guardar os ficheiros correspondentes aos genes escolhidos"
   ]
  },
  {
   "cell_type": "code",
   "execution_count": 1,
   "id": "b8551b7f",
   "metadata": {},
   "outputs": [],
   "source": [
    "from Bio import SeqIO\n",
    "from Bio import Entrez"
   ]
  },
  {
   "cell_type": "code",
   "execution_count": 23,
   "id": "7d9486a8",
   "metadata": {},
   "outputs": [],
   "source": [
    "Entrez.email = \"oliveira1mariana@hotmail.com\""
   ]
  },
  {
   "cell_type": "code",
   "execution_count": 24,
   "id": "bb2b1561",
   "metadata": {},
   "outputs": [],
   "source": [
    "#Acesso direto\n",
    "handle = Entrez.efetch(db = \"nucleotide\", id = \"NC_000006\", rettype = \"gb\", retmode = \"text\") "
   ]
  },
  {
   "cell_type": "code",
   "execution_count": 15,
   "id": "241bc4e9",
   "metadata": {},
   "outputs": [
    {
     "name": "stdout",
     "output_type": "stream",
     "text": [
      "LOCUS       NC_000006          170805979 bp    DNA     linear   CON 07-OCT-2023\n",
      "DEFINITION  Homo sapiens chromosome 6, GRCh38.p14 Primary Assembly.\n",
      "ACCESSION   NC_000006\n",
      "VERSION     NC_000006.12\n",
      "DBLINK      BioProject: PRJNA168\n",
      "            Assembly: GCF_000001405.40\n",
      "KEYWORDS    RefSeq.\n",
      "SOURCE      Homo sapiens (human)\n",
      "  ORGANISM  Homo sapiens\n",
      "            Eukaryota; Metazoa; Chordata; Craniata; Vertebrata; Euteleostomi;\n",
      "            Mammalia; Eutheria; Euarchontoglires; Primates; Haplorrhini;\n",
      "            Catarrhini; Hominidae; Homo.\n",
      "REFERENCE   1  (bases 1 to 170805979)\n",
      "  CONSRTM   International Human Genome Sequencing Consortium\n",
      "  TITLE     Finishing the euchromatic sequence of the human genome\n",
      "  JOURNAL   Nature 431 (7011), 931-945 (2004)\n",
      "   PUBMED   15496913\n",
      "REFERENCE   2  (bases 1 to 170805979)\n",
      "  AUTHORS   Mungall,A.J., Palmer,S.A., Sims,S.K., Edwards,C.A., Ashurst,J.L.,\n",
      "            Wilming,L., Jones,M.C., Horton,R., Hunt,S.E., Scott,C.E.,\n",
      "            Gilbert,J.G., Clamp,M.E., Bethel,G., Milne,S., Ainscough,R.,\n",
      "            Almeida,J.P., Ambrose,K.D., Andrews,T.D., Ashwell,R.I.,\n",
      "            Babbage,A.K., Bagguley,C.L., Bailey,J., Banerjee,R., Barker,D.J.,\n",
      "            Barlow,K.F., Bates,K., Beare,D.M., Beasley,H., Beasley,O.,\n",
      "            Bird,C.P., Blakey,S., Bray-Allen,S., Brook,J., Brown,A.J.,\n",
      "            Brown,J.Y., Burford,D.C., Burrill,W., Burton,J., Carder,C.,\n",
      "            Carter,N.P., Chapman,J.C., Clark,S.Y., Clark,G., Clee,C.M.,\n",
      "            Clegg,S., Cobley,V., Collier,R.E., Collins,J.E., Colman,L.K.,\n",
      "            Corby,N.R., Coville,G.J., Culley,K.M., Dhami,P., Davies,J.,\n",
      "            Dunn,M., Earthrowl,M.E., Ellington,A.E., Evans,K.A., Faulkner,L.,\n",
      "            Francis,M.D., Frankish,A., Frankland,J., French,L., Garner,P.,\n",
      "            Garnett,J., Ghori,M.J., Gilby,L.M., Gillson,C.J., Glithero,R.J.,\n",
      "            Grafham,D.V., Grant,M., Gribble,S., Griffiths,C., Griffiths,M.,\n",
      "            Hall,R., Halls,K.S., Hammond,S., Harley,J.L., Hart,E.A.,\n",
      "            Heath,P.D., Heathcott,R., Holmes,S.J., Howden,P.J., Howe,K.L.,\n",
      "            Howell,G.R., Huckle,E., Humphray,S.J., Humphries,M.D., Hunt,A.R.,\n",
      "            Johnson,C.M., Joy,A.A., Kay,M., Keenan,S.J., Kimberley,A.M.,\n",
      "            King,A., Laird,G.K., Langford,C., Lawlor,S., Leongamornlert,D.A.,\n",
      "            Leversha,M., Lloyd,C.R., Lloyd,D.M., Loveland,J.E., Lovell,J.,\n",
      "            Martin,S., Mashreghi-Mohammadi,M., Maslen,G.L., Matthews,L.,\n",
      "            McCann,O.T., McLaren,S.J., McLay,K., McMurray,A., Moore,M.J.,\n",
      "            Mullikin,J.C., Niblett,D., Nickerson,T., Novik,K.L., Oliver,K.,\n",
      "            Overton-Larty,E.K., Parker,A., Patel,R., Pearce,A.V., Peck,A.I.,\n",
      "            Phillimore,B., Phillips,S., Plumb,R.W., Porter,K.M., Ramsey,Y.,\n",
      "            Ranby,S.A., Rice,C.M., Ross,M.T., Searle,S.M., Sehra,H.K.,\n",
      "            Sheridan,E., Skuce,C.D., Smith,S., Smith,M., Spraggon,L.,\n",
      "            Squares,S.L., Steward,C.A., Sycamore,N., Tamlyn-Hall,G., Tester,J.,\n",
      "            Theaker,A.J., Thomas,D.W., Thorpe,A., Tracey,A., Tromans,A.,\n",
      "            Tubby,B., Wall,M., Wallis,J.M., West,A.P., White,S.S.,\n",
      "            Whitehead,S.L., Whittaker,H., Wild,A., Willey,D.J., Wilmer,T.E.,\n",
      "            Wood,J.M., Wray,P.W., Wyatt,J.C., Young,L., Younger,R.M.,\n",
      "            Bentley,D.R., Coulson,A., Durbin,R., Hubbard,T., Sulston,J.E.,\n",
      "            Dunham,I., Rogers,J. and Beck,S.\n",
      "  TITLE     The DNA sequence and analysis of human chromosome 6\n",
      "  JOURNAL   Nature 425 (6960), 805-811 (2003)\n",
      "   PUBMED   14574404\n",
      "REFERENCE   3  (bases 1 to 170805979)\n",
      "  AUTHORS   Lander,E.S., Linton,L.M., Birren,B., Nusbaum,C., Zody,M.C.,\n",
      "            Baldwin,J., Devon,K., Dewar,K., Doyle,M., FitzHugh,W., Funke,R.,\n",
      "            Gage,D., Harris,K., Heaford,A., Howland,J., Kann,L., Lehoczky,J.,\n",
      "            LeVine,R., McEwan,P., McKernan,K., Meldrim,J., Mesirov,J.P.,\n",
      "            Miranda,C., Morris,W., Naylor,J., Raymond,C., Rosetti,M.,\n",
      "            Santos,R., Sheridan,A., Sougnez,C., Stange-Thomann,N.,\n",
      "            Stojanovic,N., Subramanian,A., Wyman,D., Rogers,J., Sulston,J.,\n",
      "            Ainscough,R., Beck,S., Bentley,D., Burton,J., Clee,C., Carter,N.,\n",
      "            Coulson,A., Deadman,R., Deloukas,P., Dunham,A., Dunham,I.,\n",
      "            Durbin,R., French,L., Grafham,D., Gregory,S., Hubbard,T.,\n",
      "            Humphray,S., Hunt,A., Jones,M., Lloyd,C., McMurray,A., Matthews,L.,\n",
      "            Mercer,S., Milne,S., Mullikin,J.C., Mungall,A., Plumb,R., Ross,M.,\n",
      "            Shownkeen,R., Sims,S., Waterston,R.H., Wilson,R.K., Hillier,L.W.,\n",
      "            McPherson,J.D., Marra,M.A., Mardis,E.R., Fulton,L.A.,\n",
      "            Chinwalla,A.T., Pepin,K.H., Gish,W.R., Chissoe,S.L., Wendl,M.C.,\n",
      "            Delehaunty,K.D., Miner,T.L., Delehaunty,A., Kramer,J.B., Cook,L.L.,\n",
      "            Fulton,R.S., Johnson,D.L., Minx,P.J., Clifton,S.W., Hawkins,T.,\n",
      "            Branscomb,E., Predki,P., Richardson,P., Wenning,S., Slezak,T.,\n",
      "            Doggett,N., Cheng,J.F., Olsen,A., Lucas,S., Elkin,C.,\n",
      "            Uberbacher,E., Frazier,M., Gibbs,R.A., Muzny,D.M., Scherer,S.E.,\n",
      "            Bouck,J.B., Sodergren,E.J., Worley,K.C., Rives,C.M., Gorrell,J.H.,\n",
      "            Metzker,M.L., Naylor,S.L., Kucherlapati,R.S., Nelson,D.L.,\n",
      "            Weinstock,G.M., Sakaki,Y., Fujiyama,A., Hattori,M., Yada,T.,\n",
      "            Toyoda,A., Itoh,T., Kawagoe,C., Watanabe,H., Totoki,Y., Taylor,T.,\n",
      "            Weissenbach,J., Heilig,R., Saurin,W., Artiguenave,F., Brottier,P.,\n",
      "            Bruls,T., Pelletier,E., Robert,C., Wincker,P., Smith,D.R.,\n",
      "            Doucette-Stamm,L., Rubenfield,M., Weinstock,K., Lee,H.M.,\n",
      "            Dubois,J., Rosenthal,A., Platzer,M., Nyakatura,G., Taudien,S.,\n",
      "            Rump,A., Yang,H., Yu,J., Wang,J., Huang,G., Gu,J., Hood,L.,\n",
      "            Rowen,L., Madan,A., Qin,S., Davis,R.W., Federspiel,N.A.,\n",
      "            Abola,A.P., Proctor,M.J., Myers,R.M., Schmutz,J., Dickson,M.,\n",
      "            Grimwood,J., Cox,D.R., Olson,M.V., Kaul,R., Raymond,C., Shimizu,N.,\n",
      "            Kawasaki,K., Minoshima,S., Evans,G.A., Athanasiou,M., Schultz,R.,\n",
      "            Roe,B.A., Chen,F., Pan,H., Ramser,J., Lehrach,H., Reinhardt,R.,\n",
      "            McCombie,W.R., de la Bastide,M., Dedhia,N., Blocker,H.,\n",
      "            Hornischer,K., Nordsiek,G., Agarwala,R., Aravind,L., Bailey,J.A.,\n",
      "            Bateman,A., Batzoglou,S., Birney,E., Bork,P., Brown,D.G.,\n",
      "            Burge,C.B., Cerutti,L., Chen,H.C., Church,D., Clamp,M.,\n",
      "            Copley,R.R., Doerks,T., Eddy,S.R., Eichler,E.E., Furey,T.S.,\n",
      "            Galagan,J., Gilbert,J.G., Harmon,C., Hayashizaki,Y., Haussler,D.,\n",
      "            Hermjakob,H., Hokamp,K., Jang,W., Johnson,L.S., Jones,T.A.,\n",
      "            Kasif,S., Kaspryzk,A., Kennedy,S., Kent,W.J., Kitts,P.,\n",
      "            Koonin,E.V., Korf,I., Kulp,D., Lancet,D., Lowe,T.M., McLysaght,A.,\n",
      "            Mikkelsen,T., Moran,J.V., Mulder,N., Pollara,V.J., Ponting,C.P.,\n",
      "            Schuler,G., Schultz,J., Slater,G., Smit,A.F., Stupka,E.,\n",
      "            Szustakowski,J., Thierry-Mieg,D., Thierry-Mieg,J., Wagner,L.,\n",
      "            Wallis,J., Wheeler,R., Williams,A., Wolf,Y.I., Wolfe,K.H.,\n",
      "            Yang,S.P., Yeh,R.F., Collins,F., Guyer,M.S., Peterson,J.,\n",
      "            Felsenfeld,A., Wetterstrand,K.A., Patrinos,A., Morgan,M.J., de\n",
      "            Jong,P., Catanese,J.J., Osoegawa,K., Shizuya,H., Choi,S. and\n",
      "            Chen,Y.J.\n",
      "  CONSRTM   International Human Genome Sequencing Consortium\n",
      "  TITLE     Initial sequencing and analysis of the human genome\n",
      "  JOURNAL   Nature 409 (6822), 860-921 (2001)\n",
      "   PUBMED   11237011\n",
      "  REMARK    Erratum:[Nature 2001 Aug 2;412(6846):565]\n",
      "COMMENT     REFSEQ INFORMATION: The reference sequence is identical to\n",
      "            CM000668.2.\n",
      "            \n",
      "            On Feb 3, 2014 this sequence version replaced NC_000006.11.\n",
      "            Assembly Name: GRCh38.p14 Primary Assembly\n",
      "            The DNA sequence is composed of genomic sequence, primarily\n",
      "            finished clones that were sequenced as part of the Human Genome\n",
      "            Project. PCR products and WGS shotgun sequence have been added\n",
      "            where necessary to fill gaps or correct errors. All such additions\n",
      "            are manually curated by GRC staff. For more information see:\n",
      "            https://genomereference.org.\n",
      "            \n",
      "            ##Genome-Annotation-Data-START##\n",
      "            Annotation Provider         :: NCBI RefSeq\n",
      "            Annotation Status           :: Updated annotation\n",
      "            Annotation Name             :: GCF_000001405.40-RS_2023_10\n",
      "            Annotation Pipeline         :: NCBI eukaryotic genome annotation\n",
      "                                           pipeline\n",
      "            Annotation Software Version :: 10.2\n",
      "            Annotation Method           :: Best-placed RefSeq; Gnomon;\n",
      "                                           RefSeqFE; cmsearch; tRNAscan-SE\n",
      "            Features Annotated          :: Gene; mRNA; CDS; ncRNA\n",
      "            Annotation Date             :: 10/02/2023\n",
      "            ##Genome-Annotation-Data-END##\n",
      "FEATURES             Location/Qualifiers\n",
      "     source          1..170805979\n",
      "                     /organism=\"Homo sapiens\"\n",
      "                     /mol_type=\"genomic DNA\"\n",
      "                     /db_xref=\"taxon:9606\"\n",
      "                     /chromosome=\"6\"\n",
      "CONTIG      join(gap(10000),gap(50000),NT_007592.16:1..58393888,gap(100000),\n",
      "            NT_187199.1:1..1276046,gap(400000),NT_025741.16:1..110516045,\n",
      "            gap(50000),gap(10000))\n",
      "//\n",
      "\n",
      "\n"
     ]
    }
   ],
   "source": [
    "print(handle.read())"
   ]
  },
  {
   "cell_type": "code",
   "execution_count": 16,
   "id": "fc72d8b4",
   "metadata": {},
   "outputs": [
    {
     "ename": "ValueError",
     "evalue": "No records found in handle",
     "output_type": "error",
     "traceback": [
      "\u001b[1;31m---------------------------------------------------------------------------\u001b[0m",
      "\u001b[1;31mValueError\u001b[0m                                Traceback (most recent call last)",
      "Cell \u001b[1;32mIn[16], line 2\u001b[0m\n\u001b[0;32m      1\u001b[0m \u001b[38;5;66;03m#Leitura da sequência\u001b[39;00m\n\u001b[1;32m----> 2\u001b[0m record \u001b[38;5;241m=\u001b[39m \u001b[43mSeqIO\u001b[49m\u001b[38;5;241;43m.\u001b[39;49m\u001b[43mread\u001b[49m\u001b[43m(\u001b[49m\u001b[43mhandle\u001b[49m\u001b[43m,\u001b[49m\u001b[43m \u001b[49m\u001b[38;5;124;43m\"\u001b[39;49m\u001b[38;5;124;43mgb\u001b[39;49m\u001b[38;5;124;43m\"\u001b[39;49m\u001b[43m)\u001b[49m\n",
      "File \u001b[1;32m~\\AppData\\Local\\Packages\\PythonSoftwareFoundation.Python.3.10_qbz5n2kfra8p0\\LocalCache\\local-packages\\Python310\\site-packages\\Bio\\SeqIO\\__init__.py:656\u001b[0m, in \u001b[0;36mread\u001b[1;34m(handle, format, alphabet)\u001b[0m\n\u001b[0;32m    654\u001b[0m     record \u001b[38;5;241m=\u001b[39m \u001b[38;5;28mnext\u001b[39m(iterator)\n\u001b[0;32m    655\u001b[0m \u001b[38;5;28;01mexcept\u001b[39;00m \u001b[38;5;167;01mStopIteration\u001b[39;00m:\n\u001b[1;32m--> 656\u001b[0m     \u001b[38;5;28;01mraise\u001b[39;00m \u001b[38;5;167;01mValueError\u001b[39;00m(\u001b[38;5;124m\"\u001b[39m\u001b[38;5;124mNo records found in handle\u001b[39m\u001b[38;5;124m\"\u001b[39m) \u001b[38;5;28;01mfrom\u001b[39;00m \u001b[38;5;28mNone\u001b[39m\n\u001b[0;32m    657\u001b[0m \u001b[38;5;28;01mtry\u001b[39;00m:\n\u001b[0;32m    658\u001b[0m     \u001b[38;5;28mnext\u001b[39m(iterator)\n",
      "\u001b[1;31mValueError\u001b[0m: No records found in handle"
     ]
    }
   ],
   "source": [
    "#Leitura da sequência\n",
    "record = SeqIO.read(handle, \"gb\")"
   ]
  },
  {
   "cell_type": "code",
   "execution_count": 17,
   "id": "f1f77ce1",
   "metadata": {},
   "outputs": [
    {
     "ename": "NameError",
     "evalue": "name 'record' is not defined",
     "output_type": "error",
     "traceback": [
      "\u001b[1;31m---------------------------------------------------------------------------\u001b[0m",
      "\u001b[1;31mNameError\u001b[0m                                 Traceback (most recent call last)",
      "Cell \u001b[1;32mIn[17], line 1\u001b[0m\n\u001b[1;32m----> 1\u001b[0m seq \u001b[38;5;241m=\u001b[39m \u001b[43mrecord\u001b[49m\u001b[38;5;241m.\u001b[39mseq\n\u001b[0;32m      2\u001b[0m seq\n",
      "\u001b[1;31mNameError\u001b[0m: name 'record' is not defined"
     ]
    }
   ],
   "source": [
    "seq = record.seq\n",
    "print(seq)\n",
    "print(len(seq))"
   ]
  },
  {
   "cell_type": "code",
   "execution_count": null,
   "id": "19792125",
   "metadata": {},
   "outputs": [],
   "source": [
    "#ID\n",
    "print(record.id)\n",
    "#Nome\n",
    "print(record.name)\n",
    "#Descrição\n",
    "print(record.description)"
   ]
  },
  {
   "cell_type": "markdown",
   "id": "ca87c8a4",
   "metadata": {},
   "source": [
    "* Verificar as anotações correspondentes aos genes de interesse"
   ]
  },
  {
   "cell_type": "code",
   "execution_count": null,
   "id": "6302e3fe",
   "metadata": {},
   "outputs": [],
   "source": [
    "print(len(record.annotations) )\n",
    "print(record.annotations[\"source\"] )"
   ]
  },
  {
   "cell_type": "markdown",
   "id": "d22a8cbb",
   "metadata": {},
   "source": [
    "* Verificar e analisar a informação complementar fornecida pela lista de *features* e seus *qualifiers*"
   ]
  },
  {
   "cell_type": "code",
   "execution_count": null,
   "id": "a6861a81",
   "metadata": {},
   "outputs": [],
   "source": [
    "print(len(record.features))\n",
    "\n",
    "print(record.features))\n"
   ]
  },
  {
   "cell_type": "code",
   "execution_count": null,
   "id": "0b5c722e",
   "metadata": {},
   "outputs": [],
   "source": [
    "print(len(record.qualifiers))\n",
    "\n",
    "print(record.qualifiers))\n"
   ]
  }
 ],
 "metadata": {
  "kernelspec": {
   "display_name": "Python 3",
   "language": "python",
   "name": "python3"
  },
  "language_info": {
   "codemirror_mode": {
    "name": "ipython",
    "version": 3
   },
   "file_extension": ".py",
   "mimetype": "text/x-python",
   "name": "python",
   "nbconvert_exporter": "python",
   "pygments_lexer": "ipython3",
   "version": "3.10.11"
  }
 },
 "nbformat": 4,
 "nbformat_minor": 5
}
