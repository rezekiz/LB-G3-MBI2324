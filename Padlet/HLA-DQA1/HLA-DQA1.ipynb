{
 "cells": [
  {
   "cell_type": "markdown",
   "id": "13616f93",
   "metadata": {},
   "source": [
    "# Ferramentes de Análise das Propriedades da Proteína\n",
    "> # HLA - DQA1"
   ]
  },
  {
   "cell_type": "markdown",
   "id": "3e7c744a",
   "metadata": {},
   "source": [
    "## Localização Subcelular"
   ]
  },
  {
   "cell_type": "markdown",
   "id": "a0297d28",
   "metadata": {},
   "source": [
    "![alttext](Localizacao_DQA1.png)"
   ]
  },
  {
   "cell_type": "markdown",
   "id": "24a1f93f",
   "metadata": {},
   "source": [
    "Observando a imagem obtida no **UniProt**, é possível perceber qual a localização da proteína nas células. \n",
    "\n",
    "Neste caso, a proteína enconta-se na:\n",
    "\n",
    "> **1.** Membrana Celular\n",
    "\n",
    "> **2.** Membrana do Retículo Endoplasmático\n",
    "\n",
    "> **3.** Membrana que envolve o Complexo de Golgi\n",
    "\n",
    "> **4.** Membrana do Endossoma\n",
    "\n",
    "> **5.** Membrana do Lisossoma\n"
   ]
  },
  {
   "cell_type": "markdown",
   "id": "97921761",
   "metadata": {},
   "source": [
    "## Estrutura da Proteína\n"
   ]
  },
  {
   "cell_type": "markdown",
   "id": "537b63ef",
   "metadata": {},
   "source": [
    "> ### Estrutura Terciária"
   ]
  },
  {
   "cell_type": "markdown",
   "id": "e4fd47f1",
   "metadata": {},
   "source": [
    "![alttext](Estrutura_DQA1.png)"
   ]
  },
  {
   "cell_type": "markdown",
   "id": "5ec31869",
   "metadata": {},
   "source": [
    "Recorrendo ao **AlphaFold**, obteve-se a estrutura terciária da proteína. \n",
    "\n",
    "A estrutura é muito fiavél visto que apresenta uma taxa de confiança de aproximadamente 97%."
   ]
  },
  {
   "cell_type": "markdown",
   "id": "3bf7626f",
   "metadata": {},
   "source": [
    "## Domínios Transmembranares"
   ]
  },
  {
   "cell_type": "markdown",
   "id": "947803fd",
   "metadata": {},
   "source": [
    "![alttext](Phobius_DQA1.png)"
   ]
  },
  {
   "cell_type": "markdown",
   "id": "8dc90525",
   "metadata": {},
   "source": [
    "Utilizando o **Phobius**, é possível perceber que a proteína HLA-DQA1 possui apenas um domínio transmembranar."
   ]
  },
  {
   "cell_type": "markdown",
   "id": "e1a5b604",
   "metadata": {},
   "source": [
    "## Modificações Pós Traducionais"
   ]
  },
  {
   "cell_type": "markdown",
   "id": "59faab02",
   "metadata": {},
   "source": [
    "Para prever as modificações pós traducionais, foi utilizado o **NetPhos** (Fosforilação) e o **NetNGlyc** (N-Glicosilação)."
   ]
  },
  {
   "cell_type": "markdown",
   "id": "20f4a1e7",
   "metadata": {},
   "source": [
    "> ### Locais de Fosforilação"
   ]
  },
  {
   "cell_type": "markdown",
   "id": "6ac7f109",
   "metadata": {},
   "source": [
    "![alttext](NetPhos_DQA1.png)"
   ]
  },
  {
   "cell_type": "markdown",
   "id": "95ab44c5",
   "metadata": {},
   "source": [
    "A proteína HLA-DQA1 possui vários locais de fosforilação previstos."
   ]
  },
  {
   "cell_type": "markdown",
   "id": "159192ba",
   "metadata": {},
   "source": [
    "> ### Locais de N-Glicosilação"
   ]
  },
  {
   "cell_type": "markdown",
   "id": "54d308ec",
   "metadata": {},
   "source": [
    "![alttext](Glic_DQA1.png)"
   ]
  },
  {
   "cell_type": "markdown",
   "id": "a5987d6b",
   "metadata": {},
   "source": [
    "A proteína HLA-DQA1 possui 2 locais de glicosilação previstos."
   ]
  },
  {
   "cell_type": "markdown",
   "id": "8d0cf085",
   "metadata": {},
   "source": [
    "## Interação do HLA-DQA1 com outras proteínas"
   ]
  },
  {
   "cell_type": "markdown",
   "id": "49bdd8fc",
   "metadata": {},
   "source": [
    "![alttext](string_hires_dqa1.png)"
   ]
  },
  {
   "cell_type": "markdown",
   "id": "f072a14d",
   "metadata": {},
   "source": [
    "Através da utilização do **String**, foi possível analisar que a proteína HLA-DQA1 interage com várias proteínas, possuindo como principais parceiros funcionais previstos as proteínas: \n",
    "\n",
    "> **1.** HLA-DQB1 (score = 0.999)\n",
    "\n",
    "> **2.** CD74 (score = 0.994) \n",
    "\n",
    "> **3.** HLA-DRB1 (score = 0.991)"
   ]
  }
 ],
 "metadata": {
  "kernelspec": {
   "display_name": "Python 3 (ipykernel)",
   "language": "python",
   "name": "python3"
  },
  "language_info": {
   "codemirror_mode": {
    "name": "ipython",
    "version": 3
   },
   "file_extension": ".py",
   "mimetype": "text/x-python",
   "name": "python",
   "nbconvert_exporter": "python",
   "pygments_lexer": "ipython3",
   "version": "3.11.5"
  }
 },
 "nbformat": 4,
 "nbformat_minor": 5
}
