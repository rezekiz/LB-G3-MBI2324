{
 "cells": [
  {
   "cell_type": "markdown",
   "metadata": {},
   "source": [
    "# Implementação de módulos BioPython para a realização de BLAST remoto\n",
    "\n",
    "Para realizar a **análise de homologias da proteína com recurso ao algoritmo BLAST** foi desenvolvida uma aplicação com recurso ao módulo BLAST do *package* BioPython.\n",
    "\n",
    "Esta função, à semelhança das outras funções desenvolvidas pelo nosso grupo oferece uma forma fácil e flexível de executar uma análise por BLAST NCBI remotamente e guardar os resultados, se pretendido. \n",
    "\n",
    "Neste caso a função, por defeito, recebe um ficheiro com uma sequência de aminoácidos em formato FASTA e executa um *Protein BLAST* remoto contra a base de dados `nr` (non-redundant), recorrendo à [API do BLAST NCBI](https://ncbi.github.io/blast-cloud/dev/api.html) implementada pelo BioPython. \n",
    "\n",
    "A função permite todavia permite realizar diferentes tipos de BLAST contra diferentes tipos de bases de dados. Por exemplo, podemos selecionar:\n",
    "\n",
    "Diferentes tipos de BLAST:\n",
    "\n",
    "* blastn, \n",
    "* blastp, \n",
    "* blastx, \n",
    "* tblastn, ou\n",
    "* tblastx\n",
    "\n",
    "Diferentes bases de dados:\n",
    "\n",
    "* swiss\n",
    "* nt\n",
    "* refseq_rna\t\n",
    "* refseq_protein\t\n",
    "* swissprot\n",
    "* pdbaa\t\n",
    "* pdbnt"
   ]
  },
  {
   "cell_type": "markdown",
   "metadata": {},
   "source": [
    "## Função **blast_remoto** aplicada\n",
    "\n"
   ]
  },
  {
   "cell_type": "code",
   "execution_count": null,
   "metadata": {},
   "outputs": [],
   "source": [
    "blast_remoto('HLA-DQA1.fasta', save ='y')"
   ]
  },
  {
   "cell_type": "markdown",
   "metadata": {},
   "source": [
    "Ao invocar a função supra, é realizado o BLAST que compara a sequência providenciada no ficheiro FASTA, obtida através da aplicação da função **pesquisa_ncbi** feita à base de dados `protein`.\n",
    "\n",
    "Este ficheiro pode ser processado abaixo com a função **resultado_blast** que permite fazer uma análise dos resultados com diferentes graus de detalhes."
   ]
  },
  {
   "cell_type": "markdown",
   "metadata": {},
   "source": [
    "## A função **resultado_blast**\n",
    "\n",
    "Esta função permite, com diferentes níveis de detalhe, analisar os resultados obtidos ao realizar o BLAST utilizando a função supraindicada. Esta função consome o ficheiro em formato XML gerado pela função **blast_remoto** e processa a informação nele contida devolvendo um conjunto de indicadores sobre a análise BLAST realizada, nomeadamente os parâmetros da análise (base de dados, matriz de substituição, *gap penalties* e número de hits obtidos). \n",
    "\n",
    "Esta função serve de passo preparatório para análise dos resultados e a pesquisa de homologias por BLAST a realizar pelas funções seguintes.\n",
    "\n",
    "Demonstra-se abaixo a invocação desta função:\n"
   ]
  },
  {
   "cell_type": "code",
   "execution_count": null,
   "metadata": {},
   "outputs": [
    {
     "name": "stdout",
     "output_type": "stream",
     "text": [
      "Operação concluída.\n",
      "\n",
      "PARAMETROS:\n",
      "Database -  swissprot\n",
      "Matrix -  BLOSUM62\n",
      "Gap penalties -  (11, 1)\n",
      "Número de Hits:  50\n"
     ]
    }
   ],
   "source": [
    "blast = resultado_blast('blast.xml')"
   ]
  },
  {
   "cell_type": "markdown",
   "metadata": {},
   "source": [
    "Ao analisar o *output* da função podemos verificar que esta análise BLAST foi realizada contra a base de dados `swissprot` utilizando a matriz de substituição `BLOSUM62` tendo sido encontrados 50 sequências candidatas a serem homólogas à sequência em estudo."
   ]
  },
  {
   "cell_type": "markdown",
   "metadata": {},
   "source": [
    "## Funções **alinhamentos** e **primeiro_alinhamento**\n",
    "\n",
    "Este conjunto de funções itera sobre o conjunto de resultados obtidos na aplicação da função **resultados_blast**. Por defeito esta função devolve os `5` primeiros hits obtidos, no entando é possível visualizar um maior número de hits através do parâmetro `num_alinhamentos`. \n",
    "\n",
    "Demonstramos abaixo a aplicação desta função para 3 alinhamentos:"
   ]
  },
  {
   "cell_type": "code",
   "execution_count": null,
   "metadata": {},
   "outputs": [
    {
     "name": "stdout",
     "output_type": "stream",
     "text": [
      "Alinhamento 1:\n",
      "Sequence:  sp|P01909.1| RecName: Full=HLA class II histocompatibility antigen, DQ alpha 1 chain; AltName: Full=DC-1 alpha chain; AltName: Full=DC-alpha; AltName: Full=HLA-DCA; AltName: Full=MHC class II DQA1; Flags: Precursor [Homo sapiens]\n",
      "Accession:  P01909\n",
      "Definition:  RecName: Full=HLA class II histocompatibility antigen, DQ alpha 1 chain; AltName: Full=DC-1 alpha chain; AltName: Full=DC-alpha; AltName: Full=HLA-DCA; AltName: Full=MHC class II DQA1; Flags: Precursor [Homo sapiens]\n",
      "E-Value:  1.14403e-164\n",
      "\n",
      "\n",
      "Alinhamento 2:\n",
      "Sequence:  sp|P01906.2| RecName: Full=HLA class II histocompatibility antigen, DQ alpha 2 chain; AltName: Full=DX alpha chain; AltName: Full=HLA class II histocompatibility antigen, DQ(6) alpha chain; AltName: Full=HLA-DQA1; AltName: Full=MHC class II DQA2; Flags: Precursor [Homo sapiens]\n",
      "Accession:  P01906\n",
      "Definition:  RecName: Full=HLA class II histocompatibility antigen, DQ alpha 2 chain; AltName: Full=DX alpha chain; AltName: Full=HLA class II histocompatibility antigen, DQ(6) alpha chain; AltName: Full=HLA-DQA1; AltName: Full=MHC class II DQA2; Flags: Precursor [Homo sapiens]\n",
      "E-Value:  3.67159e-157\n",
      "\n",
      "\n",
      "Alinhamento 3:\n",
      "Sequence:  sp|P15981.1| RecName: Full=SLA class II histocompatibility antigen, DQ haplotype D alpha chain; Flags: Precursor [Sus scrofa]\n",
      "Accession:  P15981\n",
      "Definition:  RecName: Full=SLA class II histocompatibility antigen, DQ haplotype D alpha chain; Flags: Precursor [Sus scrofa]\n",
      "E-Value:  6.20259e-152\n",
      "\n",
      "\n",
      "Alinhamento 4:\n",
      "Sequence:  sp|P15980.1| RecName: Full=SLA class II histocompatibility antigen, DQ haplotype C alpha chain; Flags: Precursor [Sus scrofa]\n",
      "Accession:  P15980\n",
      "Definition:  RecName: Full=SLA class II histocompatibility antigen, DQ haplotype C alpha chain; Flags: Precursor [Sus scrofa]\n",
      "E-Value:  3.52589e-148\n",
      "\n",
      "\n",
      "Alinhamento 5:\n",
      "Sequence:  sp|P20037.1| RecName: Full=Rano class II histocompatibility antigen, B alpha chain; AltName: Full=RT1 class II antigen, Ba chain; Flags: Precursor [Rattus norvegicus]\n",
      "Accession:  P20037\n",
      "Definition:  RecName: Full=Rano class II histocompatibility antigen, B alpha chain; AltName: Full=RT1 class II antigen, Ba chain; Flags: Precursor [Rattus norvegicus]\n",
      "E-Value:  2.73784e-142\n",
      "\n",
      "\n",
      "Alinhamento 6:\n",
      "Sequence:  sp|P14434.2| RecName: Full=H-2 class II histocompatibility antigen, A-B alpha chain; Short=IAalpha; Flags: Precursor [Mus musculus]\n",
      "Accession:  P14434\n",
      "Definition:  RecName: Full=H-2 class II histocompatibility antigen, A-B alpha chain; Short=IAalpha; Flags: Precursor [Mus musculus]\n",
      "E-Value:  1.52369e-133\n",
      "\n",
      "\n",
      "Alinhamento 7:\n",
      "Sequence:  sp|P01910.2| RecName: Full=H-2 class II histocompatibility antigen, A-K alpha chain; Flags: Precursor [Mus musculus]\n",
      "Accession:  P01910\n",
      "Definition:  RecName: Full=H-2 class II histocompatibility antigen, A-K alpha chain; Flags: Precursor [Mus musculus]\n",
      "E-Value:  2.87616e-133\n",
      "\n",
      "\n",
      "Alinhamento 8:\n",
      "Sequence:  sp|P04228.1| RecName: Full=H-2 class II histocompatibility antigen, A-D alpha chain; Flags: Precursor [Mus musculus]\n",
      "Accession:  P04228\n",
      "Definition:  RecName: Full=H-2 class II histocompatibility antigen, A-D alpha chain; Flags: Precursor [Mus musculus]\n",
      "E-Value:  4.30331e-132\n",
      "\n",
      "\n",
      "Alinhamento 9:\n",
      "Sequence:  sp|P23150.1| RecName: Full=H-2 class II histocompatibility antigen, I-E alpha chain; Flags: Precursor [Mus musculus]\n",
      "Accession:  P23150\n",
      "Definition:  RecName: Full=H-2 class II histocompatibility antigen, I-E alpha chain; Flags: Precursor [Mus musculus]\n",
      "E-Value:  4.81902e-131\n",
      "\n",
      "\n",
      "Alinhamento 10:\n",
      "Sequence:  sp|P14436.1| RecName: Full=H-2 class II histocompatibility antigen, A-R alpha chain [Mus musculus]\n",
      "Accession:  P14436\n",
      "Definition:  RecName: Full=H-2 class II histocompatibility antigen, A-R alpha chain [Mus musculus]\n",
      "E-Value:  3.42626e-124\n",
      "\n",
      "\n"
     ]
    }
   ],
   "source": [
    "alinhamentos(blast, 10)"
   ]
  },
  {
   "cell_type": "markdown",
   "metadata": {},
   "source": [
    "Ao analisar os resultados obtidos pela aplicação do BLAST contra a base de dados da SwissProt, é possível que identificar uma série de possíveis sequências homólogas tanto em *Homo sapiens*, como é o caso do alinhamento número 2 - que identifica o gene HLA-DQA2, como noutras espécies, nomeadamente o gene SLA *Sus scrofa* (javali), RT1 *Rattus norvegicus* (ratazana) e H-2 *Mus musculus* (murganho). \n",
    "\n",
    "O primeiro alinhamento obtido é o gene alinhado consigo próprio. Embora este resultado faça sentido do ponte de vista do alinhamento, não é muito útil e é representativo de uma dos pontos fracos da utilização de uma base de dados única (SwissProt neste caso) em vez de uma base mais alargada como é o caso da `nr`.\n",
    "\n",
    "De forma a aprofundar e comparar estes resultados, foi também realizado um BLAST com recurso à base de dados `nr`, online, para a comparação de resultados."
   ]
  },
  {
   "cell_type": "code",
   "execution_count": null,
   "metadata": {},
   "outputs": [
    {
     "name": "stdout",
     "output_type": "stream",
     "text": [
      "Alinhamento 1:\n",
      "Sequence:  ref|XP_054185776.1| HLA class II histocompatibility antigen, DQ alpha 1 chain isoform X2 [Homo sapiens] >ref|XP_054185777.1| HLA class II histocompatibility antigen, DQ alpha 1 chain isoform X2 [Homo sapiens] >ref|XP_054187030.1| HLA class II histocompatibility antigen, DQ alpha 1 chain isoform X2 [Homo sapiens] >ref|XP_054187031.1| HLA class II histocompatibility antigen, DQ alpha 1 chain isoform X2 [Homo sapiens] >sp|P01909.1| RecName: Full=HLA class II histocompatibility antigen, DQ alpha 1 chain; AltName: Full=DC-1 alpha chain; AltName: Full=DC-alpha; AltName: Full=HLA-DCA; AltName: Full=MHC class II DQA1; Flags: Precursor [Homo sapiens] >gb|ABM82461.1| major histocompatibility complex, class II, DQ alpha 1 [synthetic construct] >emb|SJX31386.1| unnamed protein product, partial [Human ORFeome Gateway entry vector] >gb|AAB91990.1| MHC class II DC-alpha [Homo sapiens] >gb|AAH08585.1| HLA-DQA1 protein [Homo sapiens] >gb|AAU87989.1| MHC class II antigen [Homo sapiens]\n",
      "Accession:  XP_054185776\n",
      "Definition:  HLA class II histocompatibility antigen, DQ alpha 1 chain isoform X2 [Homo sapiens] >ref|XP_054185777.1| HLA class II histocompatibility antigen, DQ alpha 1 chain isoform X2 [Homo sapiens] >ref|XP_054187030.1| HLA class II histocompatibility antigen, DQ alpha 1 chain isoform X2 [Homo sapiens] >ref|XP_054187031.1| HLA class II histocompatibility antigen, DQ alpha 1 chain isoform X2 [Homo sapiens] >sp|P01909.1| RecName: Full=HLA class II histocompatibility antigen, DQ alpha 1 chain; AltName: Full=DC-1 alpha chain; AltName: Full=DC-alpha; AltName: Full=HLA-DCA; AltName: Full=MHC class II DQA1; Flags: Precursor [Homo sapiens] >gb|ABM82461.1| major histocompatibility complex, class II, DQ alpha 1 [synthetic construct] >emb|SJX31386.1| unnamed protein product, partial [Human ORFeome Gateway entry vector] >gb|AAB91990.1| MHC class II DC-alpha [Homo sapiens] >gb|AAH08585.1| HLA-DQA1 protein [Homo sapiens] >gb|AAU87989.1| MHC class II antigen [Homo sapiens]\n",
      "E-Value:  0.0\n",
      "\n",
      "\n",
      "Alinhamento 2:\n",
      "Sequence:  gb|WAB06226.1| MHC class II antigen [Homo sapiens]\n",
      "Accession:  WAB06226\n",
      "Definition:  MHC class II antigen [Homo sapiens]\n",
      "E-Value:  0.0\n",
      "\n",
      "\n",
      "Alinhamento 3:\n",
      "Sequence:  gb|QXU63155.1| MHC class II antigen [Homo sapiens]\n",
      "Accession:  QXU63155\n",
      "Definition:  MHC class II antigen [Homo sapiens]\n",
      "E-Value:  0.0\n",
      "\n",
      "\n",
      "Alinhamento 4:\n",
      "Sequence:  emb|CAI9865624.1| MHC class II antigen [Homo sapiens]\n",
      "Accession:  CAI9865624\n",
      "Definition:  MHC class II antigen [Homo sapiens]\n",
      "E-Value:  0.0\n",
      "\n",
      "\n",
      "Alinhamento 5:\n",
      "Sequence:  gb|WNE31522.1| MHC class II DQ alpha chain [Homo sapiens]\n",
      "Accession:  WNE31522\n",
      "Definition:  MHC class II DQ alpha chain [Homo sapiens]\n",
      "E-Value:  0.0\n",
      "\n",
      "\n",
      "Alinhamento 6:\n",
      "Sequence:  emb|SCW24583.1| MHC class II protein [Pan troglodytes] >emb|SCW24584.1| MHC class II protein [Pan troglodytes]\n",
      "Accession:  SCW24583\n",
      "Definition:  MHC class II protein [Pan troglodytes] >emb|SCW24584.1| MHC class II protein [Pan troglodytes]\n",
      "E-Value:  0.0\n",
      "\n",
      "\n",
      "Alinhamento 7:\n",
      "Sequence:  gb|QRN46972.1| MHC class II antigen [Homo sapiens]\n",
      "Accession:  QRN46972\n",
      "Definition:  MHC class II antigen [Homo sapiens]\n",
      "E-Value:  0.0\n",
      "\n",
      "\n",
      "Alinhamento 8:\n",
      "Sequence:  gb|UHY60386.1| MHC class II antigen [Homo sapiens]\n",
      "Accession:  UHY60386\n",
      "Definition:  MHC class II antigen [Homo sapiens]\n",
      "E-Value:  0.0\n",
      "\n",
      "\n",
      "Alinhamento 9:\n",
      "Sequence:  emb|SCW24582.1| MHC class II protein [Pan troglodytes]\n",
      "Accession:  SCW24582\n",
      "Definition:  MHC class II protein [Pan troglodytes]\n",
      "E-Value:  0.0\n",
      "\n",
      "\n",
      "Alinhamento 10:\n",
      "Sequence:  gb|QGN03600.1| MHC class II antigen [Homo sapiens] >emb|CAI9865618.1| MHC class II antigen [Homo sapiens] >emb|CCV19549.1| MHC class II antigen [Homo sapiens] >emb|CDG66212.1| MHC class II antigen [Homo sapiens] >emb|CDO39025.1| MHC class II antigen [Homo sapiens]\n",
      "Accession:  QGN03600\n",
      "Definition:  MHC class II antigen [Homo sapiens] >emb|CAI9865618.1| MHC class II antigen [Homo sapiens] >emb|CCV19549.1| MHC class II antigen [Homo sapiens] >emb|CDG66212.1| MHC class II antigen [Homo sapiens] >emb|CDO39025.1| MHC class II antigen [Homo sapiens]\n",
      "E-Value:  0.0\n",
      "\n",
      "\n"
     ]
    }
   ],
   "source": [
    "alinhamentos(blast_nr, 10)"
   ]
  },
  {
   "cell_type": "markdown",
   "metadata": {},
   "source": [
    "Ao analisar os resultados acima obtidos, podemos ver que há uma diferença notória nos resultados obtidos em função da base de dados selecionada. Nos resultados acima reparamos que existe uma quantidade considerável de proteínas homólogas (E-value = 0), todas do complexo principal de histocompatibilidade (MHC). É de notar que o primeiro resultado trata-se de uma isoforma do gene HLA-DQA1. Em termos de abrangência taxonómica, detaca-se a identificação de sequências homólogas para a espécie *Pan troglodytes* (Chimpanzé). \n",
    "\n",
    "Em jeito de conclusão, identificam-se sequências homólogas para o gene HLA-DQA1 com o Chimpanzé e possivelmente com o Javali, Murganho e Ratazana, o que poderá ter implicação para estudos experimentais sobre resposta imunitária e a criação de modelos.\n",
    "\n",
    "Estes resultados servem de base para uma análise mais aprofundanda recorrendo à versão *web* do BLAST e ao alinhamento múltiplo e criação de árvores filogenéticas.\n",
    "\n",
    "Para análise mais aprofundada sobre domínios conservados e abrangência conservada foi realizado o alinhamento múltiplo e construída a árvore filogenética para a identificação de regiões conservadas e abrangência taxonómica. \n",
    "\n",
    "Para os resultados obtidos contra a base de dados `swissprot`, utilizando como parâmetro de seleção o valor de E-Value superior a $2\\times10^{-10}$.\n",
    "\n",
    "As regiões conservadas identificáveis ao observar os resultados do alinhamento múltiplo encontram-se abaixo:\n",
    "\n",
    "|Pos<sub>i</sub> | Pos<sub>f</sub>|Espécies|\n",
    "|-|-|-|\n",
    "|90|156|(*Homo sapiens, Sus scrofa, Rattus norvegicus, Mus musculus, Macaca mulatta, Oryctolagus cuniculus*)|\n",
    "|159|209|(*Homo sapiens, Sus scrofa, Rattus norvegicus, Mus musculus, Macaca mulatta, Oryctolagus cuniculus*)|\n",
    "\n",
    "Embora também existam resultados que apontem para a semelhança na espécie *Equus caballus*, não iremos considerar como homóloga pois não há semelhança suficiente.\n",
    "\n",
    "Abaixo demonstramos a comparação entre as diferentes proteínas para as diferentes espécies.\n",
    "\n",
    "![](https://ruisousa.me/temp/homologs/hladqa1/swsalign.svg)\n",
    "\n",
    "No caso dos resultados da base de dados `nr` consideramos toda a sequência como homóloga. \n",
    "\n",
    "![](https://ruisousa.me/temp/homologs/hladqa1/nralign.svg)\n",
    "\n",
    "Para terminar, apresentamos as árvores filogenéticas com base na seleção de alinhamentos efetuada, para o BLAST contra a base de dados `swissprot` e `nr` respetivamente.\n",
    "A primeira incide sobretudo na diferença entre espécies com maior variedade/grupo taxonómico diferente, salientando a existência dos domínios conservados ao passo que a segunda permite perceber a existência destas sequências homólogas em diferentes espécies da família dos primatas.\n",
    "\n",
    "### Árvore filogenética para os resultados BLAST com a base de dados `swissprot`\n",
    "\n",
    "\n",
    "![](https://ruisousa.me/temp/homologs/hladqa1/sws-tree.png)\n",
    "\n",
    "\n",
    "### Árvore filogenética para os resultados BLAST com a base de dados `nr`\n",
    "\n",
    "\n",
    "![](https://ruisousa.me/temp/homologs/hladqa1/nr-tree.png)\n",
    "\n"
   ]
  }
 ],
 "metadata": {
  "kernelspec": {
   "display_name": "base",
   "language": "python",
   "name": "python3"
  },
  "language_info": {
   "codemirror_mode": {
    "name": "ipython",
    "version": 3
   },
   "file_extension": ".py",
   "mimetype": "text/x-python",
   "name": "python",
   "nbconvert_exporter": "python",
   "pygments_lexer": "ipython3",
   "version": "3.12.1"
  }
 },
 "nbformat": 4,
 "nbformat_minor": 2
}
