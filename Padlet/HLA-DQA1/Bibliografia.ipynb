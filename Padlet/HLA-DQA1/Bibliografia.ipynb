{
 "cells": [
  {
   "cell_type": "markdown",
   "metadata": {},
   "source": [
    "### Função **pesquisa_ncbi**"
   ]
  },
  {
   "cell_type": "markdown",
   "metadata": {},
   "source": [
    "Para realizar a **análise de literatura**, foi desenvolvida uma função com o objetivo de realizar a pesquisa de bibliografia na base de dados NCBI através do BioPython. Esta função oferece uma abordagem flexível uma vez que permite a adaptação de parâmetros conforme os objetivos desejados.\n",
    "\n",
    "A função escrita recebe um email e um termo de pesquisa como entrada, depois, oferece a capacidade de selecionar a base de dados desejada conforme o leque de bases de dados disponíveis. Por exemplo, podemos selecionar:\n",
    "\n",
    "- pubmed\n",
    "- gene\n",
    "- nuccore\n",
    "- protein\n",
    "- ...\n",
    "\n",
    "Além disso, o número de resultados que integram o output pode ser maleável, tal como o tipo de informação a ser extraído (como abstracts ou sequências genéticas) e também o formato do output. "
   ]
  },
  {
   "cell_type": "markdown",
   "metadata": {},
   "source": [
    "### Função **pesquisa_ncbi** aplicada\n",
    "\n",
    "Passando agora à utilização da função com os parâmetros pretendidos. Foi definido o email e o termo de pesquisa pretendido de forma a diminuir o espetro de resultados"
   ]
  },
  {
   "cell_type": "code",
   "execution_count": 3,
   "metadata": {},
   "outputs": [],
   "source": [
    "email = 'pg52648@alunos.uminho.pt'\n",
    "termo = 'hla-dqa1'"
   ]
  },
  {
   "cell_type": "code",
   "execution_count": null,
   "metadata": {},
   "outputs": [],
   "source": [
    "pesquisa_ncbi(email,termo)"
   ]
  },
  {
   "cell_type": "markdown",
   "metadata": {},
   "source": [
    "Dos 2011 resultados encontrados, foram processados processados somente 5 resultados uma vez que o retmax definido foi \"5\".\n",
    "\n",
    "O primeiro resultado apresentado é um artigo intitulado de \"The genome-wide association study of serum IgE levels demonstrated the shared \n",
    "genetic background in allergic diseases\", publicado em janeiro de 2024 na revista Clinical Immunology. O estudo foi conduzido por 8 autores que se encontram listados acima em conjunto com informação relevante sobre os mesmos.\n",
    "\n",
    "No final do output são também fornecidos tanto o DOI e o PMID.\n",
    "\n",
    "Podemos concluir que o output da função **pesquisa_ncbi** permite a extração de informações relevantes na análise dos genes a nível da análise de artigos científicos disponíveis em diversas bases de dados. "
   ]
  },
  {
   "cell_type": "markdown",
   "metadata": {},
   "source": [
    "### Flexibilidade da função pesquisa_ncbi\n",
    "\n",
    "Como foi descrito anteriormente, é possível adaptar os parâmetros da função de forma a atingir os objetivos esperados. Desta forma, é possível:\n",
    "\n",
    "- **Manipular quantidade de resultados processados**\n",
    "\n",
    "Podemos manipular a quantidade de resultados apresentados modificando o número do parâmetro \"retmax\". Na função seguinte foi alterado o parâmetro \"retmax\" para \"1\" de modo a ser processo um único resultado."
   ]
  },
  {
   "cell_type": "code",
   "execution_count": null,
   "metadata": {},
   "outputs": [],
   "source": [
    "pesquisa_ncbi(email,termo,retmax=1)"
   ]
  },
  {
   "cell_type": "markdown",
   "metadata": {},
   "source": [
    "Podemos observar que, dos 2011 resultados obtidos, apenas 1 foi processado.\n",
    "\n",
    "Para além da alteração da quantidade de resultados processados é igualmente possível realizar as seguintes manipulações da função:\n",
    "\n",
    "-  **Manipular o display do output**\n",
    "\n",
    "-  **Manipulação da gravação do ficheiro**\n",
    "\n",
    "A manipulação do display do output é alcançada através da alteração do parâmetro \"display\" e o modo de gravação dos resultados processados é feita através da alteração do parâmetro \"save\"."
   ]
  },
  {
   "cell_type": "code",
   "execution_count": null,
   "metadata": {},
   "outputs": [],
   "source": [
    "# Pesquisa com output, sem display legível e permitindo a gravação dos resultados processados\n",
    "pesquisa_ncbi(email,termo,save='y',display='n')"
   ]
  },
  {
   "cell_type": "markdown",
   "metadata": {},
   "source": [
    "Como podemos observar pelo resultado apresentado, não ocorreu o display legível dos resultados e o ficheiro foi gravado.\n",
    "\n",
    "Também é possível realizar a seguinte manipulação da função:\n",
    "\n",
    "- **Manipular bases de dados onde a pesquisa é efetuada**\n",
    "\n",
    "O parâmetro \"db\" pode ser alterado de forma a alterar a base de dados onde a pesquisa é realizada. No seguinte exemplo podemos observar que a base de dados selecionada para efeitos de pesquisa dos resultados foi a \"nuccore\"."
   ]
  },
  {
   "cell_type": "code",
   "execution_count": null,
   "metadata": {},
   "outputs": [],
   "source": [
    "# Pesquisa em base de dados de nucleotide/protein/gene\n",
    "pesquisa_ncbi(email,termo,db='nuccore')"
   ]
  },
  {
   "cell_type": "markdown",
   "metadata": {},
   "source": [
    "A execução da função pesquisa_ncbi para a base de dados 'nuccore' resultou na identificação de 1769 entradas relacionadas. Destas, foram processados os primeiros 5 resultados.\n",
    "\n",
    "O primeiro resultado apresentado é o registo com o Accession Number OY986031, correspondente a um alelo do gene do antígeno de classe II do MHC em Homo sapiens (HLA-DQA1).\n",
    "\n",
    "O output dos resultados da pesquisa na base de dados \"nuccore\" foi em formato \"genbank\". Nos resultados são incorporados detalhes característicos desse tipo de formato incluindo a origem da sequência, características e a própria sequência, sendo essas informações enriquecedoras no que toca ao aprofundamento da análise do gene em questão. \n"
   ]
  },
  {
   "cell_type": "markdown",
   "metadata": {},
   "source": [
    "### Transferência do ficheiro correspondente ao gene de interesse"
   ]
  },
  {
   "cell_type": "markdown",
   "metadata": {},
   "source": [
    "De forma a realizar a transferência do ficheiro correspondente ao gene de interesse, em primeiro lugar, foi efetuada uma pesquisa na base de dados \"gene\" de forma a identificar o ID do gene de interesse. "
   ]
  },
  {
   "cell_type": "code",
   "execution_count": null,
   "metadata": {},
   "outputs": [],
   "source": [
    "pesquisa_ncbi(email,\"HLA-DQA1\",db='gene',retmax=15)"
   ]
  },
  {
   "cell_type": "markdown",
   "metadata": {},
   "source": [
    "Através da análise do output da função anterior, podemos observar que o ID correspondente ao gene de interesse é o \"3117\". Assim, torna-se possível proceder à gravação do ficheiro de interesse. \n",
    "\n",
    "Utilizando a função **pesquisa_ncbi** e colocando os seguintes parâmetros na função:"
   ]
  },
  {
   "cell_type": "code",
   "execution_count": null,
   "metadata": {},
   "outputs": [],
   "source": [
    "pesquisa_ncbi(email,'3117',db='gene',rettype='gb',retmax=1,save='y',display='n')"
   ]
  },
  {
   "cell_type": "markdown",
   "metadata": {},
   "source": [
    "Foi gravado com sucesso o ficheiro pretendido.\n",
    "\n",
    "### Transferência do ficheiro correspondente à proteína de interesse\n",
    "\n",
    "Passando agora para a identificação e preparação de dados relacionados à proteína codificada pelo gene HLA-DQA1 para análises subsequentes. Utilizando a função pesquisa_ncbi, direcionamos a pesquisa para a base de dados 'protein' da NCBI, procurando recuperar informações específicas sobre a proteína de interesse."
   ]
  },
  {
   "cell_type": "code",
   "execution_count": null,
   "metadata": {},
   "outputs": [],
   "source": [
    "pesquisa_ncbi(email,'DQA1_HUMAN',db='protein')"
   ]
  },
  {
   "cell_type": "markdown",
   "metadata": {},
   "source": [
    "Como conseguimos obter o Accession Number da proteína codificada pelo gene de interesse, procedemos à gravação do ficheiro da mesma."
   ]
  },
  {
   "cell_type": "code",
   "execution_count": null,
   "metadata": {},
   "outputs": [],
   "source": [
    "pesquisa_ncbi(email,'P01909',db='protein',retmax=1,rettype='fasta',save='Y',display='n')"
   ]
  }
 ],
 "metadata": {
  "kernelspec": {
   "display_name": "Python 3 (ipykernel)",
   "language": "python",
   "name": "python3"
  },
  "language_info": {
   "codemirror_mode": {
    "name": "ipython",
    "version": 3
   },
   "file_extension": ".py",
   "mimetype": "text/x-python",
   "name": "python",
   "nbconvert_exporter": "python",
   "pygments_lexer": "ipython3",
   "version": "3.10.11"
  }
 },
 "nbformat": 4,
 "nbformat_minor": 2
}
