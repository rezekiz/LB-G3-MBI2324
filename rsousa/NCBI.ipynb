{
 "cells": [
  {
   "cell_type": "markdown",
   "id": "12a1543d",
   "metadata": {},
   "source": [
    "# Análise da sequência e das features presentes no NCBI"
   ]
  },
  {
   "cell_type": "markdown",
   "id": "a74c9a95",
   "metadata": {},
   "source": [
    "* Aceder ao NCBI e guardar os ficheiros correspondentes aos genes escolhidos"
   ]
  },
  {
   "cell_type": "code",
   "execution_count": 1,
   "id": "b8551b7f",
   "metadata": {},
   "outputs": [],
   "source": [
    "def guardar_ficheiro(email, basedados, id_gene, nome_ficheiro):\n",
    "    \n",
    "    import os\n",
    "    from Bio import SeqIO\n",
    "    from Bio import Entrez\n",
    "\n",
    "    Entrez.email = email\n",
    "    \n",
    "    filename = nome_ficheiro\n",
    "\n",
    "    if not os.path.isfile(filename):\n",
    "        net_handle = Entrez.efetch( db = basedados, id = id_gene, rettype=\"gb\", retmode=\"text\")\n",
    "        out_handle = open(filename, \"w\")\n",
    "        out_handle.write(net_handle.read())\n",
    "        out_handle.close()\n",
    "        net_handle.close()\n",
    "        diretoria = os.getcwd()\n",
    "        print(\"O ficheiro foi guardado com sucesso na seguinte diretoria:\", diretoria)\n",
    "\n",
    "    return "
   ]
  },
  {
   "cell_type": "code",
   "execution_count": 4,
   "id": "a1a20202",
   "metadata": {},
   "outputs": [
    {
     "name": "stdout",
     "output_type": "stream",
     "text": [
      "O ficheiro foi guardado com sucesso na seguinte diretoria: C:\\Users\\olive\\AppData\\Local\\Programs\\Microsoft VS Code\n"
     ]
    }
   ],
   "source": [
    "guardar_ficheiro(\"oliveira1mariana@hotmail.com\", \"nucleotide\",\"NC_000006\", \"NC_000006.gbk\")"
   ]
  },
  {
   "cell_type": "markdown",
   "id": "1ff7cc94",
   "metadata": {},
   "source": [
    "* Análise do ficheiro"
   ]
  },
  {
   "cell_type": "code",
   "execution_count": 2,
   "id": "5bc142cc",
   "metadata": {},
   "outputs": [],
   "source": [
    "def parsing(nome_ficheiro):\n",
    "\n",
    "    from Bio import SeqIO\n",
    "    \n",
    "    record = SeqIO.read(nome_ficheiro, \"genbank\")\n",
    "\n",
    "    print(\"ID do gene:\", record.id)\n",
    "\n",
    "    print(\"Nome do gene:\", record.name)\n",
    "\n",
    "    print(\"Descrição do gene\", record.description)\n",
    "\n",
    "    print(\"Comprimento da sequência:\", len(record.seq), \"bp\")\n",
    "\n",
    "    return"
   ]
  },
  {
   "cell_type": "code",
   "execution_count": 2,
   "id": "8f7cc6df",
   "metadata": {},
   "outputs": [
    {
     "name": "stdout",
     "output_type": "stream",
     "text": [
      "ID do gene: NC_000006.12\n",
      "Nome do gene: NC_000006\n",
      "Descrição do gene Homo sapiens chromosome 6, GRCh38.p14 Primary Assembly\n",
      "Comprimento da sequência: 170805979 bp\n"
     ]
    }
   ],
   "source": [
    "parsing(\"HLA-DQA1.gbk\")"
   ]
  },
  {
   "cell_type": "markdown",
   "id": "ca87c8a4",
   "metadata": {},
   "source": [
    "* Verificar as anotações correspondentes aos genes de interesse"
   ]
  },
  {
   "cell_type": "code",
   "execution_count": 4,
   "id": "9971b144",
   "metadata": {},
   "outputs": [],
   "source": [
    "def anot(nome_ficheiro):\n",
    "    \n",
    "    from Bio import SeqIO\n",
    "    \n",
    "    record = SeqIO.read(nome_ficheiro, \"genbank\")\n",
    "\n",
    "    print(\"Quantidade de anotações:\", len(record.annotations))\n",
    "\n",
    "    print()\n",
    "    \n",
    "    print(\"Lista de anotações:\")\n",
    "    \n",
    "    for anotacao in record.annotations:\n",
    "        print(anotacao, \"->\", record.annotations[anotacao])\n",
    "\n",
    "    return   \n"
   ]
  },
  {
   "cell_type": "code",
   "execution_count": 21,
   "id": "2629adba",
   "metadata": {},
   "outputs": [
    {
     "name": "stdout",
     "output_type": "stream",
     "text": [
      "Quantidade de anotações: 14\n",
      "\n",
      "Lista de anotações:\n",
      "molecule_type -> DNA\n",
      "topology -> linear\n",
      "data_file_division -> CON\n",
      "date -> 07-OCT-2023\n",
      "accessions -> ['NC_000006']\n",
      "sequence_version -> 12\n",
      "keywords -> ['RefSeq']\n",
      "source -> Homo sapiens (human)\n",
      "organism -> Homo sapiens\n",
      "taxonomy -> ['Eukaryota', 'Metazoa', 'Chordata', 'Craniata', 'Vertebrata', 'Euteleostomi', 'Mammalia', 'Eutheria', 'Euarchontoglires', 'Primates', 'Haplorrhini', 'Catarrhini', 'Hominidae', 'Homo']\n",
      "references -> [Reference(title='Finishing the euchromatic sequence of the human genome', ...), Reference(title='The DNA sequence and analysis of human chromosome 6', ...), Reference(title='Initial sequencing and analysis of the human genome', ...)]\n",
      "comment -> REFSEQ INFORMATION: The reference sequence is identical to\n",
      "CM000668.2.\n",
      "On Feb 3, 2014 this sequence version replaced NC_000006.11.\n",
      "Assembly Name: GRCh38.p14 Primary Assembly\n",
      "The DNA sequence is composed of genomic sequence, primarily\n",
      "finished clones that were sequenced as part of the Human Genome\n",
      "Project. PCR products and WGS shotgun sequence have been added\n",
      "where necessary to fill gaps or correct errors. All such additions\n",
      "are manually curated by GRC staff. For more information see:\n",
      "https://genomereference.org.\n",
      "structured_comment -> defaultdict(<class 'dict'>, {'Genome-Annotation-Data': {'Annotation Provider': 'NCBI RefSeq', 'Annotation Status': 'Updated annotation', 'Annotation Name': 'GCF_000001405.40-RS_2023_10', 'Annotation Pipeline': 'NCBI eukaryotic genome annotation pipeline', 'Annotation Software Version': '10.2', 'Annotation Method': 'Best-placed RefSeq; Gnomon; RefSeqFE; cmsearch; tRNAscan-SE', 'Features Annotated': 'Gene; mRNA; CDS; ncRNA', 'Annotation Date': '10/02/2023'}})\n",
      "contig -> join(gap(10000),gap(50000),NT_007592.16:1..58393888,gap(100000),NT_187199.1:1..1276046,gap(400000),NT_025741.16:1..110516045,gap(50000),gap(10000))\n"
     ]
    }
   ],
   "source": [
    "anot(\"HLA-DQA1.gbk\")"
   ]
  },
  {
   "cell_type": "markdown",
   "id": "d22a8cbb",
   "metadata": {},
   "source": [
    "* Verificar e analisar a informação complementar fornecida pela lista de *features* e seus *qualifiers*"
   ]
  },
  {
   "cell_type": "code",
   "execution_count": 5,
   "id": "a6861a81",
   "metadata": {},
   "outputs": [],
   "source": [
    "def features_qualifiers(nome_ficheiro):\n",
    "    \n",
    "    from Bio import SeqIO\n",
    "    \n",
    "    record = SeqIO.read(nome_ficheiro, \"genbank\")\n",
    "    \n",
    "    print(\"Quantidade de features:\", len(record.features))\n",
    "\n",
    "    for feature in record.features:\n",
    "        print(feature)\n",
    "    return\n"
   ]
  },
  {
   "cell_type": "code",
   "execution_count": 59,
   "id": "cc6823c2",
   "metadata": {},
   "outputs": [
    {
     "name": "stdout",
     "output_type": "stream",
     "text": [
      "Quantidade de features: 1\n",
      "type: source\n",
      "location: [0:170805979](+)\n",
      "qualifiers:\n",
      "    Key: chromosome, Value: ['6']\n",
      "    Key: db_xref, Value: ['taxon:9606']\n",
      "    Key: mol_type, Value: ['genomic DNA']\n",
      "    Key: organism, Value: ['Homo sapiens']\n",
      "\n"
     ]
    }
   ],
   "source": [
    "features_qualifiers(\"HLA-DQA1.gbk\")"
   ]
  },
  {
   "cell_type": "code",
   "execution_count": 9,
   "id": "b4b38a6a",
   "metadata": {},
   "outputs": [],
   "source": [
    "email = 'pg21019@alunos.uminho.pt'\n",
    "db = 'nucleotide'\n",
    "id_gene = 'OR557191'\n",
    "ext = '.gbk'\n",
    "filename = 'HLA-DQA2'+ext\n",
    "\n"
   ]
  },
  {
   "cell_type": "code",
   "execution_count": 10,
   "id": "939e2578",
   "metadata": {},
   "outputs": [
    {
     "name": "stdout",
     "output_type": "stream",
     "text": [
      "O ficheiro foi guardado com sucesso na seguinte diretoria: /Users/rsousa/Desktop/mbioinf-github/mbi2324-grupo-3-labs-bioinf/rsousa\n"
     ]
    }
   ],
   "source": [
    "guardar_ficheiro(email,db,id_gene,filename)"
   ]
  },
  {
   "cell_type": "code",
   "execution_count": 11,
   "id": "cfe570fb",
   "metadata": {},
   "outputs": [
    {
     "name": "stdout",
     "output_type": "stream",
     "text": [
      "ID do gene: OR557191.1\n",
      "Nome do gene: OR557191\n",
      "Descrição do gene Homo sapiens isolate PSCDA0402 MHC class II antigen (HLA-DQA2) gene, HLA-DQA2*01:05:01:01extended allele, complete cds\n",
      "Comprimento da sequência: 5232 bp\n"
     ]
    }
   ],
   "source": [
    "parsing(filename)"
   ]
  },
  {
   "cell_type": "code",
   "execution_count": 12,
   "id": "0b2ade9d",
   "metadata": {},
   "outputs": [
    {
     "name": "stdout",
     "output_type": "stream",
     "text": [
      "Quantidade de anotações: 12\n",
      "\n",
      "Lista de anotações:\n",
      "molecule_type -> DNA\n",
      "topology -> linear\n",
      "data_file_division -> PRI\n",
      "date -> 25-OCT-2023\n",
      "accessions -> ['OR557191']\n",
      "sequence_version -> 1\n",
      "keywords -> ['']\n",
      "source -> Homo sapiens (human)\n",
      "organism -> Homo sapiens\n",
      "taxonomy -> ['Eukaryota', 'Metazoa', 'Chordata', 'Craniata', 'Vertebrata', 'Euteleostomi', 'Mammalia', 'Eutheria', 'Euarchontoglires', 'Primates', 'Haplorrhini', 'Catarrhini', 'Hominidae', 'Homo']\n",
      "references -> [Reference(title='Direct Submission', ...)]\n",
      "structured_comment -> defaultdict(<class 'dict'>, {'Assembly-Data': {'Assembly Method': 'NGSengine v. 2.30.1.29498', 'Sequencing Technology': 'PacBio'}})\n"
     ]
    }
   ],
   "source": [
    "anot(filename)"
   ]
  },
  {
   "cell_type": "code",
   "execution_count": 14,
   "id": "aab721f1",
   "metadata": {},
   "outputs": [
    {
     "name": "stdout",
     "output_type": "stream",
     "text": [
      "Quantidade de features: 13\n",
      "type: source\n",
      "location: [0:5232](+)\n",
      "qualifiers:\n",
      "    Key: db_xref, Value: ['taxon:9606']\n",
      "    Key: isolate, Value: ['PSCDA0402']\n",
      "    Key: mol_type, Value: ['genomic DNA']\n",
      "    Key: organism, Value: ['Homo sapiens']\n",
      "\n",
      "type: gene\n",
      "location: [0:5232](+)\n",
      "qualifiers:\n",
      "    Key: allele, Value: ['HLA-DQA2*01:05:01:01extended']\n",
      "    Key: gene, Value: ['HLA-DQA2']\n",
      "\n",
      "type: mRNA\n",
      "location: join{[0:162](+), [3796:4045](+), [4428:4710](+), [4877:5232](+)}\n",
      "qualifiers:\n",
      "    Key: allele, Value: ['HLA-DQA2*01:05:01:01extended']\n",
      "    Key: gene, Value: ['HLA-DQA2']\n",
      "    Key: product, Value: ['MHC class II antigen']\n",
      "\n",
      "type: exon\n",
      "location: [0:162](+)\n",
      "qualifiers:\n",
      "    Key: allele, Value: ['HLA-DQA2*01:05:01:01extended']\n",
      "    Key: gene, Value: ['HLA-DQA2']\n",
      "    Key: number, Value: ['1']\n",
      "\n",
      "type: 5'UTR\n",
      "location: [0:80](+)\n",
      "qualifiers:\n",
      "    Key: allele, Value: ['HLA-DQA2*01:05:01:01extended']\n",
      "    Key: gene, Value: ['HLA-DQA2']\n",
      "\n",
      "type: CDS\n",
      "location: join{[80:162](+), [3796:4045](+), [4428:4710](+), [4877:5032](+)}\n",
      "qualifiers:\n",
      "    Key: allele, Value: ['HLA-DQA2*01:05:01:01extended']\n",
      "    Key: codon_start, Value: ['1']\n",
      "    Key: gene, Value: ['HLA-DQA2']\n",
      "    Key: product, Value: ['MHC class II antigen']\n",
      "    Key: protein_id, Value: ['WOF76037.1']\n",
      "    Key: translation, Value: ['MILNKALLLGALALTAVMSPCGGEDIVADHVASYGVNFYQSHGPSGQYTHEFDGDEEFYVDLEMKETVWQLPMFSKFISFDPQSALRNMAVGKHTLEFMMRQSNSTAATNEVPEVTVFSKFPVTLGQPNTLICLVDNIFPPVVNITWLSNGHSVTEGVSETSFLSKSDHSFFKISYLTFLPSADEIYDCKVEHWGLDEPLLKHWEPEIPAPMSELTETLVCALGLSVGLMGIVVGTVFIIQGLRSVGASRHQGLL']\n",
      "\n",
      "type: intron\n",
      "location: [162:3796](+)\n",
      "qualifiers:\n",
      "    Key: allele, Value: ['HLA-DQA2*01:05:01:01extended']\n",
      "    Key: gene, Value: ['HLA-DQA2']\n",
      "    Key: number, Value: ['1']\n",
      "\n",
      "type: exon\n",
      "location: [3796:4045](+)\n",
      "qualifiers:\n",
      "    Key: allele, Value: ['HLA-DQA2*01:05:01:01extended']\n",
      "    Key: gene, Value: ['HLA-DQA2']\n",
      "    Key: number, Value: ['2']\n",
      "\n",
      "type: intron\n",
      "location: [4045:4428](+)\n",
      "qualifiers:\n",
      "    Key: allele, Value: ['HLA-DQA2*01:05:01:01extended']\n",
      "    Key: gene, Value: ['HLA-DQA2']\n",
      "    Key: number, Value: ['2']\n",
      "\n",
      "type: exon\n",
      "location: [4428:4710](+)\n",
      "qualifiers:\n",
      "    Key: allele, Value: ['HLA-DQA2*01:05:01:01extended']\n",
      "    Key: gene, Value: ['HLA-DQA2']\n",
      "    Key: number, Value: ['3']\n",
      "\n",
      "type: intron\n",
      "location: [4710:4877](+)\n",
      "qualifiers:\n",
      "    Key: allele, Value: ['HLA-DQA2*01:05:01:01extended']\n",
      "    Key: gene, Value: ['HLA-DQA2']\n",
      "    Key: number, Value: ['3']\n",
      "\n",
      "type: exon\n",
      "location: [4877:5232](+)\n",
      "qualifiers:\n",
      "    Key: allele, Value: ['HLA-DQA2*01:05:01:01extended']\n",
      "    Key: gene, Value: ['HLA-DQA2']\n",
      "    Key: number, Value: ['4']\n",
      "\n",
      "type: 3'UTR\n",
      "location: [5032:5232](+)\n",
      "qualifiers:\n",
      "    Key: allele, Value: ['HLA-DQA2*01:05:01:01extended']\n",
      "    Key: gene, Value: ['HLA-DQA2']\n",
      "\n"
     ]
    }
   ],
   "source": [
    "features_qualifiers(filename)"
   ]
  },
  {
   "cell_type": "code",
   "execution_count": null,
   "id": "3c4fafec",
   "metadata": {},
   "outputs": [],
   "source": [
    "SeqIO"
   ]
  }
 ],
 "metadata": {
  "kernelspec": {
   "display_name": "Python 3",
   "language": "python",
   "name": "python3"
  },
  "language_info": {
   "codemirror_mode": {
    "name": "ipython",
    "version": 3
   },
   "file_extension": ".py",
   "mimetype": "text/x-python",
   "name": "python",
   "nbconvert_exporter": "python",
   "pygments_lexer": "ipython3",
   "version": "3.11.5"
  }
 },
 "nbformat": 4,
 "nbformat_minor": 5
}
