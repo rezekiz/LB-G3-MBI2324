{
 "cells": [
  {
   "cell_type": "markdown",
   "metadata": {},
   "source": [
    "Ferramentas de análise das propriedades da proteína\n",
    "\n",
    "Ao longo das aulas da unidade curricular foram estudadas algumas bases de dados e\n",
    "ferramentas que permitem consultar ou inferir algumas das propriedades de uma proteína de\n",
    "interesse.\n",
    "A base de dados UniProt permite aceder a toda a informação de um conjunto alargado de\n",
    "proteínas. Os ficheiros da SwissProt podem ser tratados automaticamente pelo BioPython (ver\n",
    "exemplos na secção 10.1 do tutorial).\n",
    "Note que os registos UniProt podem ter diferentes graus de revisão por parte dos curadores da\n",
    "base de dados, sendo nos casos em que o registo tenha sido manualmente curado uma fonte\n",
    "importante de informação.\n",
    "Por outro lado, a base de dados PDB contém informação sobre a estrutura das proteínas. Poderá\n",
    "efetuar pesquisas nesta base de dados no sentido de identificar proteínas de interesse que\n",
    "estejam presentes nesta base de dados. As proteínas de interesse podem ser analisadas\n",
    "identificando zonas de possível ligação de compostos que possam regular o seu funcionamento.\n",
    "Complementarmente, foram estudadas ferramentas que permitem inferir características da\n",
    "proteína com base na sua sequência, como sejam a sua localização celular, a existência de\n",
    "domínios transmembranares ou alterações pós-tradução relevantes. Todas estas ferramentas\n",
    "permitem dar pistas sobre as proteínas de interesse.\n",
    "Foram ainda abordadas bases de dados de domínios de proteínas, das quais se destaca a NCBI\n",
    "CDD (conserved domain database) do NCBI. Esta base de dados, ou outras similares, pode ser\n",
    "usada para confirmar a anotação de proteínas de interesse, sendo de particular utilidade quando\n",
    "subsistem dúvidas sobre a anotação, quer esta provenha da anotação original, quer provenha\n",
    "de resultados de homologia (e.g. BLAST). Por outro lado, permite a análise dos domínios\n",
    "presentes na proteína, de forma a poder caracterizar potenciais pontos de ligação de compostos\n",
    "e outras proteínas que possam inibir o funcionamento da proteína"
   ]
  }
 ],
 "metadata": {
  "language_info": {
   "name": "python"
  }
 },
 "nbformat": 4,
 "nbformat_minor": 2
}
