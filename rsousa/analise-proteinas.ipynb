{
 "cells": [
  {
   "cell_type": "markdown",
   "metadata": {},
   "source": [
    "Blueprint para construir a funlção mais tarde:\n",
    "\n",
    "- Fazemos lit_search na base de dados protein com retmax 1 para sacar só o primeiro resultado;\n",
    "- Sacamos o ID da proteína\n",
    "- Usamos o expasy get sprot max com o ID da proteína e criamos um dicionário com os diferentes aspetos (ID, etc e tal)\n",
    "- Por fim criamos o módulo para a análise dos conserved domains do NCBI e o PDB"
   ]
  },
  {
   "cell_type": "code",
   "execution_count": 2,
   "metadata": {},
   "outputs": [],
   "source": [
    "from Bio import SeqIO\n",
    "from Bio import ExPASy"
   ]
  },
  {
   "cell_type": "code",
   "execution_count": 3,
   "metadata": {},
   "outputs": [],
   "source": [
    "records = SeqIO.parse('HLA-DQA2.gbk','genbank')\n",
    "count   = SeqIO.write(records, 'HLA-DQA2.fasta', 'fasta') "
   ]
  },
  {
   "cell_type": "code",
   "execution_count": 4,
   "metadata": {},
   "outputs": [],
   "source": [
    "record = SeqIO.read(open('HLA-DQA2.fasta'), format = 'fasta')"
   ]
  },
  {
   "cell_type": "code",
   "execution_count": 5,
   "metadata": {},
   "outputs": [],
   "source": [
    "# Transcreve\n",
    "gene_rna = record.seq.transcribe()"
   ]
  },
  {
   "cell_type": "code",
   "execution_count": 6,
   "metadata": {},
   "outputs": [],
   "source": [
    "# Traduz\n",
    "gene_prota = gene_rna.translate()"
   ]
  },
  {
   "cell_type": "code",
   "execution_count": 9,
   "metadata": {},
   "outputs": [],
   "source": [
    "from collections import Counter\n",
    "amino_count = Counter(gene_prota)"
   ]
  },
  {
   "cell_type": "code",
   "execution_count": 14,
   "metadata": {},
   "outputs": [
    {
     "data": {
      "text/plain": [
       "Seq('FRFACLEVLTIALQLRAATAEAALGRR*S*TKLCCWGPSP*LP**APVEVKTLW...ITI')"
      ]
     },
     "execution_count": 14,
     "metadata": {},
     "output_type": "execute_result"
    }
   ],
   "source": [
    "gene_prota"
   ]
  },
  {
   "cell_type": "code",
   "execution_count": null,
   "metadata": {},
   "outputs": [],
   "source": []
  },
  {
   "cell_type": "code",
   "execution_count": 8,
   "metadata": {},
   "outputs": [],
   "source": [
    "# Limpa codoes stop\n",
    "prota = gene_prota.split('*')   "
   ]
  },
  {
   "cell_type": "code",
   "execution_count": 23,
   "metadata": {},
   "outputs": [],
   "source": [
    "from Bio.ExPASy import ScanProsite"
   ]
  },
  {
   "cell_type": "code",
   "execution_count": 29,
   "metadata": {},
   "outputs": [],
   "source": [
    "handle = ScanProsite.scan('DQB2_HUMAN')"
   ]
  },
  {
   "cell_type": "code",
   "execution_count": 30,
   "metadata": {},
   "outputs": [
    {
     "data": {
      "text/plain": [
       "[{'sequence_ac': 'P05538',\n",
       "  'sequence_id': 'DQB2_HUMAN',\n",
       "  'sequence_db': 'sp',\n",
       "  'start': 128,\n",
       "  'stop': 216,\n",
       "  'signature_ac': 'PS50835',\n",
       "  'signature_id': 'IG_LIKE',\n",
       "  'score': '11.334',\n",
       "  'level': '0'},\n",
       " {'sequence_ac': 'P05538',\n",
       "  'sequence_id': 'DQB2_HUMAN',\n",
       "  'sequence_db': 'sp',\n",
       "  'start': 202,\n",
       "  'stop': 208,\n",
       "  'signature_ac': 'PS00290',\n",
       "  'signature_id': 'IG_MHC',\n",
       "  'level_tag': '(0)'}]"
      ]
     },
     "execution_count": 30,
     "metadata": {},
     "output_type": "execute_result"
    }
   ],
   "source": [
    "ScanProsite.read(handle)"
   ]
  },
  {
   "cell_type": "code",
   "execution_count": 33,
   "metadata": {},
   "outputs": [
    {
     "data": {
      "text/plain": [
       "SeqRecord(seq=Seq('MSWKMALQIPGGFWAAAVTVMLVMLSTPVAEARDFPKDFLVQFKGMCYFTNGTE...LLH'), id='P05538', name='DQB2_HUMAN', description='RecName: Full=HLA class II histocompatibility antigen, DQ beta 2 chain; AltName: Full=HLA class II histocompatibility antigen, DX beta chain; AltName: Full=MHC class II antigen DQB2; Flags: Precursor;', dbxrefs=['EMBL:M29614', 'EMBL:M29615', 'EMBL:X87344', 'EMBL:AL671681', 'EMBL:AL672104', 'EMBL:AL713890', 'EMBL:BX296564', 'EMBL:CR936921', 'EMBL:BC031995', 'EMBL:M11136', 'EMBL:M24920', 'EMBL:M24921', 'EMBL:M24922', 'EMBL:M24923', 'CCDS:CCDS56419.1', 'PIR:D29312', 'PIR:G35058', 'RefSeq:NP_001185787.1', 'AlphaFoldDB:P05538', 'SMR:P05538', 'BioGRID:109365', 'IntAct:P05538', 'GlyCosmos:P05538', 'GlyGen:P05538', 'iPTMnet:P05538', 'PhosphoSitePlus:P05538', 'BioMuta:HLA-DQB2', 'DMDM:122271', 'jPOST:P05538', 'MassIVE:P05538', 'PeptideAtlas:P05538', 'ProteomicsDB:51844', 'ProteomicsDB:63828', 'Antibodypedia:53255', 'DNASU:3120', 'Ensembl:ENST00000399661.4', 'Ensembl:ENST00000411527.5', 'Ensembl:ENST00000426733.5', 'Ensembl:ENST00000430849.6', 'Ensembl:ENST00000432486.6', 'Ensembl:ENST00000438757.1', 'Ensembl:ENST00000456529.1', 'Ensembl:ENST00000457432.6', 'GeneID:3120', 'KEGG:hsa:3120', 'UCSC:uc003oby.5', 'AGR:HGNC:4945', 'CTD:3120', 'DisGeNET:3120', 'GeneCards:HLA-DQB2', 'HGNC:HGNC:4945', 'HPA:ENSG00000232629', 'MIM:615161', 'neXtProt:NX_P05538', 'OpenTargets:ENSG00000232629', 'VEuPathDB:HostDB:ENSG00000232629', 'GeneTree:ENSGT00940000154723', 'InParanoid:P05538', 'OrthoDB:3785866at2759', 'PhylomeDB:P05538', 'TreeFam:TF336626', 'PathwayCommons:P05538', 'Reactome:R-HSA-202424', 'Reactome:R-HSA-202427', 'Reactome:R-HSA-202430', 'Reactome:R-HSA-202433', 'Reactome:R-HSA-2132295', 'Reactome:R-HSA-389948', 'Reactome:R-HSA-877300', 'SignaLink:P05538', 'SIGNOR:P05538', 'BioGRID-ORCS:3120', 'ChiTaRS:HLA-DQB2', 'GeneWiki:HLA-DQB2', 'GenomeRNAi:3120', 'Pharos:P05538', 'PRO:PR:P05538', 'Proteomes:UP000005640', 'RNAct:P05538', 'Bgee:ENSG00000232629', 'ExpressionAtlas:P05538', 'Genevisible:P05538', 'GO:GO:0030669', 'GO:GO:0030666', 'GO:GO:0012507', 'GO:GO:0000139', 'GO:GO:0031902', 'GO:GO:0098553', 'GO:GO:0005765', 'GO:GO:0042613', 'GO:GO:0005886', 'GO:GO:0032588', 'GO:GO:0030658', 'GO:GO:0023026', 'GO:GO:0032395', 'GO:GO:0042605', 'GO:GO:0002250', 'GO:GO:0019886', 'GO:GO:0006955', 'GO:GO:0002503', 'GO:GO:0050778', 'GO:GO:0050870', 'CDD:cd21001', 'Gene3D:2.60.40.10', 'InterPro:IPR007110', 'InterPro:IPR036179', 'InterPro:IPR013783', 'InterPro:IPR003006', 'InterPro:IPR003597', 'InterPro:IPR011162', 'InterPro:IPR014745', 'InterPro:IPR000353', 'PANTHER:PTHR19944:SF68', 'PANTHER:PTHR19944', 'Pfam:PF07654', 'Pfam:PF00969', 'SMART:SM00407', 'SMART:SM00921', 'SUPFAM:SSF48726', 'SUPFAM:SSF54452', 'PROSITE:PS50835', 'PROSITE:PS00290'])"
      ]
     },
     "execution_count": 33,
     "metadata": {},
     "output_type": "execute_result"
    }
   ],
   "source": [
    "handle = ExPASy.get_sprot_raw('DQB2_HUMAN')\n",
    "seq_record = SeqIO.read(handle,'swiss')\n",
    "seq_record"
   ]
  },
  {
   "cell_type": "code",
   "execution_count": null,
   "metadata": {},
   "outputs": [],
   "source": [
    "id."
   ]
  },
  {
   "cell_type": "code",
   "execution_count": null,
   "metadata": {},
   "outputs": [],
   "source": []
  },
  {
   "cell_type": "code",
   "execution_count": null,
   "metadata": {},
   "outputs": [],
   "source": []
  },
  {
   "cell_type": "code",
   "execution_count": null,
   "metadata": {},
   "outputs": [],
   "source": [
    "# Partir para o módulo das análises\n",
    "\n",
    "handle = ExPASy.get_sprot_raw(\"P49286\")\n",
    "seq_record = SeqIO.read(handle, \"swiss\")\n",
    "id = seq_record.id\n",
    "seq = seq_record.seq\n",
    "tam = len(seq_record.seq)\n",
    "name = seq_record.name\n",
    "desc = seq_record.description\n",
    "com = seq_record.annotations[\"comment\"]\n",
    "taxon = seq_record.annotations[\"taxonomy\"]\n",
    "organism = seq_record.annotations[\"organism\"]\n",
    "key = seq_record.annotations[\"keywords\"]\n",
    "print(f\"ID {id} \\n Sequência: {seq} \\n Tamanho da sequência: {tam} bp\")\n",
    "print(f\"Nome: {name} \\n Descrição: {desc} \\n Taxonomia: {taxon} \\n Organismo: {organism} \\n Keywords: {key}\")"
   ]
  },
  {
   "cell_type": "code",
   "execution_count": null,
   "metadata": {},
   "outputs": [],
   "source": [
    "# Isto há de se cruzar com os blast records por isso aguardo essa componente do código."
   ]
  }
 ],
 "metadata": {
  "kernelspec": {
   "display_name": "Python 3",
   "language": "python",
   "name": "python3"
  },
  "language_info": {
   "codemirror_mode": {
    "name": "ipython",
    "version": 3
   },
   "file_extension": ".py",
   "mimetype": "text/x-python",
   "name": "python",
   "nbconvert_exporter": "python",
   "pygments_lexer": "ipython3",
   "version": "3.11.5"
  }
 },
 "nbformat": 4,
 "nbformat_minor": 2
}
