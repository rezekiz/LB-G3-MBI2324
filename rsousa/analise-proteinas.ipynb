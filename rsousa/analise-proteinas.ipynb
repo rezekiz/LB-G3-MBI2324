{
 "cells": [
  {
   "cell_type": "code",
   "execution_count": 1,
   "metadata": {},
   "outputs": [],
   "source": [
    "from Bio import SeqIO\n",
    "from Bio import ExPASy"
   ]
  },
  {
   "cell_type": "code",
   "execution_count": 5,
   "metadata": {},
   "outputs": [],
   "source": [
    "records = SeqIO.parse('HLA-DQA2.gbk','genbank')\n",
    "count   = SeqIO.write(records, 'HLA-DQA2.fasta', 'fasta') "
   ]
  },
  {
   "cell_type": "code",
   "execution_count": 6,
   "metadata": {},
   "outputs": [],
   "source": [
    "record = SeqIO.read(open('HLA-DQA2.fasta'), format = 'fasta')"
   ]
  },
  {
   "cell_type": "code",
   "execution_count": 9,
   "metadata": {},
   "outputs": [],
   "source": [
    "# Transcreve\n",
    "gene_rna = record.seq.transcribe()"
   ]
  },
  {
   "cell_type": "code",
   "execution_count": 10,
   "metadata": {},
   "outputs": [],
   "source": [
    "# Traduz\n",
    "gene_prota = gene_rna.translate()"
   ]
  },
  {
   "cell_type": "code",
   "execution_count": 13,
   "metadata": {},
   "outputs": [],
   "source": [
    "from collections import Counter\n",
    "amino_count = Counter(gene_prota)"
   ]
  },
  {
   "cell_type": "code",
   "execution_count": 15,
   "metadata": {},
   "outputs": [],
   "source": [
    "# Limpa codoes stop\n",
    "prota = gene_prota.split('*')   "
   ]
  },
  {
   "cell_type": "code",
   "execution_count": null,
   "metadata": {},
   "outputs": [],
   "source": [
    "handle = ExPASy.get_sprot_raw(\"P49286\")\n",
    "seq_record = SeqIO.read(handle, \"swiss\")\n",
    "id = seq_record.id\n",
    "seq = seq_record.seq\n",
    "tam = len(seq_record.seq)\n",
    "name = seq_record.name\n",
    "desc = seq_record.description\n",
    "com = seq_record.annotations[\"comment\"]\n",
    "taxon = seq_record.annotations[\"taxonomy\"]\n",
    "organism = seq_record.annotations[\"organism\"]\n",
    "key = seq_record.annotations[\"keywords\"]\n",
    "print(f\"ID {id} \\n Sequência: {seq} \\n Tamanho da sequência: {tam} bp\")\n",
    "print(f\"Nome: {name} \\n Descrição: {desc} \\n Taxonomia: {taxon} \\n Organismo: {organism} \\n Keywords: {key}\")"
   ]
  },
  {
   "cell_type": "code",
   "execution_count": null,
   "metadata": {},
   "outputs": [],
   "source": []
  }
 ],
 "metadata": {
  "kernelspec": {
   "display_name": "Python 3",
   "language": "python",
   "name": "python3"
  },
  "language_info": {
   "codemirror_mode": {
    "name": "ipython",
    "version": 3
   },
   "file_extension": ".py",
   "mimetype": "text/x-python",
   "name": "python",
   "nbconvert_exporter": "python",
   "pygments_lexer": "ipython3",
   "version": "3.11.5"
  }
 },
 "nbformat": 4,
 "nbformat_minor": 2
}
