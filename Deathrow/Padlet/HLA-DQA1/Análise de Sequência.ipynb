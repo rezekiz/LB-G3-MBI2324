{
 "cells": [
  {
   "cell_type": "markdown",
   "id": "12a1543d",
   "metadata": {},
   "source": [
    "# Análise da sequência e das features presentes no NCBI"
   ]
  },
  {
   "cell_type": "markdown",
   "id": "8e287150",
   "metadata": {},
   "source": [
    "### Transferência do ficheiro correspondente ao gene de interesse\n",
    "\n",
    "De forma a realizar a transferência do ficheiro correspondente ao gene de interesse, em primeiro lugar, foi efetuada uma pesquisa no NCBI de forma a identificar o Accesion Number do gene de interesse. \n",
    "\n",
    "**Accession Number**: NC_000006"
   ]
  },
  {
   "cell_type": "markdown",
   "id": "b8d78343",
   "metadata": {},
   "source": [
    "Assim, torna-se possível proceder à gravação do ficheiro de interesse. \n",
    "\n",
    "Utilizando a função **pesquisa_ncbi** e colocando os seguintes parâmetros na função:"
   ]
  },
  {
   "cell_type": "code",
   "execution_count": null,
   "id": "038dbcc2",
   "metadata": {},
   "outputs": [],
   "source": [
    "pesquisa_ncbi(email,'NC_000006',db='nuccore',rettype='gb',retmax=1,save='y',display='n')"
   ]
  },
  {
   "cell_type": "markdown",
   "id": "834b8985",
   "metadata": {},
   "source": [
    "Foi gravado com sucesso o ficheiro pretendido.\n",
    "\n",
    "### Transferência do ficheiro correspondente à proteína de interesse\n",
    "\n",
    "Passando agora para a identificação e preparação de dados relacionados à proteína codificada pelo gene HLA-DQA1 para análises subsequentes. Utilizando a função pesquisa_ncbi, direcionamos a pesquisa para a base de dados 'protein' da NCBI, procurando recuperar informações específicas sobre a proteína de interesse."
   ]
  },
  {
   "cell_type": "code",
   "execution_count": null,
   "id": "b81a413e",
   "metadata": {},
   "outputs": [],
   "source": [
    "pesquisa_ncbi(email,'DQA1_HUMAN',db='protein')"
   ]
  },
  {
   "cell_type": "markdown",
   "id": "d2f28670",
   "metadata": {},
   "source": [
    "Através do output gerado pela função conseguimos obter o Accession Number da proteína codificada pelo gene de interesse. Procedemos à gravação do ficheiro da mesma."
   ]
  },
  {
   "cell_type": "code",
   "execution_count": null,
   "id": "d74cb580",
   "metadata": {},
   "outputs": [],
   "source": [
    "pesquisa_ncbi(email,'P01909',db='protein',retmax=1,rettype='fasta',save='Y',display='n')"
   ]
  },
  {
   "cell_type": "markdown",
   "id": "1ff7cc94",
   "metadata": {},
   "source": [
    "### Análise da sequência"
   ]
  },
  {
   "cell_type": "markdown",
   "id": "ec26d2ae",
   "metadata": {},
   "source": [
    "Para realizar a análise da sequência genética, fez-me uma função denominada **parsing** que realiza a análise de um arquivo no formato GenBank, utilizando a biblioteca BioPython. Ao receber o nome do arquivo como parâmetro, a função utiliza o módulo SeqIO para realizar a leitura do conteúdo GenBank. De seguida, extrai as diversas informações relevantes sobre a sequência genética contida no arquivo.\n",
    "\n",
    "Os principais dados apresentados incluem o ID do gene, o nome do gene, a descrição associada à sequência e o comprimento da sequência em pares de bases (bp). "
   ]
  },
  {
   "cell_type": "code",
   "execution_count": 5,
   "id": "8f7cc6df",
   "metadata": {},
   "outputs": [
    {
     "name": "stdout",
     "output_type": "stream",
     "text": [
      "ID do gene: NC_000006.12\n",
      "Nome do gene: NC_000006\n",
      "Descrição do gene Homo sapiens chromosome 6, GRCh38.p14 Primary Assembly\n",
      "Comprimento da sequência: 170805979 bp\n"
     ]
    }
   ],
   "source": [
    "parsing(\"NC_000006.gbk\")"
   ]
  },
  {
   "cell_type": "markdown",
   "id": "ca87c8a4",
   "metadata": {},
   "source": [
    "### Verificação das anotações correspondentes aos genes de interesse"
   ]
  },
  {
   "cell_type": "markdown",
   "id": "f5cfd86f",
   "metadata": {},
   "source": [
    "A função **anot** foi desenvolvida para extrair e apresentar informações sobre as anotações contidas no arquivo GenBank sobre o gene de interesse, utilizando a biblioteca BioPython. Ao receber o nome do ficheiro como parâmetro, a função lê o conteúdo GenBank usando o módulo SeqIO.\n",
    "\n",
    "A função conta e dá como output a quantidade total de anotações presentes no ficheiro. Além disso, permite ter acesso a uma lista detalhada de cada anotação.\n"
   ]
  },
  {
   "cell_type": "code",
   "execution_count": null,
   "id": "2629adba",
   "metadata": {},
   "outputs": [],
   "source": [
    "anot(\"NC_000006.gbk\")"
   ]
  },
  {
   "cell_type": "markdown",
   "id": "7507ccab",
   "metadata": {},
   "source": [
    "### Output\n",
    "\n",
    "**Quantidade de Anotações**: Existem 14 anotações associadas a esta sequência genética.\n",
    "\n",
    "**Lista de Anotações**:\n",
    "\n",
    "- **molecule_type**: molécula é do tipo DNA.\n",
    "- **topology**: topologia linear.\n",
    "- **data_file_division**: divisão do arquivo de dados é CON.\n",
    "- **date**: data associada a esta sequência é 07 de outubro de 2023.\n",
    "- **accessions**: acesso à sequência é feito através do identificador 'NC_000006'.\n",
    "- **sequence_version**: versão da sequência é a 12.\n",
    "- **keywords**: sequência é marcada como 'RefSeq'.\n",
    "- **source**: *Homo sapiens* (humano).\n",
    "- **organism**: O organismo relacionado à sequência é *Homo sapiens*.\n",
    "- **taxonomy**: A classificação taxonómica detalhada do organismo.\n",
    "- **references**: lista de referências bibliográficas associadas à sequência.\n",
    "- **comment**: informação adicional relacionada à sequência, destacando que a sequência de referência é idêntica à CM000668.2."
   ]
  },
  {
   "cell_type": "markdown",
   "id": "d22a8cbb",
   "metadata": {},
   "source": [
    "### Verificação e análise da informação complementar fornecida pela lista de *features* e *qualifiers*"
   ]
  },
  {
   "cell_type": "markdown",
   "id": "bcd1ca09",
   "metadata": {},
   "source": [
    "Para realizar a análise da informação complementar foi implementada uma função denominada **features_qualifiers** que dá como output informação sobre as features da sequência de interesse bem como os qualifiers associados às mesmas."
   ]
  },
  {
   "cell_type": "code",
   "execution_count": 9,
   "id": "cc6823c2",
   "metadata": {},
   "outputs": [
    {
     "name": "stdout",
     "output_type": "stream",
     "text": [
      "Quantidade de features: 1\n",
      "type: source\n",
      "location: [0:170805979](+)\n",
      "qualifiers:\n",
      "    Key: chromosome, Value: ['6']\n",
      "    Key: db_xref, Value: ['taxon:9606']\n",
      "    Key: mol_type, Value: ['genomic DNA']\n",
      "    Key: organism, Value: ['Homo sapiens']\n",
      "\n"
     ]
    }
   ],
   "source": [
    "features_qualifiers(\"NC_000006.gbk\")"
   ]
  },
  {
   "cell_type": "markdown",
   "id": "d4e92cf0",
   "metadata": {},
   "source": [
    "A sequência analisada possui uma única feature do tipo \"source\", encontra-se portanto associada à origem da sequência e fornece informações importantes, conforme detalhado a seguir:\n",
    "\n",
    "- **Tipo de Feature**: \"source\"\n",
    "- **Localização**: A feature \"source\" abrange toda a extensão da sequência, indicando que vai do início (0) até a posição 170.805.979, com orientação positiva (+).\n",
    "\n",
    "- **Qualificadores**:\n",
    "    - **Cromossoma**: A sequência está localizada no cromossoma 6.\n",
    "    - **Referência de Base de Dados**: O número de referência da sequência está vinculado ao identificador de taxonomia 9606.\n",
    "    - **Tipo Molecular**: A molécula é classificada como DNA genómico.\n",
    "    - **Organismo**: O organismo associado à sequência é o *Homo sapiens*."
   ]
  }
 ],
 "metadata": {
  "kernelspec": {
   "display_name": "Python 3 (ipykernel)",
   "language": "python",
   "name": "python3"
  },
  "language_info": {
   "codemirror_mode": {
    "name": "ipython",
    "version": 3
   },
   "file_extension": ".py",
   "mimetype": "text/x-python",
   "name": "python",
   "nbconvert_exporter": "python",
   "pygments_lexer": "ipython3",
   "version": "3.10.11"
  }
 },
 "nbformat": 4,
 "nbformat_minor": 5
}
