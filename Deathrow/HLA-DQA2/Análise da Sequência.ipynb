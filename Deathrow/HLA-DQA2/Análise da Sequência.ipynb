{
 "cells": [
  {
   "cell_type": "markdown",
   "metadata": {},
   "source": [
    "Análise do ficheiro GBK"
   ]
  },
  {
   "cell_type": "code",
   "execution_count": 2,
   "metadata": {},
   "outputs": [],
   "source": [
    "def parsing(nome_ficheiro):\n",
    "\n",
    "    from Bio import SeqIO\n",
    "    \n",
    "    record = SeqIO.read(nome_ficheiro, \"genbank\")\n",
    "\n",
    "    print(\"ID do gene:\", record.id)\n",
    "\n",
    "    print(\"Nome do gene:\", record.name)\n",
    "\n",
    "    print(\"Descrição do gene\", record.description)\n",
    "\n",
    "    print(\"Comprimento da sequência:\", len(record.seq), \"bp\")\n",
    "\n",
    "    return"
   ]
  },
  {
   "cell_type": "code",
   "execution_count": 3,
   "metadata": {},
   "outputs": [
    {
     "name": "stdout",
     "output_type": "stream",
     "text": [
      "ID do gene: NM_020056.5\n",
      "Nome do gene: NM_020056\n",
      "Descrição do gene Homo sapiens major histocompatibility complex, class II, DQ alpha 2 (HLA-DQA2), mRNA\n",
      "Comprimento da sequência: 1458 bp\n"
     ]
    }
   ],
   "source": [
    "parsing(\"NM_020056.gbk\")"
   ]
  },
  {
   "cell_type": "markdown",
   "metadata": {},
   "source": [
    "Verificar as anotações correspondentes aos genes de interesse"
   ]
  },
  {
   "cell_type": "code",
   "execution_count": 4,
   "metadata": {},
   "outputs": [],
   "source": [
    "def anot(nome_ficheiro):\n",
    "    \n",
    "    from Bio import SeqIO\n",
    "    \n",
    "    record = SeqIO.read(nome_ficheiro, \"genbank\")\n",
    "\n",
    "    print(\"Quantidade de anotações:\", len(record.annotations))\n",
    "\n",
    "    print()\n",
    "    \n",
    "    print(\"Lista de anotações:\")\n",
    "    \n",
    "    for anotacao in record.annotations:\n",
    "        print(anotacao, \"->\", record.annotations[anotacao])\n",
    "\n",
    "    return   "
   ]
  },
  {
   "cell_type": "code",
   "execution_count": 6,
   "metadata": {},
   "outputs": [
    {
     "name": "stdout",
     "output_type": "stream",
     "text": [
      "Quantidade de anotações: 13\n",
      "\n",
      "Lista de anotações:\n",
      "molecule_type -> mRNA\n",
      "topology -> linear\n",
      "data_file_division -> PRI\n",
      "date -> 25-DEC-2022\n",
      "accessions -> ['NM_020056', 'XM_005249050', 'XM_005272806', 'XM_005274854', 'XM_005275110', 'XM_005275385', 'XM_005275545']\n",
      "sequence_version -> 5\n",
      "keywords -> ['RefSeq', 'MANE Select']\n",
      "source -> Homo sapiens (human)\n",
      "organism -> Homo sapiens\n",
      "taxonomy -> ['Eukaryota', 'Metazoa', 'Chordata', 'Craniata', 'Vertebrata', 'Euteleostomi', 'Mammalia', 'Eutheria', 'Euarchontoglires', 'Primates', 'Haplorrhini', 'Catarrhini', 'Hominidae', 'Homo']\n",
      "references -> [Reference(title='A reference map of the human binary protein interactome', ...), Reference(title='Association of GWAS-supported noncoding area loci rs404860, rs3117098, and rs7775228 with asthma in Chinese Zhuang population', ...), Reference(title='GWAS identifies novel SLE susceptibility genes and explains the association of the HLA region', ...), Reference(title='A genome-wide association study on chronic HBV infection and its clinical progression in male Han-Taiwanese', ...), Reference(title='Novel risk loci for rheumatoid arthritis in Han Chinese and congruence with risk variants in Europeans', ...), Reference(title='HLA class II nucleotide sequences, 1992', ...), Reference(title='Nucleotide sequencing of HLA-DQ gene second exons in Chinese homozygous cells', ...), Reference(title='Evolutionary relationships among the primate Mhc-DQA1 and DQA2 alleles', ...), Reference(title='Ancient roots for polymorphism at the HLA-DQ alpha locus in primates', ...), Reference(title='Class II genes of the human major histocompatibility complex. Comparisons of the DQ and DX alpha and beta genes', ...)]\n",
      "comment -> REVIEWED REFSEQ: This record has been curated by NCBI staff. The\n",
      "reference sequence was derived from AL672104.4.\n",
      "On May 17, 2019 this sequence version replaced NM_020056.4.\n",
      "Summary: This gene belongs to the HLA class II alpha chain family.\n",
      "The encoded protein forms a heterodimer with a class II beta chain.\n",
      "It is located in intracellular vesicles and plays a central role in\n",
      "the peptide loading of MHC class II molecules by helping to release\n",
      "the CLIP molecule from the peptide binding site. Class II molecules\n",
      "are expressed in antigen presenting cells (B lymphocytes, dendritic\n",
      "cells, macrophages) and are used to present antigenic peptides on\n",
      "the cell surface to be recognized by CD4 T-cells. [provided by\n",
      "RefSeq, Jun 2010].\n",
      "Sequence Note: The RefSeq transcript and protein were derived from\n",
      "genomic sequence to make the sequence consistent with the reference\n",
      "genome assembly. The genomic coordinates used for the transcript\n",
      "record were based on alignments.\n",
      "Publication Note:  This RefSeq record includes a subset of the\n",
      "publications that are available for this gene. Please see the Gene\n",
      "record to access additional publications.\n",
      "COMPLETENESS: complete on the 3' end.\n",
      "structured_comment -> defaultdict(<class 'dict'>, {'Evidence-Data': {'RNAseq introns': 'single sample supports all introns SAMEA2144335, SAMEA2145893 [ECO:0000348]'}, 'RefSeq-Attributes': {'MANE Ensembl match': 'ENST00000374940.4/ ENSP00000364076.3', 'RefSeq Select criteria': 'based on single protein-coding transcript'}})\n"
     ]
    }
   ],
   "source": [
    "anot(\"NM_020056.gbk\")"
   ]
  },
  {
   "cell_type": "markdown",
   "metadata": {},
   "source": [
    "Verificar e analisar a informação complementar fornecida pela lista de features e seus qualifiers\n"
   ]
  },
  {
   "cell_type": "code",
   "execution_count": 7,
   "metadata": {},
   "outputs": [],
   "source": [
    "def features_qualifiers(nome_ficheiro):\n",
    "    \n",
    "    from Bio import SeqIO\n",
    "    \n",
    "    record = SeqIO.read(nome_ficheiro, \"genbank\")\n",
    "    \n",
    "    print(\"Quantidade de features:\", len(record.features))\n",
    "\n",
    "    for feature in record.features:\n",
    "        print(feature)\n",
    "    return"
   ]
  },
  {
   "cell_type": "code",
   "execution_count": 8,
   "metadata": {},
   "outputs": [
    {
     "name": "stdout",
     "output_type": "stream",
     "text": [
      "Quantidade de features: 19\n",
      "type: source\n",
      "location: [0:1458](+)\n",
      "qualifiers:\n",
      "    Key: chromosome, Value: ['6']\n",
      "    Key: db_xref, Value: ['taxon:9606']\n",
      "    Key: map, Value: ['6p21.32']\n",
      "    Key: mol_type, Value: ['mRNA']\n",
      "    Key: organism, Value: ['Homo sapiens']\n",
      "\n",
      "type: gene\n",
      "location: [0:1458](+)\n",
      "qualifiers:\n",
      "    Key: db_xref, Value: ['GeneID:3118', 'HGNC:HGNC:4943', 'MIM:613503']\n",
      "    Key: gene, Value: ['HLA-DQA2']\n",
      "    Key: gene_synonym, Value: ['DC-alpha; DQA1; DX-ALPHA; HLA-DCA; HLA-DXA; HLADQA2']\n",
      "    Key: note, Value: ['major histocompatibility complex, class II, DQ alpha 2']\n",
      "\n",
      "type: exon\n",
      "location: [0:135](+)\n",
      "qualifiers:\n",
      "    Key: gene, Value: ['HLA-DQA2']\n",
      "    Key: gene_synonym, Value: ['DC-alpha; DQA1; DX-ALPHA; HLA-DCA; HLA-DXA; HLADQA2']\n",
      "    Key: inference, Value: ['alignment:Splign:2.1.0']\n",
      "\n",
      "type: misc_feature\n",
      "location: [32:35](+)\n",
      "qualifiers:\n",
      "    Key: gene, Value: ['HLA-DQA2']\n",
      "    Key: gene_synonym, Value: ['DC-alpha; DQA1; DX-ALPHA; HLA-DCA; HLA-DXA; HLADQA2']\n",
      "    Key: note, Value: ['upstream in-frame stop codon']\n",
      "\n",
      "type: CDS\n",
      "location: [53:821](+)\n",
      "qualifiers:\n",
      "    Key: codon_start, Value: ['1']\n",
      "    Key: db_xref, Value: ['CCDS:CCDS4753.1', 'GeneID:3118', 'HGNC:HGNC:4943', 'MIM:613503']\n",
      "    Key: gene, Value: ['HLA-DQA2']\n",
      "    Key: gene_synonym, Value: ['DC-alpha; DQA1; DX-ALPHA; HLA-DCA; HLA-DXA; HLADQA2']\n",
      "    Key: note, Value: ['HLA class II histocompatibility antigen, DQ alpha 2 chain; MHC class II DQA2; DX alpha chain; HLA class II histocompatibility antigen, DQ(6) alpha chain; MHC class II antigen; MHC class II DQA1; HLA class II histocompatibility antigen, DQ alpha 1 chain; DC-1 alpha chain; MHC class I antigen']\n",
      "    Key: product, Value: ['HLA class II histocompatibility antigen, DQ alpha 2 chain precursor']\n",
      "    Key: protein_id, Value: ['NP_064440.1']\n",
      "    Key: translation, Value: ['MILNKALLLGALALTAVMSPCGGEDIVADHVASYGVNFYQSHGPSGQYTHEFDGDEEFYVDLETKETVWQLPMFSKFISFDPQSALRNMAVGKHTLEFMMRQSNSTAATNEVPEVTVFSKFPVTLGQPNTLICLVDNIFPPVVNITWLSNGHSVTEGVSETSFLSKSDHSFFKISYLTFLPSADEIYDCKVEHWGLDEPLLKHWEPEIPAPMSELTETLVCALGLSVGLMGIVVGTVFIIQGLRSVGASRHQGLL']\n",
      "\n",
      "type: sig_peptide\n",
      "location: [53:122](+)\n",
      "qualifiers:\n",
      "    Key: gene, Value: ['HLA-DQA2']\n",
      "    Key: gene_synonym, Value: ['DC-alpha; DQA1; DX-ALPHA; HLA-DCA; HLA-DXA; HLADQA2']\n",
      "    Key: inference, Value: ['COORDINATES: ab initio prediction:SignalP:4.0']\n",
      "\n",
      "type: mat_peptide\n",
      "location: [122:818](+)\n",
      "qualifiers:\n",
      "    Key: gene, Value: ['HLA-DQA2']\n",
      "    Key: gene_synonym, Value: ['DC-alpha; DQA1; DX-ALPHA; HLA-DCA; HLA-DXA; HLADQA2']\n",
      "    Key: product, Value: ['HLA class II histocompatibility antigen, DQ alpha 2 chain']\n",
      "\n",
      "type: misc_feature\n",
      "location: [122:383](+)\n",
      "qualifiers:\n",
      "    Key: gene, Value: ['HLA-DQA2']\n",
      "    Key: gene_synonym, Value: ['DC-alpha; DQA1; DX-ALPHA; HLA-DCA; HLA-DXA; HLADQA2']\n",
      "    Key: note, Value: ['propagated from UniProtKB/Swiss-Prot (P01906.2); Region: Alpha-1']\n",
      "\n",
      "type: misc_feature\n",
      "location: [362:365](+)\n",
      "qualifiers:\n",
      "    Key: gene, Value: ['HLA-DQA2']\n",
      "    Key: gene_synonym, Value: ['DC-alpha; DQA1; DX-ALPHA; HLA-DCA; HLA-DXA; HLADQA2']\n",
      "    Key: note, Value: ['N-linked (GlcNAc...) asparagine. /evidence=ECO:0000255; propagated from UniProtKB/Swiss-Prot (P01906.2); glycosylation site']\n",
      "\n",
      "type: misc_feature\n",
      "location: [383:665](+)\n",
      "qualifiers:\n",
      "    Key: gene, Value: ['HLA-DQA2']\n",
      "    Key: gene_synonym, Value: ['DC-alpha; DQA1; DX-ALPHA; HLA-DCA; HLA-DXA; HLADQA2']\n",
      "    Key: note, Value: ['propagated from UniProtKB/Swiss-Prot (P01906.2); Region: Alpha-2']\n",
      "\n",
      "type: misc_feature\n",
      "location: [482:485](+)\n",
      "qualifiers:\n",
      "    Key: gene, Value: ['HLA-DQA2']\n",
      "    Key: gene_synonym, Value: ['DC-alpha; DQA1; DX-ALPHA; HLA-DCA; HLA-DXA; HLADQA2']\n",
      "    Key: note, Value: ['N-linked (GlcNAc...) asparagine. /evidence=ECO:0000255; propagated from UniProtKB/Swiss-Prot (P01906.2); glycosylation site']\n",
      "\n",
      "type: misc_feature\n",
      "location: [665:704](+)\n",
      "qualifiers:\n",
      "    Key: gene, Value: ['HLA-DQA2']\n",
      "    Key: gene_synonym, Value: ['DC-alpha; DQA1; DX-ALPHA; HLA-DCA; HLA-DXA; HLADQA2']\n",
      "    Key: note, Value: ['propagated from UniProtKB/Swiss-Prot (P01906.2); Region: Connecting peptide']\n",
      "\n",
      "type: misc_feature\n",
      "location: [704:773](+)\n",
      "qualifiers:\n",
      "    Key: gene, Value: ['HLA-DQA2']\n",
      "    Key: gene_synonym, Value: ['DC-alpha; DQA1; DX-ALPHA; HLA-DCA; HLA-DXA; HLADQA2']\n",
      "    Key: note, Value: ['propagated from UniProtKB/Swiss-Prot (P01906.2); transmembrane region']\n",
      "\n",
      "type: exon\n",
      "location: [135:384](+)\n",
      "qualifiers:\n",
      "    Key: gene, Value: ['HLA-DQA2']\n",
      "    Key: gene_synonym, Value: ['DC-alpha; DQA1; DX-ALPHA; HLA-DCA; HLA-DXA; HLADQA2']\n",
      "    Key: inference, Value: ['alignment:Splign:2.1.0']\n",
      "\n",
      "type: exon\n",
      "location: [384:666](+)\n",
      "qualifiers:\n",
      "    Key: gene, Value: ['HLA-DQA2']\n",
      "    Key: gene_synonym, Value: ['DC-alpha; DQA1; DX-ALPHA; HLA-DCA; HLA-DXA; HLADQA2']\n",
      "    Key: inference, Value: ['alignment:Splign:2.1.0']\n",
      "\n",
      "type: exon\n",
      "location: [666:841](+)\n",
      "qualifiers:\n",
      "    Key: gene, Value: ['HLA-DQA2']\n",
      "    Key: gene_synonym, Value: ['DC-alpha; DQA1; DX-ALPHA; HLA-DCA; HLA-DXA; HLADQA2']\n",
      "    Key: inference, Value: ['alignment:Splign:2.1.0']\n",
      "\n",
      "type: exon\n",
      "location: [841:1458](+)\n",
      "qualifiers:\n",
      "    Key: gene, Value: ['HLA-DQA2']\n",
      "    Key: gene_synonym, Value: ['DC-alpha; DQA1; DX-ALPHA; HLA-DCA; HLA-DXA; HLADQA2']\n",
      "    Key: inference, Value: ['alignment:Splign:2.1.0']\n",
      "\n",
      "type: regulatory\n",
      "location: [1133:1139](+)\n",
      "qualifiers:\n",
      "    Key: gene, Value: ['HLA-DQA2']\n",
      "    Key: gene_synonym, Value: ['DC-alpha; DQA1; DX-ALPHA; HLA-DCA; HLA-DXA; HLADQA2']\n",
      "    Key: note, Value: ['hexamer: AATAAA']\n",
      "    Key: regulatory_class, Value: ['polyA_signal_sequence']\n",
      "\n",
      "type: polyA_site\n",
      "location: [1157:1158](+)\n",
      "qualifiers:\n",
      "    Key: gene, Value: ['HLA-DQA2']\n",
      "    Key: gene_synonym, Value: ['DC-alpha; DQA1; DX-ALPHA; HLA-DCA; HLA-DXA; HLADQA2']\n",
      "    Key: note, Value: ['major polyA site']\n",
      "\n"
     ]
    }
   ],
   "source": [
    "features_qualifiers(\"NM_020056.gbk\")"
   ]
  },
  {
   "cell_type": "markdown",
   "metadata": {},
   "source": [
    "Ao analisar as features do gene podemos perceber que o gene codifica uma proteína transmembranar.\n",
    "\n",
    "- Coding sequence localizada entre as posições 53:821;\n",
    "- Locais de glicosilação entre as posições 362:365; 482:485;\n",
    "- Região transmembranar codificada entre as posições 704:773;\n",
    "- Péptido de sinalização (para possível inclusão transmembranar - o que faz sentido visto ser uma proteína transmembranar) é codificado pela região 53:122;\n",
    "- Péptido maduro/porção funcional da proteína codificada na região 122:818;\n",
    "- Possível conexão com a subunidade codificada pelo gene HLA-DQA1 é sintetizada pela regão 665:704;"
   ]
  }
 ],
 "metadata": {
  "kernelspec": {
   "display_name": "base",
   "language": "python",
   "name": "python3"
  },
  "language_info": {
   "codemirror_mode": {
    "name": "ipython",
    "version": 3
   },
   "file_extension": ".py",
   "mimetype": "text/x-python",
   "name": "python",
   "nbconvert_exporter": "python",
   "pygments_lexer": "ipython3",
   "version": "3.12.1"
  }
 },
 "nbformat": 4,
 "nbformat_minor": 2
}
