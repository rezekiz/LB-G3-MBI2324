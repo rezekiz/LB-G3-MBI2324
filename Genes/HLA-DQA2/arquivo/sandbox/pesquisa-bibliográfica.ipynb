{
 "cells": [
  {
   "cell_type": "code",
   "execution_count": 1,
   "metadata": {},
   "outputs": [],
   "source": [
    "# ATENÇÃO À UTILIZAÇÃO DESTA FUNÇÃO\n",
    "# DEMASIADAS QUERIES SEGUIDAS PODEM LEVAR A BLOQUEIO POR PARTE DO SERVIDOR\n",
    "# EM PRINCÍPIO O MÓDULO ENTREZ ESTÁ PREPARADO PARA LIDAR COM ISSO MAS CONVÉM TER SEMPRE CUIDADO\n",
    "\n",
    "def lit_search(email, term,db = 'pubmed',save = 'N',ext='.txt',amplitude = 10,print='Y'):\n",
    "    import os\n",
    "\n",
    "    # TODO Adicionar indicações para fazer o print e elencar a lista de resultados\n",
    "    # TODO Adicionar documentação\n",
    "\n",
    "\n",
    "    # Importamos o módulo \n",
    "    from Bio import Entrez\n",
    "\n",
    "    # Definimos o email para os fins de pesquisa\n",
    "    Entrez.email = email\n",
    "    \n",
    "    \n",
    "\n",
    "    # Secção egquery que pode ser skipable\n",
    "\n",
    "    handle = Entrez.egquery(term=term)\n",
    "    egq_res = Entrez.read(handle)\n",
    "\n",
    "    for _ in egq_res['eGQueryResult']:\n",
    "        if db in _.values():\n",
    "            print('Resultados em \"pubmed\":',_['Count'])\n",
    "\n",
    "    # Sacar as IDs\n",
    "    handle      = Entrez.esearch(db=db,term=term, retmax=amplitude)\n",
    "    esearch_res = Entrez.read(handle)\n",
    "\n",
    "    lista_ids = esearch_res['IdList']\n",
    "    print('Top 10 artigos ->',lista_ids) # Converter para uma lista de títulos mais à frente\n",
    "    \n",
    "    \n",
    "\n",
    "    # Sacar os abstracts\n",
    "    handle = Entrez.efetch(db=db,id=','.join(lista_ids),rettype='abstract',retmode='text')\n",
    "    fetch_res = handle.read()\n",
    "    \n",
    "    # Usar com print para já, para não estar a bagunçar demasiado.\n",
    "    # Perceber como se pode implementar a escrita de ficheiros para ser mais fácil de mastigar os resultados.\n",
    "\n",
    "    # NÃO FUNCIONA NO GITHUB / LIVECODING\n",
    "    # ADICIONAR PARAMETRO save = 'Y' SE SE PRETENDER GUARDAR FICHEIRO \n",
    "    \n",
    "    if save.upper() == 'N':\n",
    "        print(fetch_res,sep='\\n')\n",
    "\n",
    "    # Verifica a condição de gravação de output como ficheiro de texto\n",
    "    if save.upper() == 'Y':\n",
    "\n",
    "        # Verifica se existe pasta para output e cria-a caso não exista\n",
    "        cwd = os.getcwd()\n",
    "        outputdir = os.path.join(cwd,'lit-search-output')\n",
    "        if not os.path.exists(outputdir):\n",
    "            os.mkdir(outputdir)\n",
    "\n",
    "\n",
    "        # Muda o working directory para a pasta de output para gerar o ficheiro\n",
    "        os.chdir(outputdir)\n",
    "\n",
    "        # Gera o ficheiro           \n",
    "        with open(term+ext , 'w') as _:\n",
    "            _.write(fetch_res)\n",
    "\n",
    "        # Retorna ao working directory anterior\n",
    "        os.chdir(cwd)\n",
    "\n",
    "    handle.close()\n",
    "\n",
    "    return fetch_res"
   ]
  },
  {
   "cell_type": "code",
   "execution_count": 6,
   "metadata": {},
   "outputs": [],
   "source": [
    "email = 'pg21019@alunos.uminho.pt'"
   ]
  },
  {
   "cell_type": "code",
   "execution_count": 2,
   "metadata": {},
   "outputs": [
    {
     "ename": "TypeError",
     "evalue": "'str' object is not callable",
     "output_type": "error",
     "traceback": [
      "\u001b[1;31m---------------------------------------------------------------------------\u001b[0m",
      "\u001b[1;31mTypeError\u001b[0m                                 Traceback (most recent call last)",
      "\u001b[1;32m~\\AppData\\Local\\Temp\\ipykernel_87944\\4251175422.py\u001b[0m in \u001b[0;36m<module>\u001b[1;34m\u001b[0m\n\u001b[1;32m----> 1\u001b[1;33m \u001b[0mlit_search\u001b[0m\u001b[1;33m(\u001b[0m\u001b[1;34m'pg21019@alunos.uminho.pt'\u001b[0m\u001b[1;33m,\u001b[0m\u001b[1;34m'hla-dqa2'\u001b[0m\u001b[1;33m)\u001b[0m\u001b[1;33m\u001b[0m\u001b[1;33m\u001b[0m\u001b[0m\n\u001b[0m",
      "\u001b[1;32m~\\AppData\\Local\\Temp\\ipykernel_87944\\4012598016.py\u001b[0m in \u001b[0;36mlit_search\u001b[1;34m(email, term, db, save, ext, amplitude, print)\u001b[0m\n\u001b[0;32m     25\u001b[0m     \u001b[1;32mfor\u001b[0m \u001b[0m_\u001b[0m \u001b[1;32min\u001b[0m \u001b[0megq_res\u001b[0m\u001b[1;33m[\u001b[0m\u001b[1;34m'eGQueryResult'\u001b[0m\u001b[1;33m]\u001b[0m\u001b[1;33m:\u001b[0m\u001b[1;33m\u001b[0m\u001b[1;33m\u001b[0m\u001b[0m\n\u001b[0;32m     26\u001b[0m         \u001b[1;32mif\u001b[0m \u001b[0mdb\u001b[0m \u001b[1;32min\u001b[0m \u001b[0m_\u001b[0m\u001b[1;33m.\u001b[0m\u001b[0mvalues\u001b[0m\u001b[1;33m(\u001b[0m\u001b[1;33m)\u001b[0m\u001b[1;33m:\u001b[0m\u001b[1;33m\u001b[0m\u001b[1;33m\u001b[0m\u001b[0m\n\u001b[1;32m---> 27\u001b[1;33m             \u001b[0mprint\u001b[0m\u001b[1;33m(\u001b[0m\u001b[1;34m'Resultados em \"pubmed\":'\u001b[0m\u001b[1;33m,\u001b[0m\u001b[0m_\u001b[0m\u001b[1;33m[\u001b[0m\u001b[1;34m'Count'\u001b[0m\u001b[1;33m]\u001b[0m\u001b[1;33m)\u001b[0m\u001b[1;33m\u001b[0m\u001b[1;33m\u001b[0m\u001b[0m\n\u001b[0m\u001b[0;32m     28\u001b[0m \u001b[1;33m\u001b[0m\u001b[0m\n\u001b[0;32m     29\u001b[0m     \u001b[1;31m# Sacar as IDs\u001b[0m\u001b[1;33m\u001b[0m\u001b[1;33m\u001b[0m\u001b[1;33m\u001b[0m\u001b[0m\n",
      "\u001b[1;31mTypeError\u001b[0m: 'str' object is not callable"
     ]
    }
   ],
   "source": [
    "lit_search('pg21019@alunos.uminho.pt','hla-dqa2')"
   ]
  },
  {
   "cell_type": "code",
   "execution_count": 8,
   "metadata": {},
   "outputs": [
    {
     "name": "stdout",
     "output_type": "stream",
     "text": [
      "Resultados em \"pubmed\": 19\n",
      "Top 10 artigos -> ['155971', '3106', '920', '3119', '3630', '155871', '155030', '3107', '3117', '156110']\n"
     ]
    },
    {
     "data": {
      "text/plain": [
       "'\\n1. env\\nEnvelope surface glycoprotein gp160, precursor [Human immunodeficiency virus 1]\\nOther Aliases: HIV1gp8\\nOther Designations: Envelope surface glycoprotein gp160, precursor; Envelope surface glycoprotein gp120; Envelope transmembrane domain; hypothetical protein\\nAnnotation:  NC_001802.1 (5771..8341)\\nID: 155971\\n\\n2. HLA-B\\nOfficial Symbol: HLA-B and Name: major histocompatibility complex, class I, B [Homo sapiens (human)]\\nOther Aliases: AS, B-4901, HLAB\\nOther Designations: major histocompatibility complex, class I, B; HLA class I antigen HLA-B; HLA class I histocompatibility antigen, B alpha chain; MHC HLA-B cell surface glycoprotein; MHC HLA-B transmembrane glycoprotein; MHC class 1 antigen; MHC class I antigen HLA-B alpha chain; MHC class I antigen HLA-B heavy chain; MHC class I antigen SHCHA; MHC class I molecule; leukocyte antigen class I-B\\nChromosome: 6; Location: 6p21.33\\nAnnotation: Chromosome 6 NC_000006.12 (31353875..31357179, complement)\\nMIM: 142830\\nID: 3106\\n\\n3. CD4\\nOfficial Symbol: CD4 and Name: CD4 molecule [Homo sapiens (human)]\\nOther Aliases: CD4mut, IMD79, Leu-3, OKT4D, T4\\nOther Designations: T-cell surface glycoprotein CD4; CD4 antigen (p55); CD4 receptor; T-cell surface antigen T4/Leu-3\\nChromosome: 12; Location: 12p13.31\\nAnnotation: Chromosome 12 NC_000012.12 (6789528..6820799)\\nMIM: 186940\\nID: 920\\n\\n4. HLA-DQB1\\nOfficial Symbol: HLA-DQB1 and Name: major histocompatibility complex, class II, DQ beta 1 [Homo sapiens (human)]\\nOther Aliases: CELIAC1, HLA-DQB, IDDM1\\nOther Designations: HLA class II histocompatibility antigen, DQ beta 1 chain; MHC class II DQ beta chain; MHC class II HLA-DQ beta glycoprotein; MHC class II antigen DQB1; MHC class II antigen HLA-DQ-beta-1\\nChromosome: 6; Location: 6p21.32\\nAnnotation: Chromosome 6 NC_000006.12 (32659467..32666657, complement)\\nMIM: 604305\\nID: 3119\\n\\n5. INS\\nOfficial Symbol: INS and Name: insulin [Homo sapiens (human)]\\nOther Aliases: IDDM, IDDM1, IDDM2, ILPR, IRDN, MODY10, PNDM4\\nOther Designations: insulin; preproinsulin; proinsulin\\nChromosome: 11; Location: 11p15.5\\nAnnotation: Chromosome 11 NC_000011.10 (2159779..2161209, complement)\\nMIM: 176730\\nID: 3630\\n\\n6. tat\\nTat [Human immunodeficiency virus 1]\\nOther Aliases: HIV1gp5\\nOther Designations: Tat\\nAnnotation:  NC_001802.1 (5377..7970)\\nID: 155871\\n\\n7. gag\\nPr55(Gag) [Human immunodeficiency virus 1]\\nOther Aliases: HIV1gp2\\nOther Designations: Pr55(Gag); capsid; matrix; nucleocapsid; p1; p2; p6\\nAnnotation:  NC_001802.1 (336..1838)\\nID: 155030\\n\\n8. HLA-C\\nOfficial Symbol: HLA-C and Name: major histocompatibility complex, class I, C [Homo sapiens (human)]\\nOther Aliases: D6S204, HLA-JY3, HLAC, HLC-C, MHC, PSORS1\\nOther Designations: HLA class I histocompatibility antigen, C alpha chain; HLA-C antigen; MHC class I antigen heavy chain HLA-C; human leukocyte antigen-C alpha chain; major histocompatibility antigen HLA-C\\nChromosome: 6; Location: 6p21.33\\nAnnotation: Chromosome 6 NC_000006.12 (31268749..31272092, complement)\\nMIM: 142840\\nID: 3107\\n\\n9. HLA-DQA1\\nOfficial Symbol: HLA-DQA1 and Name: major histocompatibility complex, class II, DQ alpha 1 [Homo sapiens (human)]\\nOther Aliases: CELIAC1, DQ-A1, DQA1, HLA-DQA*, HLA-DQB1, HLA-DQA1\\nOther Designations: HLA class II histocompatibility antigen, DQ alpha 1 chain; DC-1 alpha chain; DC-alpha; HLA class II histocompatibility antigen DQ alpha chain; HLA-DCA; MHC HLA-DQ alpha; MHC class II DQ alpha chain; MHC class II DQA1; MHC class II HLA-DQ-alpha-1; MHC class II antigen DQA1; MHC class II protein\\nChromosome: 6; Location: 6p21.32\\nAnnotation: Chromosome 6 NC_000006.12 (32637406..32655272)\\nMIM: 146880\\nID: 3117\\n\\n10. nef\\nNef [Human immunodeficiency virus 1]\\nOther Aliases: HIV1gp9\\nOther Designations: Nef\\nAnnotation:  NC_001802.1 (8343..8963)\\nID: 156110\\n\\n'"
      ]
     },
     "execution_count": 8,
     "metadata": {},
     "output_type": "execute_result"
    }
   ],
   "source": [
    "lit_search(email,'hla-dqa2','gene')"
   ]
  },
  {
   "cell_type": "code",
   "execution_count": 19,
   "metadata": {},
   "outputs": [
    {
     "name": "stdout",
     "output_type": "stream",
     "text": [
      "Top 10 artigos -> ['2594567951']\n"
     ]
    },
    {
     "data": {
      "text/plain": [
       "'LOCUS       OR557191                5232 bp    DNA     linear   PRI 25-OCT-2023\\nDEFINITION  Homo sapiens isolate PSCDA0402 MHC class II antigen (HLA-DQA2)\\n            gene, HLA-DQA2*01:05:01:01extended allele, complete cds.\\nACCESSION   OR557191\\nVERSION     OR557191.1\\nKEYWORDS    .\\nSOURCE      Homo sapiens (human)\\n  ORGANISM  Homo sapiens\\n            Eukaryota; Metazoa; Chordata; Craniata; Vertebrata; Euteleostomi;\\n            Mammalia; Eutheria; Euarchontoglires; Primates; Haplorrhini;\\n            Catarrhini; Hominidae; Homo.\\nREFERENCE   1  (bases 1 to 5232)\\n  AUTHORS   Khor,S.-S., Huijse,L., Endlich,S. and Tokunaga,K.\\n  TITLE     Direct Submission\\n  JOURNAL   Submitted (15-SEP-2023) Genome Medical Science Project, National\\n            Center for Global Health and Medicine, Toyama 1-21-1, Shinjuku\\n            Ward, Tokyo 162-8655, Japan\\nCOMMENT     ##Assembly-Data-START##\\n            Assembly Method       :: NGSengine v. 2.30.1.29498\\n            Sequencing Technology :: PacBio\\n            ##Assembly-Data-END##\\nFEATURES             Location/Qualifiers\\n     source          1..5232\\n                     /organism=\"Homo sapiens\"\\n                     /mol_type=\"genomic DNA\"\\n                     /isolate=\"PSCDA0402\"\\n                     /db_xref=\"taxon:9606\"\\n     gene            1..5232\\n                     /gene=\"HLA-DQA2\"\\n                     /allele=\"HLA-DQA2*01:05:01:01extended\"\\n     mRNA            join(1..162,3797..4045,4429..4710,4878..5232)\\n                     /gene=\"HLA-DQA2\"\\n                     /allele=\"HLA-DQA2*01:05:01:01extended\"\\n                     /product=\"MHC class II antigen\"\\n     exon            1..162\\n                     /gene=\"HLA-DQA2\"\\n                     /allele=\"HLA-DQA2*01:05:01:01extended\"\\n                     /number=1\\n     5\\'UTR           1..80\\n                     /gene=\"HLA-DQA2\"\\n                     /allele=\"HLA-DQA2*01:05:01:01extended\"\\n     CDS             join(81..162,3797..4045,4429..4710,4878..5032)\\n                     /gene=\"HLA-DQA2\"\\n                     /allele=\"HLA-DQA2*01:05:01:01extended\"\\n                     /codon_start=1\\n                     /product=\"MHC class II antigen\"\\n                     /protein_id=\"WOF76037.1\"\\n                     /translation=\"MILNKALLLGALALTAVMSPCGGEDIVADHVASYGVNFYQSHGP\\n                     SGQYTHEFDGDEEFYVDLEMKETVWQLPMFSKFISFDPQSALRNMAVGKHTLEFMMRQ\\n                     SNSTAATNEVPEVTVFSKFPVTLGQPNTLICLVDNIFPPVVNITWLSNGHSVTEGVSE\\n                     TSFLSKSDHSFFKISYLTFLPSADEIYDCKVEHWGLDEPLLKHWEPEIPAPMSELTET\\n                     LVCALGLSVGLMGIVVGTVFIIQGLRSVGASRHQGLL\"\\n     intron          163..3796\\n                     /gene=\"HLA-DQA2\"\\n                     /allele=\"HLA-DQA2*01:05:01:01extended\"\\n                     /number=1\\n     exon            3797..4045\\n                     /gene=\"HLA-DQA2\"\\n                     /allele=\"HLA-DQA2*01:05:01:01extended\"\\n                     /number=2\\n     intron          4046..4428\\n                     /gene=\"HLA-DQA2\"\\n                     /allele=\"HLA-DQA2*01:05:01:01extended\"\\n                     /number=2\\n     exon            4429..4710\\n                     /gene=\"HLA-DQA2\"\\n                     /allele=\"HLA-DQA2*01:05:01:01extended\"\\n                     /number=3\\n     intron          4711..4877\\n                     /gene=\"HLA-DQA2\"\\n                     /allele=\"HLA-DQA2*01:05:01:01extended\"\\n                     /number=3\\n     exon            4878..5232\\n                     /gene=\"HLA-DQA2\"\\n                     /allele=\"HLA-DQA2*01:05:01:01extended\"\\n                     /number=4\\n     3\\'UTR           5033..5232\\n                     /gene=\"HLA-DQA2\"\\n                     /allele=\"HLA-DQA2*01:05:01:01extended\"\\nORIGIN      \\n        1 ttcagatttg cttgtctcga ggtcctcaca attgctctac agctcagagc agcaactgct\\n       61 gaggctgcct tgggaagaag atgatcctaa acaaagctct gctgctgggg gccctcgccc\\n      121 tgactgccgt gatgagcccc tgtggaggtg aagacattgt gggtgagtgc atgagtgagg\\n      181 aatgttctct ggagctgaaa aacagcaaat taaaggaaaa gaaagagtgc aatttgctaa\\n      241 gaaatagtag aaatttccca agggtctttt caatattaag aaattttaaa attatggcag\\n      301 ttcctccttt aggaaaccag agctccaacc gactctcttt gctacctgtg ctattggagt\\n      361 ttaccaagga cgttgttctg tttatattat atccagagac tatagcctgg aggtctgtgt\\n      421 ggcattccat catgattgcc tcaaagacta gggatgtttc catgaatgga gtattttttt\\n      481 gttattaaaa atttctgaac tgttactccc aaatttctct gaacaacttt tgaagctttt\\n      541 catatgcctc ctatagcata tgttggggta gatagttcca tgaagtatgt acactctata\\n      601 gatataaaga aagaggttct tttctttctc tcagacttac atttccacat gggaattggc\\n      661 acaggtgggg agtaggtgaa agagcccagc aggctgaatg ccttcaacaa tcattttacc\\n      721 acgtggtaaa tgtggtactt actctctgct acctcatata tgtcacctcg cttatgatca\\n      781 aataaaatgg gcatgtagat atgctttatg aatagtaaaa acatgaatgt caactttttt\\n      841 taacttattc ctattacagg tataacttcg tattttttct ttagcaaagt aaggaatata\\n      901 ttttaaaact gagaacttta tgataaaatg cttggtaaat taaattattt tattctcaaa\\n      961 ttgtcaaccc aaattacttg ttcttcacct tatctaatga agtcttataa agagaaaaat\\n     1021 gggcaggcac agattatttg gtcccttagt cccctctgcc tttgtcgtcc atctctttcc\\n     1081 acctctcttc atgcatccct ttctccctct tccctttcag gatccatctc tgactccctg\\n     1141 ctcctttaca gacatgggca gtgggtttgt aaaacaaaag ttggaaagtc aaatagttaa\\n     1201 aaggggaagt gaactggaag ctactcgaaa cttccacaac cttattaacc atagctgctc\\n     1261 ccattctgat tttgtttggc agtggaagtt tcacctgctt ctccagagca cttggctttt\\n     1321 ttttttcaaa tctcctttct tcaacctcac accagagtgc cccggtcagg ctcgacttat\\n     1381 ccattaggaa cagtgtgggc agtgaaggag actctccaaa ctgtaaagct acaagagaac\\n     1441 gttttaactc gttttaaaat tagaagaaaa atgaagtttt acagtctatg aaaatgtttt\\n     1501 aacttttttt tttttttgac ggagtctcgc tctgtcgccc aggctggagt gcagtggcac\\n     1561 gatctcagct cactgcaagc tccgcctccc gggttcacgc cattctcctg cctcagcctc\\n     1621 ccgagtagct gggactacag gcgcccgcca ccgcgcacgg ctaatttttt gtatttttag\\n     1681 tagggacggg gtttcaccgt gtgagccagg atggtctcga tctcctgacc tcatgatccg\\n     1741 cccgtctcaa cctcccaaag tgctgggatt acaggcgtga tccaccgtgt ccggccttaa\\n     1801 cttttaatgt agcctggatt gtatttgtct ttataccaat acaatcagaa gctgtaattt\\n     1861 tccgtatttt tatggaggaa ggcgcccaca aaagcaacag tgctcggggc tcacaagtca\\n     1921 gaattcagcc ctgggcatcc ctgatcctgg gctttgcgtg gttctgctac ctgggtgcct\\n     1981 gtcagtcttc cccaaaatct atgtaattgt caaaaattgc aattgtcatt caatacacat\\n     2041 gtttgagcac acaatgagct aacttttggg aattcaaaga taaaaaatca tgctgtctgc\\n     2101 cttgcagagg gtgcacaaac cagtgatgga aacagtatgg ggcacaggaa agcagaaggc\\n     2161 cctgctgagc aggacagtgg cccagcagag gctgaaacta taaaaatgac ttggttccag\\n     2221 ctgggccagt agagtgatgt cctccagcaa cactcagcac ccaggacaag taccagatga\\n     2281 aaagaagaat tgcatgtatt ccacatatat tcatgtttga acaaggagtc aaagtttatt\\n     2341 gtaaggataa ggagtctttg ttggtggcct gttaagtaac caaccagggc agtcatgctg\\n     2401 ggtagggaag aaggtgagct ggaggaggaa aagacaaact tggagagcca gacattgaga\\n     2461 ttccattgag gcgttggagg tcacaacgcg gtcaaaaaca tgttgagagg acttagctgc\\n     2521 aaagttgtta actaagtaga aacctaaagg atgaatttta ggatttctcc aggaaatcct\\n     2581 aaaagataac ttctttcagg gagaaaaaac agacccttgc aaagacatga aaggaaatgt\\n     2641 aatttggttt gattggcaga tagttgtgaa gaatgttgga ctgtaaggct gtcgatatcc\\n     2701 tcctcacaga actccccaaa gtacattgta tttgctccct taccgacctg attctcccac\\n     2761 tattcagttc attccttgat gctgttttaa gcaacccctg ctctgtctga cacttttgga\\n     2821 tgctcagtaa atgaggaaag aaggaaggaa agataaaatg gtaaagggct cacacatgtc\\n     2881 ttaacaaaaa tgtccagttc ggctcatttg gctatacttc atggctgctg ctctgccctt\\n     2941 gcatcctcgg ataagctcac tgcccattag aggaaaaagg gtttaattta cctgagtcct\\n     3001 cgagtgaatg taattgttga atcagaacac tatagatatt tagtaacctc cttcagagga\\n     3061 aaaaaaaaaa agtgggggca atgacagaaa ttaaaaaacc agtcgagctt ccacttttca\\n     3121 tttcagaaga aatcaggtgc tctcctctaa ggaccactac tattaacaaa acagagacct\\n     3181 tagaagaatt gtttatttgt tataaatgta taatgttgct attcttgtaa tagtctttct\\n     3241 cgtaccctat aattgttaga agaaattatt ttaagttaat acgttcctac atgcttttct\\n     3301 ttggtttaaa aaaaaaaaaa aaaaaaggaa actctgtgta gaaagtgtcc tgttctgatc\\n     3361 tagtcctgac aggaaacgaa gtataatcaa cttgttatta actgagagag aaaacttagg\\n     3421 aagcagaggg aaataaactg aatctctgag taagaaaact aaatcctatg ataactcatt\\n     3481 cattccttcc tttgtttatt gcaatattca tcataagctt atgatgtgcc aggcactaag\\n     3541 taggcactca ggaaataaca gacgtgtgac gttctgcctt tgtggagcat atgttatagt\\n     3601 gagaaagaca gaatcagttc taacctgatg actaccaacg ttaggcaagg aggaagcagg\\n     3661 tgttaggaag attgttcagg gactgtgcca aagatgaagc ccataatatt tgaaagtgag\\n     3721 tttcttcaat cactttctgt attaaggttc tttctccctg tgttccaccc tcctgcttgt\\n     3781 caccttcact cgtcagctga ccatgttgcc tcctatggtg tgaacttcta ccagtctcac\\n     3841 ggtccctctg gccagtacac ccatgaattt gatggagacg aggagttcta tgtggacctg\\n     3901 gagatgaaag agactgtctg gcagttgcct atgtttagca aatttataag ttttgacccg\\n     3961 cagagtgcac tgagaaatat ggctgtggga aaacacacct tggaattcat gatgagacag\\n     4021 tccaactcta ccgctgccac caatggtatg tgtccaccat tccgcctctc tttactgaaa\\n     4081 ctaatctttc ataccaagtt ttactccctt cttctcaaga gatttccaga tcttctcatg\\n     4141 gtaattgctg aaattttatc atctcccatc tctaaaatca catattccca tgtaatacaa\\n     4201 gggtctttcc attatgtatt aattcctact ttattaaaca tgcccacaga gagaagggca\\n     4261 caggaataaa gcagaggcaa tgtgtcgttg ctcccaagca gaaggtaaat aagacctctt\\n     4321 tgactatcag gtggtgaaat gctggtagga gggctcttcc aggatgtaat gcagaagctc\\n     4381 atggcagagc tattcacact tcacatcagt gctgtttcct caccacagag gttcctgagg\\n     4441 tcacagtgtt ttccaagttt cctgtgacgc tgggtcagcc caacaccctc atctgtcttg\\n     4501 tggacaacat ctttcctcct gtggtcaaca tcacctggct gagcaatggg cactcagtca\\n     4561 cagaaggtgt ttctgagacc agcttcctct ccaagagtga tcattccttc ttcaagatca\\n     4621 gttacctcac cttcctccct tctgctgatg agatttatga ctgcaaggtg gagcactggg\\n     4681 gcctggacga gcctcttctg aaacactggg gtaaggatga gttccaccac ttcatgggtt\\n     4741 tctaataata gacttcactc ttctccctaa gcctggggcc ttgagtcttg cagagccagc\\n     4801 cctccacccc atcccatccc acacacatgc acatgagcac actgcacatt ctgacctcaa\\n     4861 cagctccact ttcacagagc ctgagattcc agcccctatg tcagagctca cagagacttt\\n     4921 ggtctgcgcc ctggggttgt ctgtgggcct catgggcatt gtggtgggca ctgtcttcat\\n     4981 catccaaggc ctgcgttcag ttggtgcttc cagacaccaa gggctcttat gaatcccatc\\n     5041 ctgaaaagga aggtaagatt gagatttgtt ggagctgaaa cctcagtatg agagggagga\\n     5101 aagtgggagg gggttgtgga catgaatgtg gttgaaagtt gtaggcgaat tgggaagtgg\\n     5161 catgatgatc acacaggagg cccctcagac ccatcgatct catgtctgtc ctgttgcagg\\n     5221 tgcatcacca tc\\n//\\n\\n'"
      ]
     },
     "execution_count": 19,
     "metadata": {},
     "output_type": "execute_result"
    }
   ],
   "source": [
    "lit_search(email,'hla-dqa2','nucleotide',amplitude=1,save='y')"
   ]
  },
  {
   "cell_type": "code",
   "execution_count": null,
   "metadata": {},
   "outputs": [],
   "source": []
  }
 ],
 "metadata": {
  "kernelspec": {
   "display_name": "Python 3",
   "language": "python",
   "name": "python3"
  },
  "language_info": {
   "codemirror_mode": {
    "name": "ipython",
    "version": 3
   },
   "file_extension": ".py",
   "mimetype": "text/x-python",
   "name": "python",
   "nbconvert_exporter": "python",
   "pygments_lexer": "ipython3",
   "version": "3.7.1"
  }
 },
 "nbformat": 4,
 "nbformat_minor": 2
}
