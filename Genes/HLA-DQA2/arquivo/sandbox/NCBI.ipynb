{
 "cells": [
  {
   "cell_type": "markdown",
   "id": "12a1543d",
   "metadata": {},
   "source": [
    "# Análise da sequência e das features presentes no NCBI"
   ]
  },
  {
   "cell_type": "markdown",
   "id": "a74c9a95",
   "metadata": {},
   "source": [
    "* Aceder ao NCBI e guardar os ficheiros correspondentes aos genes escolhidos"
   ]
  },
  {
   "cell_type": "code",
   "execution_count": 2,
   "id": "b8551b7f",
   "metadata": {},
   "outputs": [],
   "source": [
    "def guardar_ficheiro(email, basedados, id_gene, nome_ficheiro):\n",
    "    \n",
    "    import os\n",
    "    from Bio import SeqIO\n",
    "    from Bio import Entrez\n",
    "\n",
    "    Entrez.email = email\n",
    "    \n",
    "    filename = nome_ficheiro\n",
    "\n",
    "    if not os.path.isfile(filename):\n",
    "        net_handle = Entrez.efetch( db = basedados, id = id_gene, rettype=\"gb\", retmode=\"text\")\n",
    "        out_handle = open(filename, \"w\")\n",
    "        out_handle.write(net_handle.read())\n",
    "        out_handle.close()\n",
    "        net_handle.close()\n",
    "        diretoria = os.getcwd()\n",
    "        print(\"O ficheiro foi guardado com sucesso na seguinte diretoria:\", diretoria)\n",
    "\n",
    "    return "
   ]
  },
  {
   "cell_type": "code",
   "execution_count": 5,
   "id": "1117a4b4",
   "metadata": {},
   "outputs": [
    {
     "name": "stdout",
     "output_type": "stream",
     "text": [
      "O ficheiro foi guardado com sucesso na seguinte diretoria: c:\\Users\\rsous\\OneDrive\\Ambiente de Trabalho\\MBioinf\\mbi2324-grupo-3-labs-bioinf\\Genes\\HLA-DQA2\n"
     ]
    }
   ],
   "source": [
    "email = 'pg21019@alunos.uminho.pt'\n",
    "id_gene = 'OR557191'\n",
    "filename = id_gene+'.gbk'\n",
    "\n",
    "guardar_ficheiro(email,'nucleotide',id_gene,filename)\n",
    "\n"
   ]
  },
  {
   "cell_type": "markdown",
   "id": "1ff7cc94",
   "metadata": {},
   "source": [
    "* Análise do ficheiro"
   ]
  },
  {
   "cell_type": "code",
   "execution_count": 6,
   "id": "5bc142cc",
   "metadata": {},
   "outputs": [],
   "source": [
    "def parsing(nome_ficheiro):\n",
    "\n",
    "    from Bio import SeqIO\n",
    "    \n",
    "    record = SeqIO.read(nome_ficheiro, \"genbank\")\n",
    "\n",
    "    print(\"ID do gene:\", record.id)\n",
    "\n",
    "    print(\"Nome do gene:\", record.name)\n",
    "\n",
    "    print(\"Descrição do gene\", record.description)\n",
    "\n",
    "    print(\"Comprimento da sequência:\", len(record.seq), \"bp\")\n",
    "\n",
    "    return"
   ]
  },
  {
   "cell_type": "code",
   "execution_count": 8,
   "id": "8f7cc6df",
   "metadata": {},
   "outputs": [
    {
     "name": "stdout",
     "output_type": "stream",
     "text": [
      "ID do gene: OR557191.1\n",
      "Nome do gene: OR557191\n",
      "Descrição do gene Homo sapiens isolate PSCDA0402 MHC class II antigen (HLA-DQA2) gene, HLA-DQA2*01:05:01:01extended allele, complete cds\n",
      "Comprimento da sequência: 5232 bp\n"
     ]
    }
   ],
   "source": [
    "parsing(filename)"
   ]
  },
  {
   "cell_type": "markdown",
   "id": "ca87c8a4",
   "metadata": {},
   "source": [
    "* Verificar as anotações correspondentes aos genes de interesse"
   ]
  },
  {
   "cell_type": "code",
   "execution_count": 10,
   "id": "9971b144",
   "metadata": {},
   "outputs": [],
   "source": [
    "def anot(nome_ficheiro):\n",
    "    \n",
    "    from Bio import SeqIO\n",
    "    \n",
    "    record = SeqIO.read(nome_ficheiro, \"genbank\")\n",
    "\n",
    "    print(\"Quantidade de anotações:\", len(record.annotations))\n",
    "\n",
    "    print()\n",
    "    \n",
    "    print(\"Lista de anotações:\")\n",
    "    \n",
    "    for anotacao in record.annotations:\n",
    "        print(anotacao, \"->\", record.annotations[anotacao])\n",
    "\n",
    "    return   \n"
   ]
  },
  {
   "cell_type": "code",
   "execution_count": 11,
   "id": "2629adba",
   "metadata": {},
   "outputs": [
    {
     "name": "stdout",
     "output_type": "stream",
     "text": [
      "Quantidade de anotações: 12\n",
      "\n",
      "Lista de anotações:\n",
      "molecule_type -> DNA\n",
      "topology -> linear\n",
      "data_file_division -> PRI\n",
      "date -> 25-OCT-2023\n",
      "accessions -> ['OR557191']\n",
      "sequence_version -> 1\n",
      "keywords -> ['']\n",
      "source -> Homo sapiens (human)\n",
      "organism -> Homo sapiens\n",
      "taxonomy -> ['Eukaryota', 'Metazoa', 'Chordata', 'Craniata', 'Vertebrata', 'Euteleostomi', 'Mammalia', 'Eutheria', 'Euarchontoglires', 'Primates', 'Haplorrhini', 'Catarrhini', 'Hominidae', 'Homo']\n",
      "references -> [Reference(title='Direct Submission', ...)]\n",
      "structured_comment -> defaultdict(<class 'dict'>, {'Assembly-Data': {'Assembly Method': 'NGSengine v. 2.30.1.29498', 'Sequencing Technology': 'PacBio'}})\n"
     ]
    }
   ],
   "source": [
    "anot(filename)"
   ]
  },
  {
   "cell_type": "markdown",
   "id": "d22a8cbb",
   "metadata": {},
   "source": [
    "* Verificar e analisar a informação complementar fornecida pela lista de *features* e seus *qualifiers*"
   ]
  },
  {
   "cell_type": "code",
   "execution_count": 13,
   "id": "a6861a81",
   "metadata": {},
   "outputs": [],
   "source": [
    "def features_qualifiers(nome_ficheiro):\n",
    "    \n",
    "    from Bio import SeqIO\n",
    "    \n",
    "    record = SeqIO.read(nome_ficheiro, \"genbank\")\n",
    "    \n",
    "    print(\"Quantidade de features:\", len(record.features))\n",
    "\n",
    "    for feature in record.features:\n",
    "        print(feature)\n",
    "    return\n"
   ]
  },
  {
   "cell_type": "code",
   "execution_count": 14,
   "id": "cc6823c2",
   "metadata": {},
   "outputs": [
    {
     "name": "stdout",
     "output_type": "stream",
     "text": [
      "Quantidade de features: 13\n",
      "type: source\n",
      "location: [0:5232](+)\n",
      "qualifiers:\n",
      "    Key: db_xref, Value: ['taxon:9606']\n",
      "    Key: isolate, Value: ['PSCDA0402']\n",
      "    Key: mol_type, Value: ['genomic DNA']\n",
      "    Key: organism, Value: ['Homo sapiens']\n",
      "\n",
      "type: gene\n",
      "location: [0:5232](+)\n",
      "qualifiers:\n",
      "    Key: allele, Value: ['HLA-DQA2*01:05:01:01extended']\n",
      "    Key: gene, Value: ['HLA-DQA2']\n",
      "\n",
      "type: mRNA\n",
      "location: join{[0:162](+), [3796:4045](+), [4428:4710](+), [4877:5232](+)}\n",
      "qualifiers:\n",
      "    Key: allele, Value: ['HLA-DQA2*01:05:01:01extended']\n",
      "    Key: gene, Value: ['HLA-DQA2']\n",
      "    Key: product, Value: ['MHC class II antigen']\n",
      "\n",
      "type: exon\n",
      "location: [0:162](+)\n",
      "qualifiers:\n",
      "    Key: allele, Value: ['HLA-DQA2*01:05:01:01extended']\n",
      "    Key: gene, Value: ['HLA-DQA2']\n",
      "    Key: number, Value: ['1']\n",
      "\n",
      "type: 5'UTR\n",
      "location: [0:80](+)\n",
      "qualifiers:\n",
      "    Key: allele, Value: ['HLA-DQA2*01:05:01:01extended']\n",
      "    Key: gene, Value: ['HLA-DQA2']\n",
      "\n",
      "type: CDS\n",
      "location: join{[80:162](+), [3796:4045](+), [4428:4710](+), [4877:5032](+)}\n",
      "qualifiers:\n",
      "    Key: allele, Value: ['HLA-DQA2*01:05:01:01extended']\n",
      "    Key: codon_start, Value: ['1']\n",
      "    Key: gene, Value: ['HLA-DQA2']\n",
      "    Key: product, Value: ['MHC class II antigen']\n",
      "    Key: protein_id, Value: ['WOF76037.1']\n",
      "    Key: translation, Value: ['MILNKALLLGALALTAVMSPCGGEDIVADHVASYGVNFYQSHGPSGQYTHEFDGDEEFYVDLEMKETVWQLPMFSKFISFDPQSALRNMAVGKHTLEFMMRQSNSTAATNEVPEVTVFSKFPVTLGQPNTLICLVDNIFPPVVNITWLSNGHSVTEGVSETSFLSKSDHSFFKISYLTFLPSADEIYDCKVEHWGLDEPLLKHWEPEIPAPMSELTETLVCALGLSVGLMGIVVGTVFIIQGLRSVGASRHQGLL']\n",
      "\n",
      "type: intron\n",
      "location: [162:3796](+)\n",
      "qualifiers:\n",
      "    Key: allele, Value: ['HLA-DQA2*01:05:01:01extended']\n",
      "    Key: gene, Value: ['HLA-DQA2']\n",
      "    Key: number, Value: ['1']\n",
      "\n",
      "type: exon\n",
      "location: [3796:4045](+)\n",
      "qualifiers:\n",
      "    Key: allele, Value: ['HLA-DQA2*01:05:01:01extended']\n",
      "    Key: gene, Value: ['HLA-DQA2']\n",
      "    Key: number, Value: ['2']\n",
      "\n",
      "type: intron\n",
      "location: [4045:4428](+)\n",
      "qualifiers:\n",
      "    Key: allele, Value: ['HLA-DQA2*01:05:01:01extended']\n",
      "    Key: gene, Value: ['HLA-DQA2']\n",
      "    Key: number, Value: ['2']\n",
      "\n",
      "type: exon\n",
      "location: [4428:4710](+)\n",
      "qualifiers:\n",
      "    Key: allele, Value: ['HLA-DQA2*01:05:01:01extended']\n",
      "    Key: gene, Value: ['HLA-DQA2']\n",
      "    Key: number, Value: ['3']\n",
      "\n",
      "type: intron\n",
      "location: [4710:4877](+)\n",
      "qualifiers:\n",
      "    Key: allele, Value: ['HLA-DQA2*01:05:01:01extended']\n",
      "    Key: gene, Value: ['HLA-DQA2']\n",
      "    Key: number, Value: ['3']\n",
      "\n",
      "type: exon\n",
      "location: [4877:5232](+)\n",
      "qualifiers:\n",
      "    Key: allele, Value: ['HLA-DQA2*01:05:01:01extended']\n",
      "    Key: gene, Value: ['HLA-DQA2']\n",
      "    Key: number, Value: ['4']\n",
      "\n",
      "type: 3'UTR\n",
      "location: [5032:5232](+)\n",
      "qualifiers:\n",
      "    Key: allele, Value: ['HLA-DQA2*01:05:01:01extended']\n",
      "    Key: gene, Value: ['HLA-DQA2']\n",
      "\n"
     ]
    }
   ],
   "source": [
    "features_qualifiers(filename)"
   ]
  }
 ],
 "metadata": {
  "kernelspec": {
   "display_name": "Python 3",
   "language": "python",
   "name": "python3"
  },
  "language_info": {
   "codemirror_mode": {
    "name": "ipython",
    "version": 3
   },
   "file_extension": ".py",
   "mimetype": "text/x-python",
   "name": "python",
   "nbconvert_exporter": "python",
   "pygments_lexer": "ipython3",
   "version": "3.7.1"
  }
 },
 "nbformat": 4,
 "nbformat_minor": 5
}
