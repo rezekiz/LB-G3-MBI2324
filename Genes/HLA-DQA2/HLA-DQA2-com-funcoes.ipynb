{
 "cells": [
  {
   "cell_type": "markdown",
   "metadata": {},
   "source": [
    "# Secção de Código"
   ]
  },
  {
   "cell_type": "code",
   "execution_count": 2,
   "metadata": {},
   "outputs": [],
   "source": [
    "# ATENÇÃO À UTILIZAÇÃO DESTA FUNÇÃO\n",
    "# DEMASIADAS QUERIES SEGUIDAS PODEM LEVAR A BLOQUEIO POR PARTE DO SERVIDOR\n",
    "# EM PRINCÍPIO O MÓDULO ENTREZ ESTÁ PREPARADO PARA LIDAR COM ISSO MAS CONVÉM TER SEMPRE CUIDADO\n",
    "\n",
    "def pesquisa_ncbi(email, term, db = 'pubmed', retmax = 10, rettype = 'abstract', retmode = 'text', display = 'Y' , save = 'N', ext='txt'):\n",
    "    '''\n",
    "    NOTA - PARA USAR RETMODE XML TÊM DE SER DECLARADA UMA NOVA VARIÁVEL POIS A FUNÇÃO AINDA NÃO CRIA FICHEIROS XML\n",
    "    \n",
    "    Função para a pesquisa de bibliografia na base de dados NCBI utilizando BioPython\n",
    "    Esta função contempla um conjunto de parâmetros para seleção de base de dados e outputs desejado adaptando-se\n",
    "    ao objetivo da pesquisa. \n",
    "\n",
    "    Por defeito a função pesquisa a base de dados pubmed e capta os 10 primeiros resultados para uma pesquisa\n",
    "    generalizada. \n",
    "\n",
    "    Tem a opção de gerar um ficheiro de texto com os resultados da pesquisa de artigos e respetivos abstracts.\n",
    "\n",
    "    No entanto a função pode ser especializada para uma pesquisa em base de dados de genes para captar ficheiros\n",
    "    GenBank e FASTA para posterior análise com as funções específicas que estamos a desenvolver.\n",
    "\n",
    "    Parâmetros\n",
    "    ----------\n",
    "\n",
    "    email : str\n",
    "        email a ser utilizado pelo módulo Entrez para  pesquisa (e.g. exempl@mail.com)\n",
    "\n",
    "    term : str\n",
    "        termo a ser utilizado na pesquisa (e.g. 'gene-123 functions')\n",
    "\n",
    "    db  : str\n",
    "        base de dados onde irá ser realizada a pesquisa. Por defeito é utilizada a 'pubmed'\n",
    "        Para efeitos deste trabalho iremos também utilizar: 'gene', 'nuccore' e 'protein'\n",
    "        Outras opções disponíveis podem ser encontradas aqui: https://www.ncbi.nlm.nih.gov/books/NBK25497/table/chapter2.T._entrez_unique_identifiers_ui/?report=objectonly\n",
    "\n",
    "    retmax : int\n",
    "        define o número de resultados que queremos retirar para o output final (10 por defeito)\n",
    "\n",
    "    rettype : str\n",
    "        define o tipo de resultado que pretendemos retirar da base de dados ('abstract' por defeito)\n",
    "        pode ser mudado para 'gb' para base de dados 'gene' ou 'fasta' para base de dados de nucleotidos ou proteina (sequencias)\n",
    "        \n",
    "    retmode : str\n",
    "        define o retmode para a captura de resultados da pesquisa na base de dados. Por defeito \n",
    "        o retmode é text mas pode ser adaptado para 'xml' quando é pretendido obter um ficheiro xml (e.g base de dados nucleotide, ou genbank)\n",
    "\n",
    "    display : str\n",
    "        define se é pretendido o output da função legível (útil para quando se quer refinar a pesquisa antes/sem gravar o ficheiro)\n",
    "        por defeito apresenta o resultado em formato legível\n",
    "    \n",
    "    save : str\n",
    "        define se é pretendido gravar ou não o ficheiro de resultados na pasta 'lit-search-output'\n",
    "        por defeito este parâmetro está inactivo\n",
    "\n",
    "            \n",
    "    \n",
    "    '''\n",
    "    # TODO criar ficheiros XML\n",
    "    \n",
    "\n",
    "\n",
    "    # Importação de módulos\n",
    "    from Bio import Entrez\n",
    "    import os\n",
    "\n",
    "    # Definimos o email para os fins de pesquisa\n",
    "    Entrez.email = email\n",
    "        \n",
    "    # Secção egquery que pode ser skipable\n",
    "\n",
    "    handle = Entrez.egquery(term=term)\n",
    "    egq_res = Entrez.read(handle)\n",
    "\n",
    "    for _ in egq_res['eGQueryResult']:\n",
    "        if db in _.values():\n",
    "            if retmax > 1:\n",
    "                print('Encontrados {} resultados em {}. Irão ser processados {} resultados.\\n'.format(_['Count'],db,retmax))\n",
    "            else:\n",
    "                print('Encontrados {} resultados em {}. Irá ser processado 1 resultado.\\n'.format(_['Count'],db))\n",
    "\n",
    "    \n",
    "    if rettype == 'fasta' or rettype == 'gb': retmax = 1\n",
    "\n",
    "    # Sacar as IDs\n",
    "    handle      = Entrez.esearch(db=db,term=term, retmode=retmode, retmax=retmax)\n",
    "    esearch_res = Entrez.read(handle)\n",
    "\n",
    "    lista_ids = esearch_res['IdList']\n",
    "    # print('Top 10 artigos ->',lista_ids) # Converter para uma lista de títulos mais à frente'''\n",
    "    \n",
    "    \n",
    "\n",
    "    # Transfere a informação\n",
    "    handle = Entrez.efetch(db=db,id=','.join(lista_ids),rettype=rettype,retmode=retmode)\n",
    "    fetch_res = handle.read()\n",
    "    \n",
    "    # Usar com print para já, para não estar a bagunçar demasiado.\n",
    "    # Perceber como se pode implementar a escrita de ficheiros para ser mais fácil de mastigar os resultados.\n",
    "\n",
    "    # NÃO FUNCIONA NO GITHUB / LIVECODING\n",
    "    # ADICIONAR PARAMETRO save = 'Y' SE SE PRETENDER GUARDAR FICHEIRO \n",
    "    \n",
    "    if display.upper() == 'Y':\n",
    "        print(fetch_res,sep='\\n')\n",
    "\n",
    "    # Verifica a condição de gravação de output como ficheiro de texto\n",
    "    \n",
    "    if retmode == 'xml': save = 'n'\n",
    "    \n",
    "    if save.upper() == 'Y':  \n",
    "\n",
    "        # Definimos a extensão em função da base de dados e retmode\n",
    "        if rettype == 'gb':\n",
    "            ext = '.gbk'\n",
    "        \n",
    "        elif rettype == 'fasta':\n",
    "            ext = '.fasta'\n",
    "        \n",
    "        elif retmode == 'xml':\n",
    "            ext = '.xml'\n",
    "\n",
    "        else: ext = '.txt'\n",
    "\n",
    "        filename = term+ext\n",
    "\n",
    "        # Verifica se existe pasta para output e cria-a caso não exista\n",
    "        cwd = os.getcwd()\n",
    "        outputdir = os.path.join(cwd,'gene_search() output')\n",
    "        if not os.path.exists(outputdir):\n",
    "            os.mkdir(outputdir)\n",
    "\n",
    "\n",
    "        # Muda o working directory para a pasta de output para gerar o ficheiro\n",
    "        os.chdir(outputdir)\n",
    "\n",
    "        if os.path.isfile(filename): print('Ficheiro já existe. Não será criado novo ficheiro.')\n",
    "\n",
    "\n",
    "\n",
    "        # Gera o ficheiro           \n",
    "        with open(term+ext , 'w', encoding='utf-8') as _:\n",
    "            _.write(fetch_res)\n",
    "\n",
    "        # Retorna ao working directory anterior\n",
    "        os.chdir(cwd)\n",
    "\n",
    "\n",
    "    handle.close()\n",
    "\n",
    "    return fetch_res"
   ]
  },
  {
   "cell_type": "code",
   "execution_count": null,
   "metadata": {},
   "outputs": [],
   "source": [
    "def parsing(nome_ficheiro):\n",
    "\n",
    "    from Bio import SeqIO\n",
    "    \n",
    "    record = SeqIO.read(nome_ficheiro, \"genbank\")\n",
    "\n",
    "    print(\"ID do gene:\", record.id)\n",
    "\n",
    "    print(\"Nome do gene:\", record.name)\n",
    "\n",
    "    print(\"Descrição do gene\", record.description)\n",
    "\n",
    "    print(\"Comprimento da sequência:\", len(record.seq), \"bp\")\n",
    "\n",
    "    return"
   ]
  },
  {
   "cell_type": "code",
   "execution_count": null,
   "metadata": {},
   "outputs": [],
   "source": [
    "def anot(nome_ficheiro):\n",
    "    \n",
    "    from Bio import SeqIO\n",
    "    \n",
    "    record = SeqIO.read(nome_ficheiro, \"genbank\")\n",
    "\n",
    "    print(\"Quantidade de anotações:\", len(record.annotations))\n",
    "\n",
    "    print()\n",
    "    \n",
    "    print(\"Lista de anotações:\")\n",
    "    \n",
    "    for anotacao in record.annotations:\n",
    "        print(anotacao, \"->\", record.annotations[anotacao])\n",
    "\n",
    "    return   \n"
   ]
  },
  {
   "cell_type": "code",
   "execution_count": null,
   "metadata": {},
   "outputs": [],
   "source": [
    "def features_qualifiers(nome_ficheiro):\n",
    "    \n",
    "    from Bio import SeqIO\n",
    "    \n",
    "    record = SeqIO.read(nome_ficheiro, \"genbank\")\n",
    "    \n",
    "    print(\"Quantidade de features:\", len(record.features))\n",
    "\n",
    "    for feature in record.features:\n",
    "        print(feature)\n",
    "    return\n"
   ]
  },
  {
   "cell_type": "markdown",
   "metadata": {},
   "source": [
    "# Secção de resultados"
   ]
  },
  {
   "cell_type": "markdown",
   "metadata": {},
   "source": [
    "## Literatura"
   ]
  },
  {
   "cell_type": "code",
   "execution_count": 3,
   "metadata": {},
   "outputs": [],
   "source": [
    "email = 'pg21019@alunos.uminho.pt'\n",
    "gene = 'hla-dqa2'\n",
    "termos = [\n",
    "    \n",
    "    'hla-dqa1 hla-dqa2 hla-dqb1',\n",
    "    'hla-dqa2 food allergy',\n",
    "    'hla-dqa2 cancer'\n",
    "]"
   ]
  },
  {
   "cell_type": "code",
   "execution_count": null,
   "metadata": {},
   "outputs": [],
   "source": [
    "# Pesquisa generalizada - top 10 resultaods\n",
    "\n",
    "pesquisa_ncbi(email,gene,save='Y')"
   ]
  },
  {
   "cell_type": "code",
   "execution_count": null,
   "metadata": {},
   "outputs": [],
   "source": [
    "# Pesquisa para os restantes termos\n",
    "from time import sleep\n",
    "\n",
    "for termo in termos:\n",
    "    pesquisa_ncbi(email,termo,save='y',display='n')\n",
    "    sleep(5)\n"
   ]
  },
  {
   "cell_type": "code",
   "execution_count": 12,
   "metadata": {},
   "outputs": [
    {
     "name": "stdout",
     "output_type": "stream",
     "text": [
      "Encontrados 99 resultados em nuccore. Irá ser processado 1 resultado.\n",
      "\n",
      "Encontrados 57 resultados em protein. Irá ser processado 1 resultado.\n",
      "\n"
     ]
    }
   ],
   "source": [
    "# Identificação dos dados para pesquisa avançada\n",
    "# Geração de ficheiros para processamento nas outras funções\n",
    "# TODO alterar para save = 'y' no final\n",
    "nucleotide = pesquisa_ncbi(email,gene,db='nuccore',save='n',retmax=1,display='n')          # Descobrir o identificador do gene\n",
    "proteina   = pesquisa_ncbi(email,gene,db='protein',save='n',retmax=1,display='n') # Descobrir o identificador da proteína"
   ]
  },
  {
   "cell_type": "code",
   "execution_count": 13,
   "metadata": {},
   "outputs": [],
   "source": [
    "id_nucleotide = nucleotide.split()[1]\n",
    "id_proteina = proteina.split()[1]"
   ]
  },
  {
   "cell_type": "code",
   "execution_count": 16,
   "metadata": {},
   "outputs": [],
   "source": [
    "fich_gbk   = 'gene_search() output\\\\' + gene + '.gbk'"
   ]
  },
  {
   "cell_type": "code",
   "execution_count": 10,
   "metadata": {},
   "outputs": [
    {
     "name": "stdout",
     "output_type": "stream",
     "text": [
      "ID do gene: OR557191.1\n",
      "Nome do gene: OR557191\n",
      "Descrição do gene Homo sapiens isolate PSCDA0402 MHC class II antigen (HLA-DQA2) gene, HLA-DQA2*01:05:01:01extended allele, complete cds\n",
      "Comprimento da sequência: 5232 bp\n"
     ]
    }
   ],
   "source": [
    "parsing(fich_gbk)"
   ]
  },
  {
   "cell_type": "code",
   "execution_count": 14,
   "metadata": {},
   "outputs": [
    {
     "name": "stdout",
     "output_type": "stream",
     "text": [
      "Quantidade de anotações: 12\n",
      "\n",
      "Lista de anotações:\n",
      "molecule_type -> DNA\n",
      "topology -> linear\n",
      "data_file_division -> PRI\n",
      "date -> 25-OCT-2023\n",
      "accessions -> ['OR557191']\n",
      "sequence_version -> 1\n",
      "keywords -> ['']\n",
      "source -> Homo sapiens (human)\n",
      "organism -> Homo sapiens\n",
      "taxonomy -> ['Eukaryota', 'Metazoa', 'Chordata', 'Craniata', 'Vertebrata', 'Euteleostomi', 'Mammalia', 'Eutheria', 'Euarchontoglires', 'Primates', 'Haplorrhini', 'Catarrhini', 'Hominidae', 'Homo']\n",
      "references -> [Reference(title='Direct Submission', ...)]\n",
      "structured_comment -> defaultdict(<class 'dict'>, {'Assembly-Data': {'Assembly Method': 'NGSengine v. 2.30.1.29498', 'Sequencing Technology': 'PacBio'}})\n"
     ]
    }
   ],
   "source": [
    "anot(fich_gbk)"
   ]
  },
  {
   "cell_type": "code",
   "execution_count": 16,
   "metadata": {},
   "outputs": [
    {
     "name": "stdout",
     "output_type": "stream",
     "text": [
      "Quantidade de features: 13\n",
      "type: source\n",
      "location: [0:5232](+)\n",
      "qualifiers:\n",
      "    Key: db_xref, Value: ['taxon:9606']\n",
      "    Key: isolate, Value: ['PSCDA0402']\n",
      "    Key: mol_type, Value: ['genomic DNA']\n",
      "    Key: organism, Value: ['Homo sapiens']\n",
      "\n",
      "type: gene\n",
      "location: [0:5232](+)\n",
      "qualifiers:\n",
      "    Key: allele, Value: ['HLA-DQA2*01:05:01:01extended']\n",
      "    Key: gene, Value: ['HLA-DQA2']\n",
      "\n",
      "type: mRNA\n",
      "location: join{[0:162](+), [3796:4045](+), [4428:4710](+), [4877:5232](+)}\n",
      "qualifiers:\n",
      "    Key: allele, Value: ['HLA-DQA2*01:05:01:01extended']\n",
      "    Key: gene, Value: ['HLA-DQA2']\n",
      "    Key: product, Value: ['MHC class II antigen']\n",
      "\n",
      "type: exon\n",
      "location: [0:162](+)\n",
      "qualifiers:\n",
      "    Key: allele, Value: ['HLA-DQA2*01:05:01:01extended']\n",
      "    Key: gene, Value: ['HLA-DQA2']\n",
      "    Key: number, Value: ['1']\n",
      "\n",
      "type: 5'UTR\n",
      "location: [0:80](+)\n",
      "qualifiers:\n",
      "    Key: allele, Value: ['HLA-DQA2*01:05:01:01extended']\n",
      "    Key: gene, Value: ['HLA-DQA2']\n",
      "\n",
      "type: CDS\n",
      "location: join{[80:162](+), [3796:4045](+), [4428:4710](+), [4877:5032](+)}\n",
      "qualifiers:\n",
      "    Key: allele, Value: ['HLA-DQA2*01:05:01:01extended']\n",
      "    Key: codon_start, Value: ['1']\n",
      "    Key: gene, Value: ['HLA-DQA2']\n",
      "    Key: product, Value: ['MHC class II antigen']\n",
      "    Key: protein_id, Value: ['WOF76037.1']\n",
      "    Key: translation, Value: ['MILNKALLLGALALTAVMSPCGGEDIVADHVASYGVNFYQSHGPSGQYTHEFDGDEEFYVDLEMKETVWQLPMFSKFISFDPQSALRNMAVGKHTLEFMMRQSNSTAATNEVPEVTVFSKFPVTLGQPNTLICLVDNIFPPVVNITWLSNGHSVTEGVSETSFLSKSDHSFFKISYLTFLPSADEIYDCKVEHWGLDEPLLKHWEPEIPAPMSELTETLVCALGLSVGLMGIVVGTVFIIQGLRSVGASRHQGLL']\n",
      "\n",
      "type: intron\n",
      "location: [162:3796](+)\n",
      "qualifiers:\n",
      "    Key: allele, Value: ['HLA-DQA2*01:05:01:01extended']\n",
      "    Key: gene, Value: ['HLA-DQA2']\n",
      "    Key: number, Value: ['1']\n",
      "\n",
      "type: exon\n",
      "location: [3796:4045](+)\n",
      "qualifiers:\n",
      "    Key: allele, Value: ['HLA-DQA2*01:05:01:01extended']\n",
      "    Key: gene, Value: ['HLA-DQA2']\n",
      "    Key: number, Value: ['2']\n",
      "\n",
      "type: intron\n",
      "location: [4045:4428](+)\n",
      "qualifiers:\n",
      "    Key: allele, Value: ['HLA-DQA2*01:05:01:01extended']\n",
      "    Key: gene, Value: ['HLA-DQA2']\n",
      "    Key: number, Value: ['2']\n",
      "\n",
      "type: exon\n",
      "location: [4428:4710](+)\n",
      "qualifiers:\n",
      "    Key: allele, Value: ['HLA-DQA2*01:05:01:01extended']\n",
      "    Key: gene, Value: ['HLA-DQA2']\n",
      "    Key: number, Value: ['3']\n",
      "\n",
      "type: intron\n",
      "location: [4710:4877](+)\n",
      "qualifiers:\n",
      "    Key: allele, Value: ['HLA-DQA2*01:05:01:01extended']\n",
      "    Key: gene, Value: ['HLA-DQA2']\n",
      "    Key: number, Value: ['3']\n",
      "\n",
      "type: exon\n",
      "location: [4877:5232](+)\n",
      "qualifiers:\n",
      "    Key: allele, Value: ['HLA-DQA2*01:05:01:01extended']\n",
      "    Key: gene, Value: ['HLA-DQA2']\n",
      "    Key: number, Value: ['4']\n",
      "\n",
      "type: 3'UTR\n",
      "location: [5032:5232](+)\n",
      "qualifiers:\n",
      "    Key: allele, Value: ['HLA-DQA2*01:05:01:01extended']\n",
      "    Key: gene, Value: ['HLA-DQA2']\n",
      "\n"
     ]
    }
   ],
   "source": [
    "features_qualifiers(fich_gbk)"
   ]
  },
  {
   "cell_type": "markdown",
   "metadata": {},
   "source": [
    "## Análise BLAST"
   ]
  },
  {
   "cell_type": "markdown",
   "metadata": {},
   "source": [
    "## Análise da proteína"
   ]
  },
  {
   "cell_type": "code",
   "execution_count": 21,
   "metadata": {},
   "outputs": [],
   "source": [
    "from Bio import SeqIO\n",
    "from Bio import ExPASy\n",
    "\n",
    "fich_fasta = 'gene_search() output\\\\' + gene + '.fasta'\n",
    "\n",
    "# Retiramos a sequência de DNA a partir do ficheiro FASTA\n",
    "\n",
    "seq = SeqIO.read(open(fich_fasta),format='fasta')"
   ]
  },
  {
   "cell_type": "code",
   "execution_count": 23,
   "metadata": {},
   "outputs": [],
   "source": [
    "# Procedemos à sua transcrição e tradução para obter a sequência de aminoácidos\n",
    "\n",
    "seq_trans = seq.seq.transcribe()\n",
    "seq_trad  = seq_trans.translate()"
   ]
  },
  {
   "cell_type": "code",
   "execution_count": 30,
   "metadata": {},
   "outputs": [],
   "source": [
    "# Procedemos à contagem de aminoácidos:\n",
    "# Primeiro para a sequência traduzida e depois para o conjunto de sequências após a remoção de codões stop\n",
    "\n",
    "from collections import Counter\n",
    "\n",
    "contagem_amino_total = Counter(seq_trad)"
   ]
  },
  {
   "cell_type": "code",
   "execution_count": 26,
   "metadata": {},
   "outputs": [
    {
     "data": {
      "text/plain": [
       "Counter({'F': 96,\n",
       "         'R': 99,\n",
       "         'A': 79,\n",
       "         'C': 55,\n",
       "         'L': 185,\n",
       "         'E': 73,\n",
       "         'V': 99,\n",
       "         'T': 96,\n",
       "         'I': 69,\n",
       "         'Q': 61,\n",
       "         'G': 91,\n",
       "         '*': 80,\n",
       "         'S': 187,\n",
       "         'K': 97,\n",
       "         'W': 32,\n",
       "         'P': 107,\n",
       "         'N': 61,\n",
       "         'Y': 45,\n",
       "         'D': 32,\n",
       "         'M': 42,\n",
       "         'H': 58})"
      ]
     },
     "execution_count": 26,
     "metadata": {},
     "output_type": "execute_result"
    }
   ],
   "source": [
    "contagem_amino_total"
   ]
  },
  {
   "cell_type": "code",
   "execution_count": 34,
   "metadata": {},
   "outputs": [
    {
     "name": "stdout",
     "output_type": "stream",
     "text": [
      "ID P05538 \n",
      " Sequência: MSWKMALQIPGGFWAAAVTVMLVMLSTPVAEARDFPKDFLVQFKGMCYFTNGTERVRGVARYIYNREEYGRFDSDVGEFQAVTELGRSIEDWNNYKDFLEQERAAVDKVCRHNYEAELRTTLQRQVEPTVTISPSRTEALNHHNLLVCSVTDFYPAQIKVRWFRNDQEETAGVVSTSLIRNGDWTFQILVMLEITPQRGDIYTCQVEHPSLQSPITVEWRAQSESAQSKMLSGIGGFVLGLIFLGLGLIIRHRGQKGPRGPPPAGLLH \n",
      " Tamanho da sequência: 268 bp\n",
      "Nome: DQB2_HUMAN \n",
      " Descrição: RecName: Full=HLA class II histocompatibility antigen, DQ beta 2 chain; AltName: Full=HLA class II histocompatibility antigen, DX beta chain; AltName: Full=MHC class II antigen DQB2; Flags: Precursor; \n",
      " Taxonomia: ['Eukaryota', 'Metazoa', 'Chordata', 'Craniata', 'Vertebrata', 'Euteleostomi', 'Mammalia', 'Eutheria', 'Euarchontoglires', 'Primates', 'Haplorrhini', 'Catarrhini', 'Hominidae', 'Homo'] \n",
      " Organismo: Homo sapiens (Human) \n",
      " Keywords: ['Adaptive immunity', 'Alternative splicing', 'Cell membrane', 'Disulfide bond', 'Endoplasmic reticulum', 'Endosome', 'Glycoprotein', 'Golgi apparatus', 'Immunity', 'Lysosome', 'Membrane', 'MHC II', 'Reference proteome', 'Signal', 'Transmembrane', 'Transmembrane helix']\n"
     ]
    }
   ],
   "source": [
    "handle = ExPASy.get_sprot_raw(id_proteina)\n",
    "seq_record = SeqIO.read(handle, \"swiss\")\n",
    "id = seq_record.id\n",
    "seq = seq_record.seq\n",
    "tam = len(seq_record.seq)\n",
    "name = seq_record.name\n",
    "desc = seq_record.description\n",
    "com = seq_record.annotations[\"comment\"]\n",
    "taxon = seq_record.annotations[\"taxonomy\"]\n",
    "organism = seq_record.annotations[\"organism\"]\n",
    "key = seq_record.annotations[\"keywords\"]\n",
    "print(f\"ID {id} \\n Sequência: {seq} \\n Tamanho da sequência: {tam} bp\")\n",
    "print(f\"Nome: {name} \\n Descrição: {desc} \\n Taxonomia: {taxon} \\n Organismo: {organism} \\n Keywords: {key}\")"
   ]
  },
  {
   "cell_type": "code",
   "execution_count": null,
   "metadata": {},
   "outputs": [],
   "source": []
  }
 ],
 "metadata": {
  "kernelspec": {
   "display_name": "Python 3",
   "language": "python",
   "name": "python3"
  },
  "language_info": {
   "codemirror_mode": {
    "name": "ipython",
    "version": 3
   },
   "file_extension": ".py",
   "mimetype": "text/x-python",
   "name": "python",
   "nbconvert_exporter": "python",
   "pygments_lexer": "ipython3",
   "version": "3.7.1"
  }
 },
 "nbformat": 4,
 "nbformat_minor": 2
}
