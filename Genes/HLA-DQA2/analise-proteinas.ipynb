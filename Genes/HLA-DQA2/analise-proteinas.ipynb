{
 "cells": [
  {
   "cell_type": "markdown",
   "metadata": {},
   "source": [
    "Blueprint para construir a funlção mais tarde:\n",
    "\n",
    "- Fazemos lit_search na base de dados protein com retmax 1 para sacar só o primeiro resultado;\n",
    "- Sacamos o ID da proteína\n",
    "- Usamos o expasy get sprot max com o ID da proteína e criamos um dicionário com os diferentes aspetos (ID, etc e tal)\n",
    "- Por fim criamos o módulo para a análise dos conserved domains do NCBI e o PDB"
   ]
  },
  {
   "cell_type": "code",
   "execution_count": 24,
   "metadata": {},
   "outputs": [],
   "source": [
    "from Bio import SeqIO\n",
    "from Bio import ExPASy"
   ]
  },
  {
   "cell_type": "code",
   "execution_count": 6,
   "metadata": {},
   "outputs": [],
   "source": [
    "nf = 'gene_search() output\\\\hla-dqa2.fasta'"
   ]
  },
  {
   "cell_type": "code",
   "execution_count": 7,
   "metadata": {},
   "outputs": [],
   "source": [
    "record = SeqIO.read(open(nf), format = 'fasta')"
   ]
  },
  {
   "cell_type": "code",
   "execution_count": 16,
   "metadata": {},
   "outputs": [],
   "source": [
    "\n",
    "# Transcreve\n",
    "gene_rna = record.seq.transcribe()\n"
   ]
  },
  {
   "cell_type": "code",
   "execution_count": 19,
   "metadata": {},
   "outputs": [
    {
     "name": "stdout",
     "output_type": "stream",
     "text": [
      "UUCAGAUUUGCUUGUCUCGAGGUCCUCACAAUUGCUCUACAGCUCAGAGCAGCAACUGCUGAGGCUGCCUUGGGAAGAAGAUGAUCCUAAACAAAGCUCUGCUGCUGGGGGCCCUCGCCCUGACUGCCGUGAUGAGCCCCUGUGGAGGUGAAGACAUUGUGGGUGAGUGCAUGAGUGAGGAAUGUUCUCUGGAGCUGAAAAACAGCAAAUUAAAGGAAAAGAAAGAGUGCAAUUUGCUAAGAAAUAGUAGAAAUUUCCCAAGGGUCUUUUCAAUAUUAAGAAAUUUUAAAAUUAUGGCAGUUCCUCCUUUAGGAAACCAGAGCUCCAACCGACUCUCUUUGCUACCUGUGCUAUUGGAGUUUACCAAGGACGUUGUUCUGUUUAUAUUAUAUCCAGAGACUAUAGCCUGGAGGUCUGUGUGGCAUUCCAUCAUGAUUGCCUCAAAGACUAGGGAUGUUUCCAUGAAUGGAGUAUUUUUUUGUUAUUAAAAAUUUCUGAACUGUUACUCCCAAAUUUCUCUGAACAACUUUUGAAGCUUUUCAUAUGCCUCCUAUAGCAUAUGUUGGGGUAGAUAGUUCCAUGAAGUAUGUACACUCUAUAGAUAUAAAGAAAGAGGUUCUUUUCUUUCUCUCAGACUUACAUUUCCACAUGGGAAUUGGCACAGGUGGGGAGUAGGUGAAAGAGCCCAGCAGGCUGAAUGCCUUCAACAAUCAUUUUACCACGUGGUAAAUGUGGUACUUACUCUCUGCUACCUCAUAUAUGUCACCUCGCUUAUGAUCAAAUAAAAUGGGCAUGUAGAUAUGCUUUAUGAAUAGUAAAAACAUGAAUGUCAACUUUUUUUAACUUAUUCCUAUUACAGGUAUAACUUCGUAUUUUUUCUUUAGCAAAGUAAGGAAUAUAUUUUAAAACUGAGAACUUUAUGAUAAAAUGCUUGGUAAAUUAAAUUAUUUUAUUCUCAAAUUGUCAACCCAAAUUACUUGUUCUUCACCUUAUCUAAUGAAGUCUUAUAAAGAGAAAAAUGGGCAGGCACAGAUUAUUUGGUCCCUUAGUCCCCUCUGCCUUUGUCGUCCAUCUCUUUCCACCUCUCUUCAUGCAUCCCUUUCUCCCUCUUCCCUUUCAGGAUCCAUCUCUGACUCCCUGCUCCUUUACAGACAUGGGCAGUGGGUUUGUAAAACAAAAGUUGGAAAGUCAAAUAGUUAAAAGGGGAAGUGAACUGGAAGCUACUCGAAACUUCCACAACCUUAUUAACCAUAGCUGCUCCCAUUCUGAUUUUGUUUGGCAGUGGAAGUUUCACCUGCUUCUCCAGAGCACUUGGCUUUUUUUUUUCAAAUCUCCUUUCUUCAACCUCACACCAGAGUGCCCCGGUCAGGCUCGACUUAUCCAUUAGGAACAGUGUGGGCAGUGAAGGAGACUCUCCAAACUGUAAAGCUACAAGAGAACGUUUUAACUCGUUUUAAAAUUAGAAGAAAAAUGAAGUUUUACAGUCUAUGAAAAUGUUUUAACUUUUUUUUUUUUUUGACGGAGUCUCGCUCUGUCGCCCAGGCUGGAGUGCAGUGGCACGAUCUCAGCUCACUGCAAGCUCCGCCUCCCGGGUUCACGCCAUUCUCCUGCCUCAGCCUCCCGAGUAGCUGGGACUACAGGCGCCCGCCACCGCGCACGGCUAAUUUUUUGUAUUUUUAGUAGGGACGGGGUUUCACCGUGUGAGCCAGGAUGGUCUCGAUCUCCUGACCUCAUGAUCCGCCCGUCUCAACCUCCCAAAGUGCUGGGAUUACAGGCGUGAUCCACCGUGUCCGGCCUUAACUUUUAAUGUAGCCUGGAUUGUAUUUGUCUUUAUACCAAUACAAUCAGAAGCUGUAAUUUUCCGUAUUUUUAUGGAGGAAGGCGCCCACAAAAGCAACAGUGCUCGGGGCUCACAAGUCAGAAUUCAGCCCUGGGCAUCCCUGAUCCUGGGCUUUGCGUGGUUCUGCUACCUGGGUGCCUGUCAGUCUUCCCCAAAAUCUAUGUAAUUGUCAAAAAUUGCAAUUGUCAUUCAAUACACAUGUUUGAGCACACAAUGAGCUAACUUUUGGGAAUUCAAAGAUAAAAAAUCAUGCUGUCUGCCUUGCAGAGGGUGCACAAACCAGUGAUGGAAACAGUAUGGGGCACAGGAAAGCAGAAGGCCCUGCUGAGCAGGACAGUGGCCCAGCAGAGGCUGAAACUAUAAAAAUGACUUGGUUCCAGCUGGGCCAGUAGAGUGAUGUCCUCCAGCAACACUCAGCACCCAGGACAAGUACCAGAUGAAAAGAAGAAUUGCAUGUAUUCCACAUAUAUUCAUGUUUGAACAAGGAGUCAAAGUUUAUUGUAAGGAUAAGGAGUCUUUGUUGGUGGCCUGUUAAGUAACCAACCAGGGCAGUCAUGCUGGGUAGGGAAGAAGGUGAGCUGGAGGAGGAAAAGACAAACUUGGAGAGCCAGACAUUGAGAUUCCAUUGAGGCGUUGGAGGUCACAACGCGGUCAAAAACAUGUUGAGAGGACUUAGCUGCAAAGUUGUUAACUAAGUAGAAACCUAAAGGAUGAAUUUUAGGAUUUCUCCAGGAAAUCCUAAAAGAUAACUUCUUUCAGGGAGAAAAAACAGACCCUUGCAAAGACAUGAAAGGAAAUGUAAUUUGGUUUGAUUGGCAGAUAGUUGUGAAGAAUGUUGGACUGUAAGGCUGUCGAUAUCCUCCUCACAGAACUCCCCAAAGUACAUUGUAUUUGCUCCCUUACCGACCUGAUUCUCCCACUAUUCAGUUCAUUCCUUGAUGCUGUUUUAAGCAACCCCUGCUCUGUCUGACACUUUUGGAUGCUCAGUAAAUGAGGAAAGAAGGAAGGAAAGAUAAAAUGGUAAAGGGCUCACACAUGUCUUAACAAAAAUGUCCAGUUCGGCUCAUUUGGCUAUACUUCAUGGCUGCUGCUCUGCCCUUGCAUCCUCGGAUAAGCUCACUGCCCAUUAGAGGAAAAAGGGUUUAAUUUACCUGAGUCCUCGAGUGAAUGUAAUUGUUGAAUCAGAACACUAUAGAUAUUUAGUAACCUCCUUCAGAGGAAAAAAAAAAAAGUGGGGGCAAUGACAGAAAUUAAAAAACCAGUCGAGCUUCCACUUUUCAUUUCAGAAGAAAUCAGGUGCUCUCCUCUAAGGACCACUACUAUUAACAAAACAGAGACCUUAGAAGAAUUGUUUAUUUGUUAUAAAUGUAUAAUGUUGCUAUUCUUGUAAUAGUCUUUCUCGUACCCUAUAAUUGUUAGAAGAAAUUAUUUUAAGUUAAUACGUUCCUACAUGCUUUUCUUUGGUUUAAAAAAAAAAAAAAAAAAAGGAAACUCUGUGUAGAAAGUGUCCUGUUCUGAUCUAGUCCUGACAGGAAACGAAGUAUAAUCAACUUGUUAUUAACUGAGAGAGAAAACUUAGGAAGCAGAGGGAAAUAAACUGAAUCUCUGAGUAAGAAAACUAAAUCCUAUGAUAACUCAUUCAUUCCUUCCUUUGUUUAUUGCAAUAUUCAUCAUAAGCUUAUGAUGUGCCAGGCACUAAGUAGGCACUCAGGAAAUAACAGACGUGUGACGUUCUGCCUUUGUGGAGCAUAUGUUAUAGUGAGAAAGACAGAAUCAGUUCUAACCUGAUGACUACCAACGUUAGGCAAGGAGGAAGCAGGUGUUAGGAAGAUUGUUCAGGGACUGUGCCAAAGAUGAAGCCCAUAAUAUUUGAAAGUGAGUUUCUUCAAUCACUUUCUGUAUUAAGGUUCUUUCUCCCUGUGUUCCACCCUCCUGCUUGUCACCUUCACUCGUCAGCUGACCAUGUUGCCUCCUAUGGUGUGAACUUCUACCAGUCUCACGGUCCCUCUGGCCAGUACACCCAUGAAUUUGAUGGAGACGAGGAGUUCUAUGUGGACCUGGAGAUGAAAGAGACUGUCUGGCAGUUGCCUAUGUUUAGCAAAUUUAUAAGUUUUGACCCGCAGAGUGCACUGAGAAAUAUGGCUGUGGGAAAACACACCUUGGAAUUCAUGAUGAGACAGUCCAACUCUACCGCUGCCACCAAUGGUAUGUGUCCACCAUUCCGCCUCUCUUUACUGAAACUAAUCUUUCAUACCAAGUUUUACUCCCUUCUUCUCAAGAGAUUUCCAGAUCUUCUCAUGGUAAUUGCUGAAAUUUUAUCAUCUCCCAUCUCUAAAAUCACAUAUUCCCAUGUAAUACAAGGGUCUUUCCAUUAUGUAUUAAUUCCUACUUUAUUAAACAUGCCCACAGAGAGAAGGGCACAGGAAUAAAGCAGAGGCAAUGUGUCGUUGCUCCCAAGCAGAAGGUAAAUAAGACCUCUUUGACUAUCAGGUGGUGAAAUGCUGGUAGGAGGGCUCUUCCAGGAUGUAAUGCAGAAGCUCAUGGCAGAGCUAUUCACACUUCACAUCAGUGCUGUUUCCUCACCACAGAGGUUCCUGAGGUCACAGUGUUUUCCAAGUUUCCUGUGACGCUGGGUCAGCCCAACACCCUCAUCUGUCUUGUGGACAACAUCUUUCCUCCUGUGGUCAACAUCACCUGGCUGAGCAAUGGGCACUCAGUCACAGAAGGUGUUUCUGAGACCAGCUUCCUCUCCAAGAGUGAUCAUUCCUUCUUCAAGAUCAGUUACCUCACCUUCCUCCCUUCUGCUGAUGAGAUUUAUGACUGCAAGGUGGAGCACUGGGGCCUGGACGAGCCUCUUCUGAAACACUGGGGUAAGGAUGAGUUCCACCACUUCAUGGGUUUCUAAUAAUAGACUUCACUCUUCUCCCUAAGCCUGGGGCCUUGAGUCUUGCAGAGCCAGCCCUCCACCCCAUCCCAUCCCACACACAUGCACAUGAGCACACUGCACAUUCUGACCUCAACAGCUCCACUUUCACAGAGCCUGAGAUUCCAGCCCCUAUGUCAGAGCUCACAGAGACUUUGGUCUGCGCCCUGGGGUUGUCUGUGGGCCUCAUGGGCAUUGUGGUGGGCACUGUCUUCAUCAUCCAAGGCCUGCGUUCAGUUGGUGCUUCCAGACACCAAGGGCUCUUAUGAAUCCCAUCCUGAAAAGGAAGGUAAGAUUGAGAUUUGUUGGAGCUGAAACCUCAGUAUGAGAGGGAGGAAAGUGGGAGGGGGUUGUGGACAUGAAUGUGGUUGAAAGUUGUAGGCGAAUUGGGAAGUGGCAUGAUGAUCACACAGGAGGCCCCUCAGACCCAUCGAUCUCAUGUCUGUCCUGUUGCAGGUGCAUCACCAUC\n"
     ]
    }
   ],
   "source": []
  },
  {
   "cell_type": "code",
   "execution_count": 14,
   "metadata": {},
   "outputs": [
    {
     "data": {
      "text/plain": [
       "Seq('FRFACLEVLTIALQLRAATAEAALGRR*S*TKLCCWGPSP*LP**APVEVKTLW...ITI')"
      ]
     },
     "execution_count": 14,
     "metadata": {},
     "output_type": "execute_result"
    }
   ],
   "source": [
    "# Traduz\n",
    "gene_prota = gene_rna.translate()\n",
    "gene_prota"
   ]
  },
  {
   "cell_type": "code",
   "execution_count": 1,
   "metadata": {},
   "outputs": [
    {
     "ename": "NameError",
     "evalue": "name 'gene_prota' is not defined",
     "output_type": "error",
     "traceback": [
      "\u001b[1;31m---------------------------------------------------------------------------\u001b[0m",
      "\u001b[1;31mNameError\u001b[0m                                 Traceback (most recent call last)",
      "\u001b[1;32m~\\AppData\\Local\\Temp\\ipykernel_94824\\3089080582.py\u001b[0m in \u001b[0;36m<module>\u001b[1;34m\u001b[0m\n\u001b[0;32m      2\u001b[0m \u001b[1;33m\u001b[0m\u001b[0m\n\u001b[0;32m      3\u001b[0m \u001b[1;32mfrom\u001b[0m \u001b[0mcollections\u001b[0m \u001b[1;32mimport\u001b[0m \u001b[0mCounter\u001b[0m\u001b[1;33m\u001b[0m\u001b[1;33m\u001b[0m\u001b[0m\n\u001b[1;32m----> 4\u001b[1;33m \u001b[0mamino_count\u001b[0m \u001b[1;33m=\u001b[0m \u001b[0mCounter\u001b[0m\u001b[1;33m(\u001b[0m\u001b[0mgene_prota\u001b[0m\u001b[1;33m)\u001b[0m\u001b[1;33m\u001b[0m\u001b[1;33m\u001b[0m\u001b[0m\n\u001b[0m\u001b[0;32m      5\u001b[0m \u001b[0mamino_count\u001b[0m\u001b[1;33m\u001b[0m\u001b[1;33m\u001b[0m\u001b[0m\n",
      "\u001b[1;31mNameError\u001b[0m: name 'gene_prota' is not defined"
     ]
    }
   ],
   "source": [
    "# Contagem\n",
    "\n",
    "from collections import Counter\n",
    "amino_count = Counter(gene_prota)\n",
    "amino_count"
   ]
  },
  {
   "cell_type": "code",
   "execution_count": 12,
   "metadata": {},
   "outputs": [
    {
     "data": {
      "text/plain": [
       "Seq('FRFACLEVLTIALQLRAATAEAALGRR*S*TKLCCWGPSP*LP**APVEVKTLW...ITI')"
      ]
     },
     "execution_count": 12,
     "metadata": {},
     "output_type": "execute_result"
    }
   ],
   "source": [
    "gene_prota"
   ]
  },
  {
   "cell_type": "code",
   "execution_count": 8,
   "metadata": {},
   "outputs": [],
   "source": [
    "# Limpa codoes stop\n",
    "prota = gene_prota.split('*')   "
   ]
  },
  {
   "cell_type": "code",
   "execution_count": null,
   "metadata": {},
   "outputs": [],
   "source": []
  },
  {
   "cell_type": "code",
   "execution_count": 25,
   "metadata": {},
   "outputs": [],
   "source": [
    "from Bio.ExPASy import ScanProsite"
   ]
  },
  {
   "cell_type": "code",
   "execution_count": 26,
   "metadata": {},
   "outputs": [
    {
     "ename": "HTTPError",
     "evalue": "HTTP Error 308: Permanent Redirect",
     "output_type": "error",
     "traceback": [
      "\u001b[1;31m---------------------------------------------------------------------------\u001b[0m",
      "\u001b[1;31mHTTPError\u001b[0m                                 Traceback (most recent call last)",
      "\u001b[1;32m~\\AppData\\Local\\Temp\\ipykernel_97640\\2487801950.py\u001b[0m in \u001b[0;36m<module>\u001b[1;34m\u001b[0m\n\u001b[1;32m----> 1\u001b[1;33m \u001b[0mhandle\u001b[0m \u001b[1;33m=\u001b[0m \u001b[0mScanProsite\u001b[0m\u001b[1;33m.\u001b[0m\u001b[0mscan\u001b[0m\u001b[1;33m(\u001b[0m\u001b[1;34m'DQB2_HUMAN'\u001b[0m\u001b[1;33m)\u001b[0m\u001b[1;33m\u001b[0m\u001b[1;33m\u001b[0m\u001b[0m\n\u001b[0m",
      "\u001b[1;32mc:\\Users\\rsous\\AppData\\Local\\Programs\\Python\\Python37\\lib\\site-packages\\Bio\\ExPASy\\ScanProsite.py\u001b[0m in \u001b[0;36mscan\u001b[1;34m(seq, mirror, output, **keywords)\u001b[0m\n\u001b[0;32m     61\u001b[0m     \u001b[0mcommand\u001b[0m \u001b[1;33m=\u001b[0m \u001b[0murlencode\u001b[0m\u001b[1;33m(\u001b[0m\u001b[0mparameters\u001b[0m\u001b[1;33m)\u001b[0m\u001b[1;33m\u001b[0m\u001b[1;33m\u001b[0m\u001b[0m\n\u001b[0;32m     62\u001b[0m     \u001b[0murl\u001b[0m \u001b[1;33m=\u001b[0m \u001b[1;34mf\"{mirror}/cgi-bin/prosite/PSScan.cgi?{command}\"\u001b[0m\u001b[1;33m\u001b[0m\u001b[1;33m\u001b[0m\u001b[0m\n\u001b[1;32m---> 63\u001b[1;33m     \u001b[0mhandle\u001b[0m \u001b[1;33m=\u001b[0m \u001b[0murlopen\u001b[0m\u001b[1;33m(\u001b[0m\u001b[0murl\u001b[0m\u001b[1;33m)\u001b[0m\u001b[1;33m\u001b[0m\u001b[1;33m\u001b[0m\u001b[0m\n\u001b[0m\u001b[0;32m     64\u001b[0m     \u001b[1;32mreturn\u001b[0m \u001b[0mhandle\u001b[0m\u001b[1;33m\u001b[0m\u001b[1;33m\u001b[0m\u001b[0m\n\u001b[0;32m     65\u001b[0m \u001b[1;33m\u001b[0m\u001b[0m\n",
      "\u001b[1;32mc:\\Users\\rsous\\AppData\\Local\\Programs\\Python\\Python37\\lib\\urllib\\request.py\u001b[0m in \u001b[0;36murlopen\u001b[1;34m(url, data, timeout, cafile, capath, cadefault, context)\u001b[0m\n\u001b[0;32m    220\u001b[0m     \u001b[1;32melse\u001b[0m\u001b[1;33m:\u001b[0m\u001b[1;33m\u001b[0m\u001b[1;33m\u001b[0m\u001b[0m\n\u001b[0;32m    221\u001b[0m         \u001b[0mopener\u001b[0m \u001b[1;33m=\u001b[0m \u001b[0m_opener\u001b[0m\u001b[1;33m\u001b[0m\u001b[1;33m\u001b[0m\u001b[0m\n\u001b[1;32m--> 222\u001b[1;33m     \u001b[1;32mreturn\u001b[0m \u001b[0mopener\u001b[0m\u001b[1;33m.\u001b[0m\u001b[0mopen\u001b[0m\u001b[1;33m(\u001b[0m\u001b[0murl\u001b[0m\u001b[1;33m,\u001b[0m \u001b[0mdata\u001b[0m\u001b[1;33m,\u001b[0m \u001b[0mtimeout\u001b[0m\u001b[1;33m)\u001b[0m\u001b[1;33m\u001b[0m\u001b[1;33m\u001b[0m\u001b[0m\n\u001b[0m\u001b[0;32m    223\u001b[0m \u001b[1;33m\u001b[0m\u001b[0m\n\u001b[0;32m    224\u001b[0m \u001b[1;32mdef\u001b[0m \u001b[0minstall_opener\u001b[0m\u001b[1;33m(\u001b[0m\u001b[0mopener\u001b[0m\u001b[1;33m)\u001b[0m\u001b[1;33m:\u001b[0m\u001b[1;33m\u001b[0m\u001b[1;33m\u001b[0m\u001b[0m\n",
      "\u001b[1;32mc:\\Users\\rsous\\AppData\\Local\\Programs\\Python\\Python37\\lib\\urllib\\request.py\u001b[0m in \u001b[0;36mopen\u001b[1;34m(self, fullurl, data, timeout)\u001b[0m\n\u001b[0;32m    529\u001b[0m         \u001b[1;32mfor\u001b[0m \u001b[0mprocessor\u001b[0m \u001b[1;32min\u001b[0m \u001b[0mself\u001b[0m\u001b[1;33m.\u001b[0m\u001b[0mprocess_response\u001b[0m\u001b[1;33m.\u001b[0m\u001b[0mget\u001b[0m\u001b[1;33m(\u001b[0m\u001b[0mprotocol\u001b[0m\u001b[1;33m,\u001b[0m \u001b[1;33m[\u001b[0m\u001b[1;33m]\u001b[0m\u001b[1;33m)\u001b[0m\u001b[1;33m:\u001b[0m\u001b[1;33m\u001b[0m\u001b[1;33m\u001b[0m\u001b[0m\n\u001b[0;32m    530\u001b[0m             \u001b[0mmeth\u001b[0m \u001b[1;33m=\u001b[0m \u001b[0mgetattr\u001b[0m\u001b[1;33m(\u001b[0m\u001b[0mprocessor\u001b[0m\u001b[1;33m,\u001b[0m \u001b[0mmeth_name\u001b[0m\u001b[1;33m)\u001b[0m\u001b[1;33m\u001b[0m\u001b[1;33m\u001b[0m\u001b[0m\n\u001b[1;32m--> 531\u001b[1;33m             \u001b[0mresponse\u001b[0m \u001b[1;33m=\u001b[0m \u001b[0mmeth\u001b[0m\u001b[1;33m(\u001b[0m\u001b[0mreq\u001b[0m\u001b[1;33m,\u001b[0m \u001b[0mresponse\u001b[0m\u001b[1;33m)\u001b[0m\u001b[1;33m\u001b[0m\u001b[1;33m\u001b[0m\u001b[0m\n\u001b[0m\u001b[0;32m    532\u001b[0m \u001b[1;33m\u001b[0m\u001b[0m\n\u001b[0;32m    533\u001b[0m         \u001b[1;32mreturn\u001b[0m \u001b[0mresponse\u001b[0m\u001b[1;33m\u001b[0m\u001b[1;33m\u001b[0m\u001b[0m\n",
      "\u001b[1;32mc:\\Users\\rsous\\AppData\\Local\\Programs\\Python\\Python37\\lib\\urllib\\request.py\u001b[0m in \u001b[0;36mhttp_response\u001b[1;34m(self, request, response)\u001b[0m\n\u001b[0;32m    639\u001b[0m         \u001b[1;32mif\u001b[0m \u001b[1;32mnot\u001b[0m \u001b[1;33m(\u001b[0m\u001b[1;36m200\u001b[0m \u001b[1;33m<=\u001b[0m \u001b[0mcode\u001b[0m \u001b[1;33m<\u001b[0m \u001b[1;36m300\u001b[0m\u001b[1;33m)\u001b[0m\u001b[1;33m:\u001b[0m\u001b[1;33m\u001b[0m\u001b[1;33m\u001b[0m\u001b[0m\n\u001b[0;32m    640\u001b[0m             response = self.parent.error(\n\u001b[1;32m--> 641\u001b[1;33m                 'http', request, response, code, msg, hdrs)\n\u001b[0m\u001b[0;32m    642\u001b[0m \u001b[1;33m\u001b[0m\u001b[0m\n\u001b[0;32m    643\u001b[0m         \u001b[1;32mreturn\u001b[0m \u001b[0mresponse\u001b[0m\u001b[1;33m\u001b[0m\u001b[1;33m\u001b[0m\u001b[0m\n",
      "\u001b[1;32mc:\\Users\\rsous\\AppData\\Local\\Programs\\Python\\Python37\\lib\\urllib\\request.py\u001b[0m in \u001b[0;36merror\u001b[1;34m(self, proto, *args)\u001b[0m\n\u001b[0;32m    567\u001b[0m         \u001b[1;32mif\u001b[0m \u001b[0mhttp_err\u001b[0m\u001b[1;33m:\u001b[0m\u001b[1;33m\u001b[0m\u001b[1;33m\u001b[0m\u001b[0m\n\u001b[0;32m    568\u001b[0m             \u001b[0margs\u001b[0m \u001b[1;33m=\u001b[0m \u001b[1;33m(\u001b[0m\u001b[0mdict\u001b[0m\u001b[1;33m,\u001b[0m \u001b[1;34m'default'\u001b[0m\u001b[1;33m,\u001b[0m \u001b[1;34m'http_error_default'\u001b[0m\u001b[1;33m)\u001b[0m \u001b[1;33m+\u001b[0m \u001b[0morig_args\u001b[0m\u001b[1;33m\u001b[0m\u001b[1;33m\u001b[0m\u001b[0m\n\u001b[1;32m--> 569\u001b[1;33m             \u001b[1;32mreturn\u001b[0m \u001b[0mself\u001b[0m\u001b[1;33m.\u001b[0m\u001b[0m_call_chain\u001b[0m\u001b[1;33m(\u001b[0m\u001b[1;33m*\u001b[0m\u001b[0margs\u001b[0m\u001b[1;33m)\u001b[0m\u001b[1;33m\u001b[0m\u001b[1;33m\u001b[0m\u001b[0m\n\u001b[0m\u001b[0;32m    570\u001b[0m \u001b[1;33m\u001b[0m\u001b[0m\n\u001b[0;32m    571\u001b[0m \u001b[1;31m# XXX probably also want an abstract factory that knows when it makes\u001b[0m\u001b[1;33m\u001b[0m\u001b[1;33m\u001b[0m\u001b[1;33m\u001b[0m\u001b[0m\n",
      "\u001b[1;32mc:\\Users\\rsous\\AppData\\Local\\Programs\\Python\\Python37\\lib\\urllib\\request.py\u001b[0m in \u001b[0;36m_call_chain\u001b[1;34m(self, chain, kind, meth_name, *args)\u001b[0m\n\u001b[0;32m    501\u001b[0m         \u001b[1;32mfor\u001b[0m \u001b[0mhandler\u001b[0m \u001b[1;32min\u001b[0m \u001b[0mhandlers\u001b[0m\u001b[1;33m:\u001b[0m\u001b[1;33m\u001b[0m\u001b[1;33m\u001b[0m\u001b[0m\n\u001b[0;32m    502\u001b[0m             \u001b[0mfunc\u001b[0m \u001b[1;33m=\u001b[0m \u001b[0mgetattr\u001b[0m\u001b[1;33m(\u001b[0m\u001b[0mhandler\u001b[0m\u001b[1;33m,\u001b[0m \u001b[0mmeth_name\u001b[0m\u001b[1;33m)\u001b[0m\u001b[1;33m\u001b[0m\u001b[1;33m\u001b[0m\u001b[0m\n\u001b[1;32m--> 503\u001b[1;33m             \u001b[0mresult\u001b[0m \u001b[1;33m=\u001b[0m \u001b[0mfunc\u001b[0m\u001b[1;33m(\u001b[0m\u001b[1;33m*\u001b[0m\u001b[0margs\u001b[0m\u001b[1;33m)\u001b[0m\u001b[1;33m\u001b[0m\u001b[1;33m\u001b[0m\u001b[0m\n\u001b[0m\u001b[0;32m    504\u001b[0m             \u001b[1;32mif\u001b[0m \u001b[0mresult\u001b[0m \u001b[1;32mis\u001b[0m \u001b[1;32mnot\u001b[0m \u001b[1;32mNone\u001b[0m\u001b[1;33m:\u001b[0m\u001b[1;33m\u001b[0m\u001b[1;33m\u001b[0m\u001b[0m\n\u001b[0;32m    505\u001b[0m                 \u001b[1;32mreturn\u001b[0m \u001b[0mresult\u001b[0m\u001b[1;33m\u001b[0m\u001b[1;33m\u001b[0m\u001b[0m\n",
      "\u001b[1;32mc:\\Users\\rsous\\AppData\\Local\\Programs\\Python\\Python37\\lib\\urllib\\request.py\u001b[0m in \u001b[0;36mhttp_error_default\u001b[1;34m(self, req, fp, code, msg, hdrs)\u001b[0m\n\u001b[0;32m    647\u001b[0m \u001b[1;32mclass\u001b[0m \u001b[0mHTTPDefaultErrorHandler\u001b[0m\u001b[1;33m(\u001b[0m\u001b[0mBaseHandler\u001b[0m\u001b[1;33m)\u001b[0m\u001b[1;33m:\u001b[0m\u001b[1;33m\u001b[0m\u001b[1;33m\u001b[0m\u001b[0m\n\u001b[0;32m    648\u001b[0m     \u001b[1;32mdef\u001b[0m \u001b[0mhttp_error_default\u001b[0m\u001b[1;33m(\u001b[0m\u001b[0mself\u001b[0m\u001b[1;33m,\u001b[0m \u001b[0mreq\u001b[0m\u001b[1;33m,\u001b[0m \u001b[0mfp\u001b[0m\u001b[1;33m,\u001b[0m \u001b[0mcode\u001b[0m\u001b[1;33m,\u001b[0m \u001b[0mmsg\u001b[0m\u001b[1;33m,\u001b[0m \u001b[0mhdrs\u001b[0m\u001b[1;33m)\u001b[0m\u001b[1;33m:\u001b[0m\u001b[1;33m\u001b[0m\u001b[1;33m\u001b[0m\u001b[0m\n\u001b[1;32m--> 649\u001b[1;33m         \u001b[1;32mraise\u001b[0m \u001b[0mHTTPError\u001b[0m\u001b[1;33m(\u001b[0m\u001b[0mreq\u001b[0m\u001b[1;33m.\u001b[0m\u001b[0mfull_url\u001b[0m\u001b[1;33m,\u001b[0m \u001b[0mcode\u001b[0m\u001b[1;33m,\u001b[0m \u001b[0mmsg\u001b[0m\u001b[1;33m,\u001b[0m \u001b[0mhdrs\u001b[0m\u001b[1;33m,\u001b[0m \u001b[0mfp\u001b[0m\u001b[1;33m)\u001b[0m\u001b[1;33m\u001b[0m\u001b[1;33m\u001b[0m\u001b[0m\n\u001b[0m\u001b[0;32m    650\u001b[0m \u001b[1;33m\u001b[0m\u001b[0m\n\u001b[0;32m    651\u001b[0m \u001b[1;32mclass\u001b[0m \u001b[0mHTTPRedirectHandler\u001b[0m\u001b[1;33m(\u001b[0m\u001b[0mBaseHandler\u001b[0m\u001b[1;33m)\u001b[0m\u001b[1;33m:\u001b[0m\u001b[1;33m\u001b[0m\u001b[1;33m\u001b[0m\u001b[0m\n",
      "\u001b[1;31mHTTPError\u001b[0m: HTTP Error 308: Permanent Redirect"
     ]
    }
   ],
   "source": [
    "handle = ScanProsite.scan('DQB2_HUMAN')"
   ]
  },
  {
   "cell_type": "code",
   "execution_count": 28,
   "metadata": {},
   "outputs": [
    {
     "ename": "AttributeError",
     "evalue": "'str' object has no attribute 'decode'",
     "output_type": "error",
     "traceback": [
      "\u001b[1;31m---------------------------------------------------------------------------\u001b[0m",
      "\u001b[1;31mAttributeError\u001b[0m                            Traceback (most recent call last)",
      "\u001b[1;32m~\\AppData\\Local\\Temp\\ipykernel_97640\\1355201026.py\u001b[0m in \u001b[0;36m<module>\u001b[1;34m\u001b[0m\n\u001b[1;32m----> 1\u001b[1;33m \u001b[0mScanProsite\u001b[0m\u001b[1;33m.\u001b[0m\u001b[0mread\u001b[0m\u001b[1;33m(\u001b[0m\u001b[0mhandle\u001b[0m\u001b[1;33m)\u001b[0m\u001b[1;33m\u001b[0m\u001b[1;33m\u001b[0m\u001b[0m\n\u001b[0m",
      "\u001b[1;32mc:\\Users\\rsous\\AppData\\Local\\Programs\\Python\\Python37\\lib\\site-packages\\Bio\\ExPASy\\ScanProsite.py\u001b[0m in \u001b[0;36mread\u001b[1;34m(handle)\u001b[0m\n\u001b[0;32m     70\u001b[0m     \u001b[0msaxparser\u001b[0m \u001b[1;33m=\u001b[0m \u001b[0mParser\u001b[0m\u001b[1;33m(\u001b[0m\u001b[1;33m)\u001b[0m\u001b[1;33m\u001b[0m\u001b[1;33m\u001b[0m\u001b[0m\n\u001b[0;32m     71\u001b[0m     \u001b[0msaxparser\u001b[0m\u001b[1;33m.\u001b[0m\u001b[0msetContentHandler\u001b[0m\u001b[1;33m(\u001b[0m\u001b[0mcontent_handler\u001b[0m\u001b[1;33m)\u001b[0m\u001b[1;33m\u001b[0m\u001b[1;33m\u001b[0m\u001b[0m\n\u001b[1;32m---> 72\u001b[1;33m     \u001b[0msaxparser\u001b[0m\u001b[1;33m.\u001b[0m\u001b[0mparse\u001b[0m\u001b[1;33m(\u001b[0m\u001b[0mhandle\u001b[0m\u001b[1;33m)\u001b[0m\u001b[1;33m\u001b[0m\u001b[1;33m\u001b[0m\u001b[0m\n\u001b[0m\u001b[0;32m     73\u001b[0m     \u001b[0mrecord\u001b[0m \u001b[1;33m=\u001b[0m \u001b[0mcontent_handler\u001b[0m\u001b[1;33m.\u001b[0m\u001b[0mrecord\u001b[0m\u001b[1;33m\u001b[0m\u001b[1;33m\u001b[0m\u001b[0m\n\u001b[0;32m     74\u001b[0m     \u001b[1;32mreturn\u001b[0m \u001b[0mrecord\u001b[0m\u001b[1;33m\u001b[0m\u001b[1;33m\u001b[0m\u001b[0m\n",
      "\u001b[1;32mc:\\Users\\rsous\\AppData\\Local\\Programs\\Python\\Python37\\lib\\xml\\sax\\expatreader.py\u001b[0m in \u001b[0;36mparse\u001b[1;34m(self, source)\u001b[0m\n\u001b[0;32m    109\u001b[0m             \u001b[0mself\u001b[0m\u001b[1;33m.\u001b[0m\u001b[0mreset\u001b[0m\u001b[1;33m(\u001b[0m\u001b[1;33m)\u001b[0m\u001b[1;33m\u001b[0m\u001b[1;33m\u001b[0m\u001b[0m\n\u001b[0;32m    110\u001b[0m             \u001b[0mself\u001b[0m\u001b[1;33m.\u001b[0m\u001b[0m_cont_handler\u001b[0m\u001b[1;33m.\u001b[0m\u001b[0msetDocumentLocator\u001b[0m\u001b[1;33m(\u001b[0m\u001b[0mExpatLocator\u001b[0m\u001b[1;33m(\u001b[0m\u001b[0mself\u001b[0m\u001b[1;33m)\u001b[0m\u001b[1;33m)\u001b[0m\u001b[1;33m\u001b[0m\u001b[1;33m\u001b[0m\u001b[0m\n\u001b[1;32m--> 111\u001b[1;33m             \u001b[0mxmlreader\u001b[0m\u001b[1;33m.\u001b[0m\u001b[0mIncrementalParser\u001b[0m\u001b[1;33m.\u001b[0m\u001b[0mparse\u001b[0m\u001b[1;33m(\u001b[0m\u001b[0mself\u001b[0m\u001b[1;33m,\u001b[0m \u001b[0msource\u001b[0m\u001b[1;33m)\u001b[0m\u001b[1;33m\u001b[0m\u001b[1;33m\u001b[0m\u001b[0m\n\u001b[0m\u001b[0;32m    112\u001b[0m         \u001b[1;32mexcept\u001b[0m\u001b[1;33m:\u001b[0m\u001b[1;33m\u001b[0m\u001b[1;33m\u001b[0m\u001b[0m\n\u001b[0;32m    113\u001b[0m             \u001b[1;31m# bpo-30264: Close the source on error to not leak resources:\u001b[0m\u001b[1;33m\u001b[0m\u001b[1;33m\u001b[0m\u001b[1;33m\u001b[0m\u001b[0m\n",
      "\u001b[1;32mc:\\Users\\rsous\\AppData\\Local\\Programs\\Python\\Python37\\lib\\xml\\sax\\xmlreader.py\u001b[0m in \u001b[0;36mparse\u001b[1;34m(self, source)\u001b[0m\n\u001b[0;32m    125\u001b[0m             \u001b[0mself\u001b[0m\u001b[1;33m.\u001b[0m\u001b[0mfeed\u001b[0m\u001b[1;33m(\u001b[0m\u001b[0mbuffer\u001b[0m\u001b[1;33m)\u001b[0m\u001b[1;33m\u001b[0m\u001b[1;33m\u001b[0m\u001b[0m\n\u001b[0;32m    126\u001b[0m             \u001b[0mbuffer\u001b[0m \u001b[1;33m=\u001b[0m \u001b[0mfile\u001b[0m\u001b[1;33m.\u001b[0m\u001b[0mread\u001b[0m\u001b[1;33m(\u001b[0m\u001b[0mself\u001b[0m\u001b[1;33m.\u001b[0m\u001b[0m_bufsize\u001b[0m\u001b[1;33m)\u001b[0m\u001b[1;33m\u001b[0m\u001b[1;33m\u001b[0m\u001b[0m\n\u001b[1;32m--> 127\u001b[1;33m         \u001b[0mself\u001b[0m\u001b[1;33m.\u001b[0m\u001b[0mclose\u001b[0m\u001b[1;33m(\u001b[0m\u001b[1;33m)\u001b[0m\u001b[1;33m\u001b[0m\u001b[1;33m\u001b[0m\u001b[0m\n\u001b[0m\u001b[0;32m    128\u001b[0m \u001b[1;33m\u001b[0m\u001b[0m\n\u001b[0;32m    129\u001b[0m     \u001b[1;32mdef\u001b[0m \u001b[0mfeed\u001b[0m\u001b[1;33m(\u001b[0m\u001b[0mself\u001b[0m\u001b[1;33m,\u001b[0m \u001b[0mdata\u001b[0m\u001b[1;33m)\u001b[0m\u001b[1;33m:\u001b[0m\u001b[1;33m\u001b[0m\u001b[1;33m\u001b[0m\u001b[0m\n",
      "\u001b[1;32mc:\\Users\\rsous\\AppData\\Local\\Programs\\Python\\Python37\\lib\\xml\\sax\\expatreader.py\u001b[0m in \u001b[0;36mclose\u001b[1;34m(self)\u001b[0m\n\u001b[0;32m    238\u001b[0m             \u001b[1;32mreturn\u001b[0m\u001b[1;33m\u001b[0m\u001b[1;33m\u001b[0m\u001b[0m\n\u001b[0;32m    239\u001b[0m         \u001b[1;32mtry\u001b[0m\u001b[1;33m:\u001b[0m\u001b[1;33m\u001b[0m\u001b[1;33m\u001b[0m\u001b[0m\n\u001b[1;32m--> 240\u001b[1;33m             \u001b[0mself\u001b[0m\u001b[1;33m.\u001b[0m\u001b[0mfeed\u001b[0m\u001b[1;33m(\u001b[0m\u001b[1;34m\"\"\u001b[0m\u001b[1;33m,\u001b[0m \u001b[0misFinal\u001b[0m \u001b[1;33m=\u001b[0m \u001b[1;36m1\u001b[0m\u001b[1;33m)\u001b[0m\u001b[1;33m\u001b[0m\u001b[1;33m\u001b[0m\u001b[0m\n\u001b[0m\u001b[0;32m    241\u001b[0m             \u001b[0mself\u001b[0m\u001b[1;33m.\u001b[0m\u001b[0m_cont_handler\u001b[0m\u001b[1;33m.\u001b[0m\u001b[0mendDocument\u001b[0m\u001b[1;33m(\u001b[0m\u001b[1;33m)\u001b[0m\u001b[1;33m\u001b[0m\u001b[1;33m\u001b[0m\u001b[0m\n\u001b[0;32m    242\u001b[0m             \u001b[0mself\u001b[0m\u001b[1;33m.\u001b[0m\u001b[0m_parsing\u001b[0m \u001b[1;33m=\u001b[0m \u001b[1;36m0\u001b[0m\u001b[1;33m\u001b[0m\u001b[1;33m\u001b[0m\u001b[0m\n",
      "\u001b[1;32mc:\\Users\\rsous\\AppData\\Local\\Programs\\Python\\Python37\\lib\\site-packages\\Bio\\ExPASy\\ScanProsite.py\u001b[0m in \u001b[0;36mfeed\u001b[1;34m(self, data, isFinal)\u001b[0m\n\u001b[0;32m     97\u001b[0m         \u001b[1;31m# fed to the parser.\u001b[0m\u001b[1;33m\u001b[0m\u001b[1;33m\u001b[0m\u001b[1;33m\u001b[0m\u001b[0m\n\u001b[0;32m     98\u001b[0m         \u001b[1;32mif\u001b[0m \u001b[0mself\u001b[0m\u001b[1;33m.\u001b[0m\u001b[0mfirsttime\u001b[0m\u001b[1;33m:\u001b[0m\u001b[1;33m\u001b[0m\u001b[1;33m\u001b[0m\u001b[0m\n\u001b[1;32m---> 99\u001b[1;33m             \u001b[1;32mif\u001b[0m \u001b[0mdata\u001b[0m\u001b[1;33m[\u001b[0m\u001b[1;33m:\u001b[0m\u001b[1;36m5\u001b[0m\u001b[1;33m]\u001b[0m\u001b[1;33m.\u001b[0m\u001b[0mdecode\u001b[0m\u001b[1;33m(\u001b[0m\u001b[1;34m\"utf-8\"\u001b[0m\u001b[1;33m)\u001b[0m \u001b[1;33m!=\u001b[0m \u001b[1;34m\"<?xml\"\u001b[0m\u001b[1;33m:\u001b[0m\u001b[1;33m\u001b[0m\u001b[1;33m\u001b[0m\u001b[0m\n\u001b[0m\u001b[0;32m    100\u001b[0m                 \u001b[1;32mraise\u001b[0m \u001b[0mValueError\u001b[0m\u001b[1;33m(\u001b[0m\u001b[0mdata\u001b[0m\u001b[1;33m)\u001b[0m\u001b[1;33m\u001b[0m\u001b[1;33m\u001b[0m\u001b[0m\n\u001b[0;32m    101\u001b[0m         \u001b[0mself\u001b[0m\u001b[1;33m.\u001b[0m\u001b[0mfirsttime\u001b[0m \u001b[1;33m=\u001b[0m \u001b[1;32mFalse\u001b[0m\u001b[1;33m\u001b[0m\u001b[1;33m\u001b[0m\u001b[0m\n",
      "\u001b[1;31mAttributeError\u001b[0m: 'str' object has no attribute 'decode'"
     ]
    }
   ],
   "source": [
    "ScanProsite.read(handle)"
   ]
  },
  {
   "cell_type": "code",
   "execution_count": 30,
   "metadata": {},
   "outputs": [
    {
     "ename": "ValueError",
     "evalue": "Failed to find SwissProt entry 'HLA_DQA2'",
     "output_type": "error",
     "traceback": [
      "\u001b[1;31m---------------------------------------------------------------------------\u001b[0m",
      "\u001b[1;31mValueError\u001b[0m                                Traceback (most recent call last)",
      "\u001b[1;32m~\\AppData\\Local\\Temp\\ipykernel_97640\\3365324763.py\u001b[0m in \u001b[0;36m<module>\u001b[1;34m\u001b[0m\n\u001b[1;32m----> 1\u001b[1;33m \u001b[0mhandle\u001b[0m \u001b[1;33m=\u001b[0m \u001b[0mExPASy\u001b[0m\u001b[1;33m.\u001b[0m\u001b[0mget_sprot_raw\u001b[0m\u001b[1;33m(\u001b[0m\u001b[1;34m'HLA_DQA2'\u001b[0m\u001b[1;33m)\u001b[0m\u001b[1;33m\u001b[0m\u001b[1;33m\u001b[0m\u001b[0m\n\u001b[0m\u001b[0;32m      2\u001b[0m \u001b[0mseq_record\u001b[0m \u001b[1;33m=\u001b[0m \u001b[0mSeqIO\u001b[0m\u001b[1;33m.\u001b[0m\u001b[0mread\u001b[0m\u001b[1;33m(\u001b[0m\u001b[0mhandle\u001b[0m\u001b[1;33m,\u001b[0m\u001b[1;34m'swiss'\u001b[0m\u001b[1;33m)\u001b[0m\u001b[1;33m\u001b[0m\u001b[1;33m\u001b[0m\u001b[0m\n\u001b[0;32m      3\u001b[0m \u001b[0mseq_record\u001b[0m\u001b[1;33m\u001b[0m\u001b[1;33m\u001b[0m\u001b[0m\n",
      "\u001b[1;32mc:\\Users\\rsous\\AppData\\Local\\Programs\\Python\\Python37\\lib\\site-packages\\Bio\\ExPASy\\__init__.py\u001b[0m in \u001b[0;36mget_sprot_raw\u001b[1;34m(id)\u001b[0m\n\u001b[0;32m    118\u001b[0m     \u001b[1;32mexcept\u001b[0m \u001b[0mHTTPError\u001b[0m \u001b[1;32mas\u001b[0m \u001b[0mexception\u001b[0m\u001b[1;33m:\u001b[0m\u001b[1;33m\u001b[0m\u001b[1;33m\u001b[0m\u001b[0m\n\u001b[0;32m    119\u001b[0m         \u001b[1;32mif\u001b[0m \u001b[0mexception\u001b[0m\u001b[1;33m.\u001b[0m\u001b[0mcode\u001b[0m \u001b[1;32min\u001b[0m \u001b[1;33m(\u001b[0m\u001b[1;36m400\u001b[0m\u001b[1;33m,\u001b[0m \u001b[1;36m404\u001b[0m\u001b[1;33m)\u001b[0m\u001b[1;33m:\u001b[0m\u001b[1;33m\u001b[0m\u001b[1;33m\u001b[0m\u001b[0m\n\u001b[1;32m--> 120\u001b[1;33m             \u001b[1;32mraise\u001b[0m \u001b[0mValueError\u001b[0m\u001b[1;33m(\u001b[0m\u001b[1;34mf\"Failed to find SwissProt entry '{id}'\"\u001b[0m\u001b[1;33m)\u001b[0m \u001b[1;32mfrom\u001b[0m \u001b[1;32mNone\u001b[0m\u001b[1;33m\u001b[0m\u001b[1;33m\u001b[0m\u001b[0m\n\u001b[0m\u001b[0;32m    121\u001b[0m         \u001b[1;32melse\u001b[0m\u001b[1;33m:\u001b[0m\u001b[1;33m\u001b[0m\u001b[1;33m\u001b[0m\u001b[0m\n\u001b[0;32m    122\u001b[0m             \u001b[1;32mraise\u001b[0m\u001b[1;33m\u001b[0m\u001b[1;33m\u001b[0m\u001b[0m\n",
      "\u001b[1;31mValueError\u001b[0m: Failed to find SwissProt entry 'HLA_DQA2'"
     ]
    }
   ],
   "source": [
    "handle = ExPASy.get_sprot_raw('H')\n",
    "seq_record = SeqIO.read(handle,'swiss')\n",
    "seq_record"
   ]
  },
  {
   "cell_type": "code",
   "execution_count": null,
   "metadata": {},
   "outputs": [],
   "source": [
    "id."
   ]
  },
  {
   "cell_type": "code",
   "execution_count": null,
   "metadata": {},
   "outputs": [],
   "source": []
  },
  {
   "cell_type": "code",
   "execution_count": null,
   "metadata": {},
   "outputs": [],
   "source": []
  },
  {
   "cell_type": "code",
   "execution_count": null,
   "metadata": {},
   "outputs": [],
   "source": [
    "# Partir para o módulo das análises\n",
    "\n",
    "handle = ExPASy.get_sprot_raw(\"P49286\")\n",
    "seq_record = SeqIO.read(handle, \"swiss\")\n",
    "id = seq_record.id\n",
    "seq = seq_record.seq\n",
    "tam = len(seq_record.seq)\n",
    "name = seq_record.name\n",
    "desc = seq_record.description\n",
    "com = seq_record.annotations[\"comment\"]\n",
    "taxon = seq_record.annotations[\"taxonomy\"]\n",
    "organism = seq_record.annotations[\"organism\"]\n",
    "key = seq_record.annotations[\"keywords\"]\n",
    "print(f\"ID {id} \\n Sequência: {seq} \\n Tamanho da sequência: {tam} bp\")\n",
    "print(f\"Nome: {name} \\n Descrição: {desc} \\n Taxonomia: {taxon} \\n Organismo: {organism} \\n Keywords: {key}\")"
   ]
  },
  {
   "cell_type": "code",
   "execution_count": null,
   "metadata": {},
   "outputs": [],
   "source": [
    "# Isto há de se cruzar com os blast records por isso aguardo essa componente do código."
   ]
  }
 ],
 "metadata": {
  "kernelspec": {
   "display_name": "Python 3",
   "language": "python",
   "name": "python3"
  },
  "language_info": {
   "codemirror_mode": {
    "name": "ipython",
    "version": 3
   },
   "file_extension": ".py",
   "mimetype": "text/x-python",
   "name": "python",
   "nbconvert_exporter": "python",
   "pygments_lexer": "ipython3",
   "version": "3.7.1"
  }
 },
 "nbformat": 4,
 "nbformat_minor": 2
}
