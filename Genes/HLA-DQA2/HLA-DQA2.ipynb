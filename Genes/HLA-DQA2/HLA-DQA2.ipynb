{
 "cells": [
  {
   "cell_type": "code",
   "execution_count": null,
   "metadata": {},
   "outputs": [],
   "source": [
    "email = 'pg21019@alunos.uminho.pt'"
   ]
  },
  {
   "cell_type": "code",
   "execution_count": null,
   "metadata": {},
   "outputs": [],
   "source": [
    "from scripts import pesquisa_ncbi\n",
    "pesquisa_ncbi(email,'HLA-DQA2',save='y', retmax=90) # Todos os resultados\n",
    "pesquisa_ncbi(email,'HLA-DQA2 role',save='y', retmax=10) # Apenas os primeiros 10 resultados/mais relevantes\n",
    "pesquisa_ncbi(email,'HLA-DQA2 food allergy', save='y', retmax=10) # Focado na alergia alimentar"
   ]
  },
  {
   "cell_type": "code",
   "execution_count": null,
   "metadata": {},
   "outputs": [],
   "source": [
    "# Procuramos o gene para a análise de anotações\n",
    "# Refinamos a pesquisa na base de dados nucleotide e gene\n",
    "pesquisa_ncbi(email,'HLA-DQA2',db='nuccore') # Primeiro resultado é satisfatório e gravamos como ficheiro GBK para tratamento de anotações\n",
    "pesquisa_ncbi(email,'OR557191',db='nuccore', rettype='gb',save='y', retmax=1)"
   ]
  },
  {
   "cell_type": "code",
   "execution_count": null,
   "metadata": {},
   "outputs": [],
   "source": [
    "# Procuramos a proteína\n",
    "pesquisa_ncbi(email,'HLA-DQA2',db='protein',display='n') # Encontramos DQA2_HUMAN, refinamos a pesquisa\n",
    "pesquisa_ncbi(email,'DQA2_HUMAN',db='protein',rettype='fasta',save='y') # Ao analisar identifcamos também o ID para análise no SwissProt\n",
    "\n",
    "swissid = 'P01906'"
   ]
  },
  {
   "cell_type": "code",
   "execution_count": null,
   "metadata": {},
   "outputs": [],
   "source": [
    "# Análise de anotações e features\n",
    "filename = 'OR557191.gbk'\n",
    "from scripts import parsing, anot, features_qualifiers\n",
    "parsing(filename)"
   ]
  },
  {
   "cell_type": "code",
   "execution_count": null,
   "metadata": {},
   "outputs": [],
   "source": [
    "anot(filename)"
   ]
  },
  {
   "cell_type": "code",
   "execution_count": null,
   "metadata": {},
   "outputs": [],
   "source": [
    "features_qualifiers(filename)"
   ]
  },
  {
   "cell_type": "code",
   "execution_count": null,
   "metadata": {},
   "outputs": [],
   "source": [
    "# Passamos à análise da proteína\n",
    "\n",
    "fastafile = 'output\\\\DQA2_HUMAN.fasta'\n",
    "xmlfile   = 'DQA2_blast.xml'\n",
    "\n",
    "from scripts import conta_aa, analise_blast, swiss_prot_scan\n",
    "conta_aa(fastafile)"
   ]
  },
  {
   "cell_type": "code",
   "execution_count": null,
   "metadata": {},
   "outputs": [],
   "source": [
    "swiss_prot_scan(swissid)"
   ]
  },
  {
   "cell_type": "code",
   "execution_count": null,
   "metadata": {},
   "outputs": [],
   "source": [
    "analise_blast(email,fastafile,xmlfile)"
   ]
  }
 ],
 "metadata": {
  "kernelspec": {
   "display_name": "Python 3",
   "language": "python",
   "name": "python3"
  },
  "language_info": {
   "codemirror_mode": {
    "name": "ipython",
    "version": 3
   },
   "file_extension": ".py",
   "mimetype": "text/x-python",
   "name": "python",
   "nbconvert_exporter": "python",
   "pygments_lexer": "ipython3",
   "version": "3.7.1"
  }
 },
 "nbformat": 4,
 "nbformat_minor": 2
}
