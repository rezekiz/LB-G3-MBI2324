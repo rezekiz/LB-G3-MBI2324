{
 "cells": [
  {
   "cell_type": "code",
   "execution_count": 8,
   "metadata": {},
   "outputs": [],
   "source": [
    "\n",
    "def carregar_sequencia(filename):\n",
    "    from Bio import SeqIO\n",
    "\n",
    "    try:    \n",
    "        # Lemos o ficheiro .fasta\n",
    "        seq_proteina = SeqIO.read(open(filename),format='fasta')\n",
    "\n",
    "        sp = seq_proteina.seq # Isolamos a sequência\n",
    "        return sp\n",
    "    \n",
    "    except FileNotFoundError:\n",
    "        print('Ficheiro FASTA não existe. Apresentar um ficheiro FASTA válido.')"
   ]
  },
  {
   "cell_type": "code",
   "execution_count": 9,
   "metadata": {},
   "outputs": [],
   "source": [
    "# Procedemos à contagem de aminoácidos:\n",
    "# Primeiro para a sequência traduzida e depois para o conjunto de sequências após a remoção de codões stop\n",
    "\n",
    "def conta_aa(fastafile):\n",
    "    # TODO colocar um dicionário bonitinho\n",
    "    from collections import Counter\n",
    "\n",
    "    seq_prot = carregar_sequencia(fastafile)\n",
    "    \n",
    "    contagem_aa = dict(Counter(seq_prot))\n",
    "    \n",
    "    return contagem_aa"
   ]
  },
  {
   "cell_type": "code",
   "execution_count": 11,
   "metadata": {},
   "outputs": [
    {
     "name": "stdout",
     "output_type": "stream",
     "text": [
      "ID P01920\n",
      "Sequência: MSWKKALRIPGGLRAATVTLMLAMLSTPVAEGRDSPEDFVYQFKAMCYFTNGTERVRYVTRYIYNREEYARFDSDVEVYRAVTPLGPPDAEYWNSQKEVLERTRAELDTVCRHNYQLELRTTLQRRVEPTVTISPSRTEALNHHNLLVCSVTDFYPAQIKVRWFRNDQEETTGVVSTPLIRNGDWTFQILVMLEMTPQHGDVYTCHVEHPSLQNPITVEWRAQSESAQSKMLSGIGGFVLGLIFLGLGLIIHHRSQKGLLH\n",
      "Tamanho da sequência: 261 bp\n",
      "Nome: DQB1_HUMAN\n",
      "Descrição: RecName: Full=HLA class II histocompatibility antigen, DQ beta 1 chain; AltName: Full=MHC class II antigen DQB1; Flags: Precursor;\n",
      "Taxonomia: ['Eukaryota', 'Metazoa', 'Chordata', 'Craniata', 'Vertebrata', 'Euteleostomi', 'Mammalia', 'Eutheria', 'Euarchontoglires', 'Primates', 'Haplorrhini', 'Catarrhini', 'Hominidae', 'Homo']\n",
      "Organismo: Homo sapiens (Human)\n",
      "Keywords: ['3D-structure', 'Adaptive immunity', 'Cell membrane', 'Direct protein sequencing', 'Disulfide bond', 'Endoplasmic reticulum', 'Endosome', 'Glycoprotein', 'Golgi apparatus', 'Immunity', 'Lysosome', 'Membrane', 'MHC II', 'Reference proteome', 'Signal', 'Transmembrane', 'Transmembrane helix']\n"
     ]
    }
   ],
   "source": [
    "swiss_id = 'P01920' \n",
    "\n",
    "\n",
    "def swiss_prot_scan(swiss_id):\n",
    "    from Bio import SeqIO\n",
    "    from Bio import ExPASy\n",
    "    # Efetuamos uma pesquisa na base de dados SwissProt \n",
    "    handle = ExPASy.get_sprot_raw(swiss_id) \n",
    "    sr = SeqIO.read(handle, \"swiss\")\n",
    "    print(\n",
    "        f'ID {sr.id}',\n",
    "        f'Sequência: {sr.seq}',\n",
    "        f'Tamanho da sequência: {len(sr.seq)} bp',\n",
    "        f'Nome: {sr.name}',\n",
    "        f'Descrição: {sr.description}',\n",
    "        f'Taxonomia: {sr.annotations[\"taxonomy\"]}',\n",
    "        f'Organismo: {sr.annotations[\"organism\"]}',\n",
    "        f'Keywords: {sr.annotations[\"keywords\"]}',\n",
    "        sep = '\\n')\n",
    "\n",
    "swiss_prot_scan('P01920')"
   ]
  }
 ],
 "metadata": {
  "kernelspec": {
   "display_name": "base",
   "language": "python",
   "name": "python3"
  },
  "language_info": {
   "codemirror_mode": {
    "name": "ipython",
    "version": 3
   },
   "file_extension": ".py",
   "mimetype": "text/x-python",
   "name": "python",
   "nbconvert_exporter": "python",
   "pygments_lexer": "ipython3",
   "version": "3.11.5"
  }
 },
 "nbformat": 4,
 "nbformat_minor": 2
}
