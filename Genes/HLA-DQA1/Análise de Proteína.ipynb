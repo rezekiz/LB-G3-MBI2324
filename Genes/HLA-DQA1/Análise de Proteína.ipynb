{
 "cells": [
  {
   "cell_type": "code",
   "execution_count": 6,
   "metadata": {},
   "outputs": [],
   "source": [
    "\n",
    "def carregar_sequencia(filename):\n",
    "    from Bio import SeqIO\n",
    "\n",
    "    try:    \n",
    "        # Lemos o ficheiro .fasta\n",
    "        seq_proteina = SeqIO.read(open(filename),format='fasta')\n",
    "\n",
    "        sp = seq_proteina.seq # Isolamos a sequência\n",
    "        return sp\n",
    "    \n",
    "    except FileNotFoundError:\n",
    "        print('Ficheiro FASTA não existe. Apresentar um ficheiro FASTA válido.')\n",
    "\n"
   ]
  },
  {
   "cell_type": "code",
   "execution_count": 7,
   "metadata": {},
   "outputs": [],
   "source": [
    "# Procedemos à contagem de aminoácidos:\n",
    "# Primeiro para a sequência traduzida e depois para o conjunto de sequências após a remoção de codões stop\n",
    "\n",
    "def conta_aa(fastafile):\n",
    "    # TODO colocar um dicionário bonitinho\n",
    "    from collections import Counter\n",
    "\n",
    "    seq_prot = carregar_sequencia(fastafile)\n",
    "    \n",
    "    contagem_aa = dict(Counter(seq_prot))\n",
    "    \n",
    "    return contagem_aa\n",
    "\n"
   ]
  },
  {
   "cell_type": "code",
   "execution_count": 8,
   "metadata": {},
   "outputs": [
    {
     "data": {
      "text/plain": [
       "{'M': 6,\n",
       " 'I': 13,\n",
       " 'L': 26,\n",
       " 'N': 11,\n",
       " 'K': 10,\n",
       " 'A': 15,\n",
       " 'G': 22,\n",
       " 'T': 16,\n",
       " 'V': 23,\n",
       " 'S': 20,\n",
       " 'P': 15,\n",
       " 'C': 5,\n",
       " 'E': 16,\n",
       " 'D': 10,\n",
       " 'H': 7,\n",
       " 'Y': 7,\n",
       " 'Q': 9,\n",
       " 'F': 13,\n",
       " 'R': 6,\n",
       " 'W': 5}"
      ]
     },
     "execution_count": 8,
     "metadata": {},
     "output_type": "execute_result"
    }
   ],
   "source": [
    "conta_aa('output\\\\WQB05986.fasta')"
   ]
  },
  {
   "cell_type": "code",
   "execution_count": 9,
   "metadata": {},
   "outputs": [
    {
     "name": "stdout",
     "output_type": "stream",
     "text": [
      "ID P01909\n",
      "Sequência: MILNKALMLGALALTTVMSPCGGEDIVADHVASYGVNLYQSYGPSGQYTHEFDGDEQFYVDLGRKETVWCLPVLRQFRFDPQFALTNIAVLKHNLNSLIKRSNSTAATNEVPEVTVFSKSPVTLGQPNILICLVDNIFPPVVNITWLSNGHSVTEGVSETSFLSKSDHSFFKISYLTLLPSAEESYDCKVEHWGLDKPLLKHWEPEIPAPMSELTETVVCALGLSVGLVGIVVGTVFIIRGLRSVGASRHQGPL\n",
      "Tamanho da sequência: 254 bp\n",
      "Nome: DQA1_HUMAN\n",
      "Descrição: RecName: Full=HLA class II histocompatibility antigen, DQ alpha 1 chain; AltName: Full=DC-1 alpha chain; AltName: Full=DC-alpha; AltName: Full=HLA-DCA; AltName: Full=MHC class II DQA1; Flags: Precursor;\n",
      "Taxonomia: ['Eukaryota', 'Metazoa', 'Chordata', 'Craniata', 'Vertebrata', 'Euteleostomi', 'Mammalia', 'Eutheria', 'Euarchontoglires', 'Primates', 'Haplorrhini', 'Catarrhini', 'Hominidae', 'Homo']\n",
      "Organismo: Homo sapiens (Human)\n",
      "Keywords: ['3D-structure', 'Adaptive immunity', 'Cell membrane', 'Direct protein sequencing', 'Disulfide bond', 'Endoplasmic reticulum', 'Endosome', 'Glycoprotein', 'Golgi apparatus', 'Immunity', 'Lysosome', 'Membrane', 'MHC II', 'Reference proteome', 'Signal', 'Transmembrane', 'Transmembrane helix']\n"
     ]
    }
   ],
   "source": [
    "swiss_id = 'P01906' # Encontra-se o ID no ficheiro FASTA \n",
    "\n",
    "# TODO integrar esta função na função de análise\n",
    "\n",
    "def swiss_prot_scan(swiss_id):\n",
    "    from Bio import SeqIO\n",
    "    from Bio import ExPASy\n",
    "    # Efetuamos uma pesquisa na base de dados SwissProt \n",
    "    handle = ExPASy.get_sprot_raw(swiss_id) # Encontramos o ID ao ler o ficheiro fasta\n",
    "    sr = SeqIO.read(handle, \"swiss\")\n",
    "    print(\n",
    "        f'ID {sr.id}',\n",
    "        f'Sequência: {sr.seq}',\n",
    "        f'Tamanho da sequência: {len(sr.seq)} bp',\n",
    "        f'Nome: {sr.name}',\n",
    "        f'Descrição: {sr.description}',\n",
    "        f'Taxonomia: {sr.annotations[\"taxonomy\"]}',\n",
    "        f'Organismo: {sr.annotations[\"organism\"]}',\n",
    "        f'Keywords: {sr.annotations[\"keywords\"]}',\n",
    "        sep = '\\n')\n",
    "\n",
    "swiss_prot_scan('P01909')"
   ]
  }
 ],
 "metadata": {
  "kernelspec": {
   "display_name": "Python 3",
   "language": "python",
   "name": "python3"
  },
  "language_info": {
   "codemirror_mode": {
    "name": "ipython",
    "version": 3
   },
   "file_extension": ".py",
   "mimetype": "text/x-python",
   "name": "python",
   "nbconvert_exporter": "python",
   "pygments_lexer": "ipython3",
   "version": "3.10.11"
  }
 },
 "nbformat": 4,
 "nbformat_minor": 2
}
