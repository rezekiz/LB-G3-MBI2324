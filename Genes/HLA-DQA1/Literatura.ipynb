{
 "cells": [
  {
   "cell_type": "markdown",
   "metadata": {},
   "source": [
    "## HLA-DQA1\n",
    "\n",
    "> **Nome do gene:** major histocompatibility complex, class II, DQ alpha 1 \n",
    "\n",
    "> **Cromossoma:** Chromosome 6 NC_000006.12\n",
    "\n",
    "> **Gene ID**: 3117 \n",
    "\n",
    "> **Proteína associada**: HLA class II histocompatibility antigen, DQ alpha 1\n",
    "\n",
    "> **Protein ID**: P01909 "
   ]
  },
  {
   "cell_type": "markdown",
   "metadata": {},
   "source": [
    "### Pesquisa Bibliográfica\n",
    "\n",
    "### O papel do HLA-DQA1 no sistema imunitário\n",
    "O gene HLA-DQA1 apresenta um papel importante no sistema imunitário, fazendo parte do Complexo Principal de Histocompatibilidade (MHC). Este complexo situa-se no cromossoma 6p21.3, é rico em genes de resposta imunitária, incluindo os genes HLA, que codificam famílias de proteínas da superfície celular que funcionam como determinantes-chave do reconhecimento de antigénios pelo sistema imunitário adaptativo (Kanchan et al., 2021).\n",
    "\n",
    "\n",
    "### Estrutura das moléculas MHC da classe II \n",
    "As moléculas HLA de classe II são formadas por heterodímeros, compostos por cadeias alfa e beta de tamanho bastante similar. Essas cadeias são codificadas por genes localizados na região do HLA de classe II e geralmente organizados em pares alfa e beta. Elas possuem as suas extremidades aminoterminais voltadas para o exterior da célula e cada uma possui dois domínios extracelulares contendo cerca de 90 a 100 aminoácidos. No caso das cadeias alfa e beta do HLA-DQ, os genes responsáveis são o HLA-DQA1 e o HLA-DQB1, respetivamente (Marsh et al., 2000). \n",
    "\n",
    "### Diversidade do MHC\n",
    "Cada gene da classe II do MHC possui diversas variações possíveis, o que possibilita ao sistema imunológico reagir a uma ampla gama de invasores. Existem centenas de alelos do gene HLA-DQA1, cada um designado por um número específico, como HLA-DQA1*05:01 (Marsh et al., 2000).\n",
    "\n",
    "### Papel do HLA-DQA1 na Doença Celíaca\n",
    "O gene HLA-DQA1 aparenta ter um papel crucial no desenvolvimento da doença celíaca, bem como o gene HLA-DQB1 (Liu et al., 2021). Estes genes foram identificados como componente chave, conhecidos como CELIAC1. No entanto, é importante distinguir que a região genética do HLA contribui maioritariamente com cerca de 40% da predisposição hereditária para o desenvolvimento da doença (Megiorni & Pizzuti, 2012).\n",
    "\n",
    "### Papel do HLA-DQA1 nas Alergias Alimentares\n",
    "Relativamente ao papel deste gene nas alergias alimentares, sabe-se que o gene HLA-DQA1 tem um papel preponderante no desenvolvimento da Hepatite B (Liu et al., 2021). Num estudo sobre a alergia às avelãs, Boehncke et. al concluíram que os alelos HLA-DRΒ101, HLA-DQA101:01 apresentavam uma função relevante na evolução deste tipo de alergia (Boehncke et al., 1998). Sabe-se ainda que o gene HLA-DQA1 desempenha um papel significativo no desenvolvimento da alergia à proteína hidrolisada de trigo e à alergia ao amendoim (Hong et al., 2015; Noguchi et al., 2019)\n"
   ]
  },
  {
   "cell_type": "markdown",
   "metadata": {},
   "source": [
    "### **Referências Bibliográficas:**\n",
    "- Boehncke, W.-H., Loeliger, C., Kuehnl, P., Kalbacher, H., Bo¨hmbo¨bo¨hm, B. O., & Gall, H. (1998). Identification of HLA-DR and-DQ alleles conferring susceptibility to pollen allergy and pollen associated food allergy.\n",
    "\n",
    "- Hong, X., Hao, K., Ladd-Acosta, C., Hansen, K. D., Tsai, H. J., Liu, X., Xu, X., Thornton, T. A., Caruso, D., Keet, C. A., Sun, Y., Wang, G., Luo, W., Kumar, R., Fuleihan, R., Singh, A. M., Kim, J. S., Story, R. E., Gupta, R. S., … Wang, X. (2015). Genome-wide association study identifies peanut allergy-specific loci and evidence of epigenetic mediation in US children. Nature Communications, 6. https://doi.org/10.1038/ncomms7304\n",
    "\n",
    "- Kanchan, K., Clay, S., Irizar, H., Bunyavanich, S., & Mathias, R. A. (2021). Current insights into the genetics of food allergy. In Journal of Allergy and Clinical Immunology (Vol. 147, Issue 1, pp. 15–28). Mosby Inc. https://doi.org/10.1016/j.jaci.2020.10.039\n",
    "\n",
    "- Liu, B., Shao, Y., & Fu, R. (2021). Current research status of HLA in immune-related diseases. In Immunity, Inflammation and Disease (Vol. 9, Issue 2, pp. 340–350). John Wiley and Sons Inc. https://doi.org/10.1002/iid3.416\n",
    "\n",
    "- Marsh, S. G., Parham, P., & Barber, L. D. (2000). The HLA FactsBook. In Elsevier eBooks. https://doi.org/10.1016/b978-0-12-545025-6.x5127-2 \n",
    "\n",
    "- Megiorni, F., & Pizzuti, A. (2012). HLA-DQA1 and HLA-DQB1 in Celiac disease predisposition: Practical implications of the HLA molecular typing. In Journal of Biomedical Science (Vol. 19, Issue 1). https://doi.org/10.1186/1423-0127-19-88\n",
    "\n",
    "- Noguchi, E., Akiyama, M., Yagami, A., Hirota, T., Okada, Y., Kato, Z., Kishikawa, R., Fukutomi, Y., Hide, M., Morita, E., Aihara, M., Hiragun, M., Chinuki, Y., Okabe, T., Ito, A., Adachi, A., Fukunaga, A., Kubota, Y., Aoki, T., … Matsunaga, K. (2019). HLA-DQ and RBFOX1 as susceptibility genes for an outbreak of hydrolyzed wheat allergy. Journal of Allergy and Clinical Immunology, 144(5), 1354–1363. https://doi.org/10.1016/j.jaci.2019.06.034\n",
    " \n"
   ]
  },
  {
   "cell_type": "markdown",
   "metadata": {},
   "source": []
  }
 ],
 "metadata": {
  "language_info": {
   "name": "python"
  }
 },
 "nbformat": 4,
 "nbformat_minor": 2
}
