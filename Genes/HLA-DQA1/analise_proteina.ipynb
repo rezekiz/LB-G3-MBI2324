{
 "cells": [
  {
   "cell_type": "code",
   "execution_count": 4,
   "metadata": {},
   "outputs": [],
   "source": [
    "def carregar_sequencia(filename):\n",
    "    from Bio import SeqIO\n",
    "\n",
    "    try:    \n",
    "        # Lemos o ficheiro .fasta\n",
    "        seq_proteina = SeqIO.read(open(filename),format='fasta')\n",
    "\n",
    "        sp = seq_proteina.seq # Isolamos a sequência\n",
    "        return sp\n",
    "    \n",
    "    except FileNotFoundError:\n",
    "        print('Ficheiro FASTA não existe. Apresentar um ficheiro FASTA válido.')\n"
   ]
  },
  {
   "cell_type": "code",
   "execution_count": 9,
   "metadata": {},
   "outputs": [],
   "source": [
    "# Procedemos à contagem de aminoácidos:\n",
    "# Primeiro para a sequência traduzida e depois para o conjunto de sequências após a remoção de codões stop\n",
    "\n",
    "sp = carregar_sequencia('output\\\\WQB05986.fasta')\n",
    "\n",
    "def conta_aa(seq_prot):\n",
    "    # TODO colocar um dicionário bonitinho\n",
    "    from collections import Counter\n",
    "    contagem_aa = dict(Counter(seq_prot))\n",
    "    \n",
    "    return contagem_aa\n"
   ]
  },
  {
   "cell_type": "code",
   "execution_count": 10,
   "metadata": {},
   "outputs": [
    {
     "data": {
      "text/plain": [
       "{'o': 1,\n",
       " 'u': 2,\n",
       " 't': 3,\n",
       " 'p': 1,\n",
       " '\\\\': 1,\n",
       " 'W': 1,\n",
       " 'Q': 1,\n",
       " 'B': 1,\n",
       " '0': 1,\n",
       " '5': 1,\n",
       " '9': 1,\n",
       " '8': 1,\n",
       " '6': 1,\n",
       " '.': 1,\n",
       " 'f': 1,\n",
       " 'a': 2,\n",
       " 's': 1}"
      ]
     },
     "execution_count": 10,
     "metadata": {},
     "output_type": "execute_result"
    }
   ],
   "source": [
    "conta_aa('output\\\\WQB05986.fasta')"
   ]
  },
  {
   "cell_type": "code",
   "execution_count": 8,
   "metadata": {},
   "outputs": [],
   "source": [
    "filename = 'blast_results.xml'\n",
    "\n",
    "def blast_parse(filename, lim = None, ethreshold = 0.05):\n",
    "    \n",
    "    from Bio.Blast import NCBIXML\n",
    "\n",
    "    handle = open(filename)\n",
    "    blast_res = NCBIXML.parse(handle)\n",
    "    blast_records = list(blast_res)\n",
    "\n",
    "    num = 1\n",
    "    for record in blast_records:\n",
    "\n",
    "        if lim == None: lim = len(record.alignments)    \n",
    "\n",
    "        for aligment in record.alignments[0:lim]:\n",
    "            #print(aligment)\n",
    "            \n",
    "            for hsp in aligment.hsps:\n",
    "                #print(hsp)\n",
    "                \n",
    "                if hsp.expect < ethreshold:\n",
    "                    print('****Alinhamento {} ****'.format(num))\n",
    "                    print('Sequência:',aligment.title)\n",
    "                    print('Tamanho da Sequência:',aligment.length)\n",
    "                    print('e-value:',hsp.expect)\n",
    "                    print(hsp.query[0:40]+'...')\n",
    "                    print(hsp.match[0:40]+'...')\n",
    "                    print(hsp.sbjct[0:40]+'...')\n",
    "                    print()\n",
    "                    num += 1    \n"
   ]
  },
  {
   "cell_type": "code",
   "execution_count": 11,
   "metadata": {},
   "outputs": [],
   "source": [
    "def analise_blast(email, fastafile, xmlfile, lim = None, ethreshold = 0.05):\n",
    "    '''\n",
    "    Função que carrega uma sequência de aminoácidos a partir de ficheiro fasta e realiza\n",
    "    uma análise blast caso esta ainda não esteja feita ou então faz parse de blast records\n",
    "    até ao limite definido.\n",
    "\n",
    "    email : str\n",
    "        parâmetro de email para utilização do serviço NCBIWWW\n",
    "\n",
    "    fastafile : str\n",
    "        caminho para ficheiro fasta com a sequência da proteína\n",
    "\n",
    "    xmlfile : str\n",
    "        caminho para o ficheiro XML com blastrecords caso já esteja previamente realizada\n",
    "\n",
    "    lim : int\n",
    "        limite de resultados que queremos visualizar dos resultados do blast\n",
    "        por defeito não está definido\n",
    "\n",
    "    e-threshold : float\n",
    "        valor-limite de e-value a que queremos delimitar a nossa análise blast\n",
    "        por defeito está definido 0.05\n",
    "    \n",
    "    '''\n",
    "    import os\n",
    "    from Bio.Blast import NCBIWWW\n",
    "    \n",
    "    NCBIWWW.email = email\n",
    "\n",
    "    if not fastafile.endswith('.fasta'): raise ValueError('Ficheiro .fasta inválido')\n",
    "        \n",
    "        \n",
    "        \n",
    "\n",
    "    try:\n",
    "        sequencia_proteina = carregar_sequencia(fastafile)\n",
    "    except FileNotFoundError: \n",
    "        print('Ficheiro FASTA não existe. Apresentar um ficheiro FASTA válido.')\n",
    "        print('Sugestão: Realizar um pesquisa_ncbi() com o ID da proteína na base de dados protein')\n",
    "    \n",
    "    # Verifica se já existe um ficheiro XML para os resultados do BLAST. Ignora a pesquisa caso já exista.\n",
    "    # Para poupar tempo.\n",
    "    # Se o ficheiro já existir executa o parsing do ficheiro.\n",
    "\n",
    "    if '.xml' not in xmlfile:\n",
    "        xmlfile = xmlfile + '.xml'\n",
    "\n",
    "    if os.path.isfile(xmlfile): \n",
    "        \n",
    "        blast_parse(xmlfile,lim, ethreshold)\n",
    "\n",
    "    else: \n",
    "    # Executa o BLAST da Proteína\n",
    "        handle = NCBIWWW.qblast('blastp','swissprot',sequencia_proteina.seq)\n",
    "\n",
    "        # TODO Converter o savefile numa sub-função\n",
    "        # Verifica se existe pasta para output e cria-a caso não exista\n",
    "        cwd = os.getcwd()\n",
    "        outputdir = os.path.join(cwd,'output')\n",
    "        if not os.path.exists(outputdir):\n",
    "            os.mkdir(outputdir)\n",
    "\n",
    "        # Muda o working directory para a pasta de output para gerar o ficheiro\n",
    "        os.chdir(outputdir)\n",
    "\n",
    "        with open(xmlfile, 'w') as _:\n",
    "            _.write(handle.read())\n",
    "\n",
    "\n",
    "        # Retorna ao working directory anterior\n",
    "        os.chdir(cwd)\n",
    "\n",
    "        print(f'Ficheiro {xmlfile} gravado.')\n",
    "        \n",
    "        handle.close()"
   ]
  },
  {
   "cell_type": "code",
   "execution_count": 14,
   "metadata": {},
   "outputs": [
    {
     "name": "stdout",
     "output_type": "stream",
     "text": [
      "Ficheiro FASTA não existe. Apresentar um ficheiro FASTA válido.\n"
     ]
    },
    {
     "ename": "AttributeError",
     "evalue": "'NoneType' object has no attribute 'seq'",
     "output_type": "error",
     "traceback": [
      "\u001b[1;31m---------------------------------------------------------------------------\u001b[0m",
      "\u001b[1;31mAttributeError\u001b[0m                            Traceback (most recent call last)",
      "Cell \u001b[1;32mIn[14], line 1\u001b[0m\n\u001b[1;32m----> 1\u001b[0m \u001b[43manalise_blast\u001b[49m\u001b[43m(\u001b[49m\u001b[38;5;124;43m\"\u001b[39;49m\u001b[38;5;124;43mpg52648@alunos.uminho.pt\u001b[39;49m\u001b[38;5;124;43m\"\u001b[39;49m\u001b[43m,\u001b[49m\u001b[43m \u001b[49m\u001b[38;5;124;43m\"\u001b[39;49m\u001b[38;5;124;43mWQB05986.fasta\u001b[39;49m\u001b[38;5;124;43m\"\u001b[39;49m\u001b[43m,\u001b[49m\u001b[43m \u001b[49m\u001b[38;5;124;43m\"\u001b[39;49m\u001b[38;5;124;43mblast_results.xml\u001b[39;49m\u001b[38;5;124;43m\"\u001b[39;49m\u001b[43m)\u001b[49m\n",
      "Cell \u001b[1;32mIn[11], line 54\u001b[0m, in \u001b[0;36manalise_blast\u001b[1;34m(email, fastafile, xmlfile, lim, ethreshold)\u001b[0m\n\u001b[0;32m     50\u001b[0m     blast_parse(xmlfile,lim, ethreshold)\n\u001b[0;32m     52\u001b[0m \u001b[38;5;28;01melse\u001b[39;00m: \n\u001b[0;32m     53\u001b[0m \u001b[38;5;66;03m# Executa o BLAST da Proteína\u001b[39;00m\n\u001b[1;32m---> 54\u001b[0m     handle \u001b[38;5;241m=\u001b[39m NCBIWWW\u001b[38;5;241m.\u001b[39mqblast(\u001b[38;5;124m'\u001b[39m\u001b[38;5;124mblastp\u001b[39m\u001b[38;5;124m'\u001b[39m,\u001b[38;5;124m'\u001b[39m\u001b[38;5;124mswissprot\u001b[39m\u001b[38;5;124m'\u001b[39m,\u001b[43msequencia_proteina\u001b[49m\u001b[38;5;241;43m.\u001b[39;49m\u001b[43mseq\u001b[49m)\n\u001b[0;32m     56\u001b[0m     \u001b[38;5;66;03m# TODO Converter o savefile numa sub-função\u001b[39;00m\n\u001b[0;32m     57\u001b[0m     \u001b[38;5;66;03m# Verifica se existe pasta para output e cria-a caso não exista\u001b[39;00m\n\u001b[0;32m     58\u001b[0m     cwd \u001b[38;5;241m=\u001b[39m os\u001b[38;5;241m.\u001b[39mgetcwd()\n",
      "\u001b[1;31mAttributeError\u001b[0m: 'NoneType' object has no attribute 'seq'"
     ]
    }
   ],
   "source": [
    "analise_blast(\"pg52648@alunos.uminho.pt\", \"WQB05986.fasta\", \"blast_results.xml\")"
   ]
  },
  {
   "cell_type": "code",
   "execution_count": 15,
   "metadata": {},
   "outputs": [
    {
     "name": "stdout",
     "output_type": "stream",
     "text": [
      "ID P01909\n",
      "Sequência: MILNKALMLGALALTTVMSPCGGEDIVADHVASYGVNLYQSYGPSGQYTHEFDGDEQFYVDLGRKETVWCLPVLRQFRFDPQFALTNIAVLKHNLNSLIKRSNSTAATNEVPEVTVFSKSPVTLGQPNILICLVDNIFPPVVNITWLSNGHSVTEGVSETSFLSKSDHSFFKISYLTLLPSAEESYDCKVEHWGLDKPLLKHWEPEIPAPMSELTETVVCALGLSVGLVGIVVGTVFIIRGLRSVGASRHQGPL\n",
      "Tamanho da sequência: 254 bp\n",
      "Nome: DQA1_HUMAN\n",
      "Descrição: RecName: Full=HLA class II histocompatibility antigen, DQ alpha 1 chain; AltName: Full=DC-1 alpha chain; AltName: Full=DC-alpha; AltName: Full=HLA-DCA; AltName: Full=MHC class II DQA1; Flags: Precursor;\n",
      "Taxonomia: ['Eukaryota', 'Metazoa', 'Chordata', 'Craniata', 'Vertebrata', 'Euteleostomi', 'Mammalia', 'Eutheria', 'Euarchontoglires', 'Primates', 'Haplorrhini', 'Catarrhini', 'Hominidae', 'Homo']\n",
      "Organismo: Homo sapiens (Human)\n",
      "Keywords: ['3D-structure', 'Adaptive immunity', 'Cell membrane', 'Direct protein sequencing', 'Disulfide bond', 'Endoplasmic reticulum', 'Endosome', 'Glycoprotein', 'Golgi apparatus', 'Immunity', 'Lysosome', 'Membrane', 'MHC II', 'Reference proteome', 'Signal', 'Transmembrane', 'Transmembrane helix']\n"
     ]
    }
   ],
   "source": [
    "swiss_id = 'P01909' # Encontra-se o ID no ficheiro FASTA \n",
    "\n",
    "# TODO integrar esta função na função de análise\n",
    "\n",
    "def swiss_prot_scan(swiss_id):\n",
    "    from Bio import SeqIO\n",
    "    from Bio import ExPASy\n",
    "    # Efetuamos uma pesquisa na base de dados SwissProt \n",
    "    handle = ExPASy.get_sprot_raw(swiss_id) # Encontramos o ID ao ler o ficheiro fasta\n",
    "    sr = SeqIO.read(handle, \"swiss\")\n",
    "    print(\n",
    "        f'ID {sr.id}',\n",
    "        f'Sequência: {sr.seq}',\n",
    "        f'Tamanho da sequência: {len(sr.seq)} bp',\n",
    "        f'Nome: {sr.name}',\n",
    "        f'Descrição: {sr.description}',\n",
    "        f'Taxonomia: {sr.annotations[\"taxonomy\"]}',\n",
    "        f'Organismo: {sr.annotations[\"organism\"]}',\n",
    "        f'Keywords: {sr.annotations[\"keywords\"]}',\n",
    "        sep = '\\n')\n",
    "\n",
    "swiss_prot_scan('P01909')"
   ]
  }
 ],
 "metadata": {
  "kernelspec": {
   "display_name": "Python 3",
   "language": "python",
   "name": "python3"
  },
  "language_info": {
   "codemirror_mode": {
    "name": "ipython",
    "version": 3
   },
   "file_extension": ".py",
   "mimetype": "text/x-python",
   "name": "python",
   "nbconvert_exporter": "python",
   "pygments_lexer": "ipython3",
   "version": "3.7.1"
  }
 },
 "nbformat": 4,
 "nbformat_minor": 2
}
