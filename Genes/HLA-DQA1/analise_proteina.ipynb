{
 "cells": [
  {
   "cell_type": "code",
   "execution_count": 1,
   "metadata": {},
   "outputs": [],
   "source": [
    "\n",
    "def carregar_sequencia(filename):\n",
    "    from Bio import SeqIO\n",
    "    \n",
    "    # Lemos o ficheiro .fasta\n",
    "    seq_proteina = SeqIO.read(open(filename),format='fasta')\n",
    "\n",
    "    sp = seq_proteina.seq # Isolamos a sequência\n",
    "\n",
    "    return sp"
   ]
  },
  {
   "cell_type": "code",
   "execution_count": 5,
   "metadata": {},
   "outputs": [
    {
     "data": {
      "text/plain": [
       "{'M': 6,\n",
       " 'I': 13,\n",
       " 'L': 26,\n",
       " 'N': 11,\n",
       " 'K': 10,\n",
       " 'A': 15,\n",
       " 'G': 22,\n",
       " 'T': 16,\n",
       " 'V': 23,\n",
       " 'S': 20,\n",
       " 'P': 15,\n",
       " 'C': 5,\n",
       " 'E': 16,\n",
       " 'D': 10,\n",
       " 'H': 7,\n",
       " 'Y': 7,\n",
       " 'Q': 9,\n",
       " 'F': 13,\n",
       " 'R': 6,\n",
       " 'W': 5}"
      ]
     },
     "execution_count": 5,
     "metadata": {},
     "output_type": "execute_result"
    }
   ],
   "source": [
    "# Procedemos à contagem de aminoácidos:\n",
    "# Primeiro para a sequência traduzida e depois para o conjunto de sequências após a remoção de codões stop\n",
    "\n",
    "sp = carregar_sequencia('output\\\\WQB05986.fasta')\n",
    "\n",
    "def conta_aa(seq_prot):\n",
    "    # TODO colocar um dicionário bonitinho\n",
    "    from collections import Counter\n",
    "    contagem_aa = dict(Counter(seq_prot))\n",
    "    \n",
    "    return contagem_aa\n",
    "\n",
    "conta_aa(sp)\n"
   ]
  },
  {
   "cell_type": "code",
   "execution_count": 4,
   "metadata": {},
   "outputs": [
    {
     "name": "stdout",
     "output_type": "stream",
     "text": [
      "ID P01909\n",
      "Sequência: MILNKALMLGALALTTVMSPCGGEDIVADHVASYGVNLYQSYGPSGQYTHEFDGDEQFYVDLGRKETVWCLPVLRQFRFDPQFALTNIAVLKHNLNSLIKRSNSTAATNEVPEVTVFSKSPVTLGQPNILICLVDNIFPPVVNITWLSNGHSVTEGVSETSFLSKSDHSFFKISYLTLLPSAEESYDCKVEHWGLDKPLLKHWEPEIPAPMSELTETVVCALGLSVGLVGIVVGTVFIIRGLRSVGASRHQGPL\n",
      "Tamanho da sequência: 254 bp\n",
      "Nome: DQA1_HUMAN\n",
      "Descrição: RecName: Full=HLA class II histocompatibility antigen, DQ alpha 1 chain; AltName: Full=DC-1 alpha chain; AltName: Full=DC-alpha; AltName: Full=HLA-DCA; AltName: Full=MHC class II DQA1; Flags: Precursor;\n",
      "Taxonomia: ['Eukaryota', 'Metazoa', 'Chordata', 'Craniata', 'Vertebrata', 'Euteleostomi', 'Mammalia', 'Eutheria', 'Euarchontoglires', 'Primates', 'Haplorrhini', 'Catarrhini', 'Hominidae', 'Homo']\n",
      "Organismo: Homo sapiens (Human)\n",
      "Keywords: ['3D-structure', 'Adaptive immunity', 'Cell membrane', 'Direct protein sequencing', 'Disulfide bond', 'Endoplasmic reticulum', 'Endosome', 'Glycoprotein', 'Golgi apparatus', 'Immunity', 'Lysosome', 'Membrane', 'MHC II', 'Reference proteome', 'Signal', 'Transmembrane', 'Transmembrane helix']\n"
     ]
    }
   ],
   "source": [
    "swiss_id = 'P01909' # Encontra-se o ID no ficheiro FASTA \n",
    "\n",
    "def swiss_prot_scan(swiss_id):\n",
    "    from Bio import SeqIO\n",
    "    from Bio import ExPASy\n",
    "    # Efetuamos uma pesquisa na base de dados SwissProt \n",
    "    handle = ExPASy.get_sprot_raw(swiss_id) # Encontramos o ID ao ler o ficheiro fasta\n",
    "    sr = SeqIO.read(handle, \"swiss\")\n",
    "    print(\n",
    "        f'ID {sr.id}',\n",
    "        f'Sequência: {sr.seq}',\n",
    "        f'Tamanho da sequência: {len(sr.seq)} bp',\n",
    "        f'Nome: {sr.name}',\n",
    "        f'Descrição: {sr.description}',\n",
    "        f'Taxonomia: {sr.annotations[\"taxonomy\"]}',\n",
    "        f'Organismo: {sr.annotations[\"organism\"]}',\n",
    "        f'Keywords: {sr.annotations[\"keywords\"]}',\n",
    "        sep = '\\n')\n",
    "\n",
    "swiss_prot_scan('P01909')"
   ]
  },
  {
   "cell_type": "code",
   "execution_count": 10,
   "metadata": {},
   "outputs": [
    {
     "ename": "NameError",
     "evalue": "name 'sequencia_proteina' is not defined",
     "output_type": "error",
     "traceback": [
      "\u001b[1;31m---------------------------------------------------------------------------\u001b[0m",
      "\u001b[1;31mNameError\u001b[0m                                 Traceback (most recent call last)",
      "Cell \u001b[1;32mIn[10], line 29\u001b[0m\n\u001b[0;32m     25\u001b[0m             _\u001b[38;5;241m.\u001b[39mwrite(handle\u001b[38;5;241m.\u001b[39mread())\n\u001b[0;32m     27\u001b[0m         handle\u001b[38;5;241m.\u001b[39mclose()\n\u001b[1;32m---> 29\u001b[0m analise_blast(\u001b[38;5;124m'\u001b[39m\u001b[38;5;124mpg52648@alunos.uminho.pt\u001b[39m\u001b[38;5;124m'\u001b[39m,\u001b[43msequencia_proteina\u001b[49m,\u001b[38;5;124m'\u001b[39m\u001b[38;5;124mblast_results.xml\u001b[39m\u001b[38;5;124m'\u001b[39m)\n",
      "\u001b[1;31mNameError\u001b[0m: name 'sequencia_proteina' is not defined"
     ]
    }
   ],
   "source": [
    "def analise_blast(email, sequencia_proteina, filename, lim = None):\n",
    "    import os\n",
    "    from Bio.Blast import NCBIWWW\n",
    "    \n",
    "    NCBIWWW.email = email\n",
    "\n",
    "    \n",
    "    \n",
    "    # Verifica se já existe um ficheiro XML para os resultados do BLAST. Ignora a pesquisa caso já exista.\n",
    "    # Para poupar tempo.\n",
    "    # Se o ficheiro já existir executa o parsing do ficheiro.\n",
    "\n",
    "    if '.xml' not in filename:\n",
    "        filename = filename + '.xml'\n",
    "\n",
    "    if os.path.isfile(filename): \n",
    "        \n",
    "        blast_parse(filename,lim)\n",
    "\n",
    "    else: \n",
    "    # Executa o BLAST da Proteína\n",
    "        handle = NCBIWWW.qblast('blastp','swissprot',sequencia_proteina.seq)\n",
    "\n",
    "        with open(filename, 'w') as _:\n",
    "            _.write(handle.read())\n",
    "        \n",
    "        handle.close()\n",
    "\n",
    "analise_blast('pg52648@alunos.uminho.pt',sequencia_proteina,'blast_results.xml')"
   ]
  },
  {
   "cell_type": "code",
   "execution_count": 31,
   "metadata": {},
   "outputs": [],
   "source": [
    "filename = 'blast_results.xml'\n",
    "\n",
    "def blast_parse(filename, lim = None):\n",
    "    \n",
    "    from Bio.Blast import NCBIXML\n",
    "\n",
    "    handle = open(filename)\n",
    "    blast_res = NCBIXML.parse(handle)\n",
    "    blast_records = list(blast_res)\n",
    "\n",
    "    num = 1\n",
    "    for record in blast_records:\n",
    "\n",
    "        if lim == None: lim = len(record.alignments)    \n",
    "\n",
    "        for aligment in record.alignments[0:lim]:\n",
    "            #print(aligment)\n",
    "            \n",
    "            for hsp in aligment.hsps:\n",
    "                #print(hsp)\n",
    "                \n",
    "                if hsp.expect < 0.05:\n",
    "                    print('****Alinhamento {} ****'.format(num))\n",
    "                    print('Sequência:',aligment.title)\n",
    "                    print('Tamanho da Sequência:',aligment.length)\n",
    "                    print('e-value:',hsp.expect)\n",
    "                    print(hsp.query[0:40]+'...')\n",
    "                    print(hsp.match[0:40]+'...')\n",
    "                    print(hsp.sbjct[0:40]+'...')\n",
    "                    print()\n",
    "                    num += 1    \n"
   ]
  }
 ],
 "metadata": {
  "kernelspec": {
   "display_name": "Python 3",
   "language": "python",
   "name": "python3"
  },
  "language_info": {
   "codemirror_mode": {
    "name": "ipython",
    "version": 3
   },
   "file_extension": ".py",
   "mimetype": "text/x-python",
   "name": "python",
   "nbconvert_exporter": "python",
   "pygments_lexer": "ipython3",
   "version": "3.10.11"
  }
 },
 "nbformat": 4,
 "nbformat_minor": 2
}
