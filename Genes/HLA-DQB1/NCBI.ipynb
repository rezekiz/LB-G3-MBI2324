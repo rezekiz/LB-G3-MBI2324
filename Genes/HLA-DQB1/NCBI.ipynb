{
 "cells": [
  {
   "cell_type": "code",
   "execution_count": 12,
   "metadata": {},
   "outputs": [
    {
     "name": "stdout",
     "output_type": "stream",
     "text": [
      "ID do gene HLA-DQB1: 3119\n"
     ]
    }
   ],
   "source": [
    "from Bio import Entrez\n",
    "\n",
    "def obter_id_gene_por_nome(email, nome_gene):\n",
    "    Entrez.email = email\n",
    "    handle = Entrez.esearch(db=\"gene\", term=f\"{nome_gene}[Gene Name]\")\n",
    "    resultado = Entrez.read(handle)\n",
    "    handle.close()\n",
    "\n",
    "    # Convertendo 'Count' para inteiro\n",
    "    count = int(resultado['Count'])\n",
    "\n",
    "    if count > 0:\n",
    "        return resultado['IdList'][0]\n",
    "    else:\n",
    "        return None\n",
    "\n",
    "# Exemplo de uso\n",
    "email = \"carlosfcgomes0@gmail.com\"\n",
    "nome_gene = \"HLA-DQB1\"\n",
    "id_gene = obter_id_gene_por_nome(email, nome_gene)\n",
    "print(f\"ID do gene {nome_gene}: {id_gene}\")"
   ]
  },
  {
   "cell_type": "code",
   "execution_count": 2,
   "metadata": {},
   "outputs": [],
   "source": [
    "def guardar_ficheiro(email, basedados, id_gene, nome_ficheiro):\n",
    "    \n",
    "    import os\n",
    "    from Bio import SeqIO\n",
    "    from Bio import Entrez\n",
    "\n",
    "    Entrez.email = email\n",
    "    \n",
    "    filename = nome_ficheiro\n",
    "\n",
    "    if not os.path.isfile(filename):\n",
    "        net_handle = Entrez.efetch( db = basedados, id = id_gene, rettype=\"gb\", retmode=\"text\")\n",
    "        out_handle = open(filename, \"w\")\n",
    "        out_handle.write(net_handle.read())\n",
    "        out_handle.close()\n",
    "        net_handle.close()\n",
    "        diretoria = os.getcwd()\n",
    "        print(\"O ficheiro foi guardado com sucesso na seguinte diretoria:\", diretoria)\n",
    "\n",
    "    return "
   ]
  },
  {
   "cell_type": "code",
   "execution_count": 13,
   "metadata": {},
   "outputs": [
    {
     "name": "stdout",
     "output_type": "stream",
     "text": [
      "O ficheiro foi guardado com sucesso na seguinte diretoria: C:\\Users\\carla\\AppData\\Local\\Programs\\Microsoft VS Code\n"
     ]
    }
   ],
   "source": [
    "guardar_ficheiro(\"carlosfcgomes0@gmail.com\", \"nucleotide\",\"3119\", \"HLA-DQB1.gbk\")"
   ]
  }
 ],
 "metadata": {
  "kernelspec": {
   "display_name": "base",
   "language": "python",
   "name": "python3"
  },
  "language_info": {
   "codemirror_mode": {
    "name": "ipython",
    "version": 3
   },
   "file_extension": ".py",
   "mimetype": "text/x-python",
   "name": "python",
   "nbconvert_exporter": "python",
   "pygments_lexer": "ipython3",
   "version": "3.11.4"
  }
 },
 "nbformat": 4,
 "nbformat_minor": 2
}
