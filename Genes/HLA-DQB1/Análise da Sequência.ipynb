{
 "cells": [
  {
   "cell_type": "code",
   "execution_count": 24,
   "metadata": {},
   "outputs": [
    {
     "name": "stdout",
     "output_type": "stream",
     "text": [
      "ID do gene HLA-DQB1: 3119\n"
     ]
    }
   ],
   "source": [
    "from Bio import Entrez\n",
    "\n",
    "def obter_id_gene_por_nome(email, nome_gene):\n",
    "    Entrez.email = email\n",
    "    handle = Entrez.esearch(db=\"gene\", term=f\"{nome_gene}[Gene Name]\")\n",
    "    resultado = Entrez.read(handle)\n",
    "    handle.close()\n",
    "\n",
    "    # Convertendo 'Count' para inteiro\n",
    "    count = int(resultado['Count'])\n",
    "\n",
    "    if count > 0:\n",
    "        return resultado['IdList'][0]\n",
    "    else:\n",
    "        return None\n",
    "\n",
    "# Exemplo de uso\n",
    "email = \"carlosfcgomes0@gmail.com\"\n",
    "nome_gene = \"HLA-DQB1\"\n",
    "id_gene = obter_id_gene_por_nome(email, nome_gene)\n",
    "print(f\"ID do gene {nome_gene}: {id_gene}\")"
   ]
  },
  {
   "cell_type": "markdown",
   "metadata": {},
   "source": [
    "Aceder ao NCBI e guardar os ficheiros correspondentes aos genes escolhidos"
   ]
  },
  {
   "cell_type": "code",
   "execution_count": 25,
   "metadata": {},
   "outputs": [],
   "source": [
    "def guardar_ficheiro(email, basedados, id_gene, nome_ficheiro):\n",
    "    \n",
    "    import os\n",
    "    from Bio import SeqIO\n",
    "    from Bio import Entrez\n",
    "\n",
    "    Entrez.email = email\n",
    "    \n",
    "    filename = nome_ficheiro\n",
    "\n",
    "    if not os.path.isfile(filename):\n",
    "        net_handle = Entrez.efetch( db = basedados, id = id_gene, rettype=\"gb\", retmode=\"text\")\n",
    "        out_handle = open(filename, \"w\")\n",
    "        out_handle.write(net_handle.read())\n",
    "        out_handle.close()\n",
    "        net_handle.close()\n",
    "        diretoria = os.getcwd()\n",
    "        print(\"O ficheiro foi guardado com sucesso na seguinte diretoria:\", diretoria)\n",
    "\n",
    "    return "
   ]
  },
  {
   "cell_type": "code",
   "execution_count": 26,
   "metadata": {},
   "outputs": [],
   "source": [
    "guardar_ficheiro(\"carlosfcgomes0@gmail.com\", \"nucleotide\",\"3119\", \"HLA-DQB1.gbk\")"
   ]
  },
  {
   "cell_type": "markdown",
   "metadata": {},
   "source": [
    "Análise do ficheiro"
   ]
  },
  {
   "cell_type": "code",
   "execution_count": 27,
   "metadata": {},
   "outputs": [],
   "source": [
    "def parsing(nome_ficheiro):\n",
    "\n",
    "    from Bio import SeqIO\n",
    "    \n",
    "    record = SeqIO.read(nome_ficheiro, \"genbank\")\n",
    "\n",
    "    print(\"ID do gene:\", record.id)\n",
    "\n",
    "    print(\"Nome do gene:\", record.name)\n",
    "\n",
    "    print(\"Descrição do gene\", record.description)\n",
    "\n",
    "    print(\"Comprimento da sequência:\", len(record.seq), \"bp\")\n",
    "\n",
    "    return"
   ]
  },
  {
   "cell_type": "code",
   "execution_count": 28,
   "metadata": {},
   "outputs": [
    {
     "name": "stdout",
     "output_type": "stream",
     "text": [
      "ID do gene: X70408.1\n",
      "Nome do gene: PCBGASA\n",
      "Descrição do gene Penicillium canescens bgaS gene for beta-galactosidase\n",
      "Comprimento da sequência: 1084 bp\n"
     ]
    }
   ],
   "source": [
    "parsing(\"HLA-DQB1.gbk\")"
   ]
  },
  {
   "cell_type": "markdown",
   "metadata": {},
   "source": [
    "Verificar as anotações correspondentes aos genes de interesse"
   ]
  },
  {
   "cell_type": "code",
   "execution_count": 29,
   "metadata": {},
   "outputs": [],
   "source": [
    "def anot(nome_ficheiro):\n",
    "    \n",
    "    from Bio import SeqIO\n",
    "    \n",
    "    record = SeqIO.read(nome_ficheiro, \"genbank\")\n",
    "\n",
    "    print(\"Quantidade de anotações:\", len(record.annotations))\n",
    "\n",
    "    print()\n",
    "    \n",
    "    print(\"Lista de anotações:\")\n",
    "    \n",
    "    for anotacao in record.annotations:\n",
    "        print(anotacao, \"->\", record.annotations[anotacao])\n",
    "\n",
    "    return   "
   ]
  },
  {
   "cell_type": "code",
   "execution_count": 30,
   "metadata": {},
   "outputs": [
    {
     "name": "stdout",
     "output_type": "stream",
     "text": [
      "Quantidade de anotações: 12\n",
      "\n",
      "Lista de anotações:\n",
      "molecule_type -> DNA\n",
      "topology -> linear\n",
      "data_file_division -> PLN\n",
      "date -> 27-APR-2004\n",
      "accessions -> ['X70408']\n",
      "sequence_version -> 1\n",
      "keywords -> ['beta-D-galactoside bond cleavage', 'beta-galactosidase', 'carbohydrolase']\n",
      "source -> Penicillium canescens\n",
      "organism -> Penicillium canescens\n",
      "taxonomy -> ['Eukaryota', 'Fungi', 'Ascomycota', 'Pezizomycotina', 'Eurotiomycetes', 'Eurotiales', 'Trichocomaceae', 'mitosporic Trichocomaceae', 'Penicillium']\n",
      "references -> [Reference(title='Molecular cloning of the gene for secreted beta-galactosidase of the filamentous fungus Penicillium canescens', ...), Reference(title='Direct Submission', ...)]\n",
      "comment -> [WARNING] On Dec 3, 2004 this sequence was replaced by X70408.2.\n"
     ]
    }
   ],
   "source": [
    "anot(\"HLA-DQB1.gbk\")"
   ]
  },
  {
   "cell_type": "markdown",
   "metadata": {},
   "source": [
    "Verificar e analisar a informação complementar fornecida pela lista de features e seus qualifiers\n"
   ]
  },
  {
   "cell_type": "code",
   "execution_count": 31,
   "metadata": {},
   "outputs": [],
   "source": [
    "def features_qualifiers(nome_ficheiro):\n",
    "    \n",
    "    from Bio import SeqIO\n",
    "    \n",
    "    record = SeqIO.read(nome_ficheiro, \"genbank\")\n",
    "    \n",
    "    print(\"Quantidade de features:\", len(record.features))\n",
    "\n",
    "    for feature in record.features:\n",
    "        print(feature)\n",
    "    return"
   ]
  },
  {
   "cell_type": "code",
   "execution_count": 32,
   "metadata": {},
   "outputs": [
    {
     "name": "stdout",
     "output_type": "stream",
     "text": [
      "Quantidade de features: 17\n",
      "type: source\n",
      "location: [0:1084](+)\n",
      "qualifiers:\n",
      "    Key: cell_type, Value: ['mycelial']\n",
      "    Key: clone_lib, Value: ['genomic library in lambda EMBL4']\n",
      "    Key: db_xref, Value: ['taxon:5083']\n",
      "    Key: isolate, Value: ['A2']\n",
      "    Key: mol_type, Value: ['genomic DNA']\n",
      "    Key: organism, Value: ['Penicillium canescens']\n",
      "    Key: strain, Value: ['F-178 (VKPM, NIIGenetika)']\n",
      "\n",
      "type: gene\n",
      "location: [40:1084](+)\n",
      "qualifiers:\n",
      "    Key: gene, Value: ['bgaS']\n",
      "\n",
      "type: regulatory\n",
      "location: [40:44](+)\n",
      "qualifiers:\n",
      "    Key: gene, Value: ['bgaS']\n",
      "    Key: regulatory_class, Value: ['CAAT_signal']\n",
      "\n",
      "type: regulatory\n",
      "location: [66:70](+)\n",
      "qualifiers:\n",
      "    Key: gene, Value: ['bgaS']\n",
      "    Key: regulatory_class, Value: ['CAAT_signal']\n",
      "\n",
      "type: repeat_region\n",
      "location: [279:302](+)\n",
      "qualifiers:\n",
      "    Key: gene, Value: ['bgaS']\n",
      "    Key: rpt_type, Value: ['INVERTED']\n",
      "    Key: standard_name, Value: ['palindrome']\n",
      "\n",
      "type: regulatory\n",
      "location: [304:312](+)\n",
      "qualifiers:\n",
      "    Key: gene, Value: ['bgaS']\n",
      "    Key: regulatory_class, Value: ['TATA_box']\n",
      "\n",
      "type: mRNA\n",
      "location: join{[344:567](+), [631:708](+), [759:1062](+)}\n",
      "qualifiers:\n",
      "    Key: gene, Value: ['bgaS']\n",
      "\n",
      "type: exon\n",
      "location: [344:567](+)\n",
      "qualifiers:\n",
      "    Key: gene, Value: ['bgaS']\n",
      "    Key: number, Value: ['1']\n",
      "\n",
      "type: CDS\n",
      "location: join{[432:567](+), [631:708](+), [759:1062](+)}\n",
      "qualifiers:\n",
      "    Key: EC_number, Value: ['3.2.1.23']\n",
      "    Key: codon_start, Value: ['1']\n",
      "    Key: db_xref, Value: ['GOA:Q12660', 'UniProtKB/TrEMBL:Q12660']\n",
      "    Key: gene, Value: ['bgaS']\n",
      "    Key: product, Value: ['beta-galactosidase']\n",
      "    Key: protein_id, Value: ['CAA49852.1']\n",
      "    Key: translation, Value: ['MKLLSSWVVAALAAQAAGAAISHKLDGFTIREHADPAKRALLQKYVTWDEHSIFVNGERLMIFSGEVHPYRLPVASLYIDIFEKVKALGFNCVSFYVDWALLEGNPGHYSAEGIFDLQPFFDAAKEAGIYLLARPGPYINAEVSGGGFPGWLQRVDGILRTSDEAYLKATD']\n",
      "\n",
      "type: sig_peptide\n",
      "location: [432:489](+)\n",
      "qualifiers:\n",
      "    Key: gene, Value: ['bgaS']\n",
      "\n",
      "type: misc_feature\n",
      "location: [489:549](+)\n",
      "qualifiers:\n",
      "    Key: gene, Value: ['bgaS']\n",
      "    Key: standard_name, Value: ['propeptide']\n",
      "\n",
      "type: mat_peptide\n",
      "location: join{[549:567](+), [631:708](+), [759:1062](+)}\n",
      "qualifiers:\n",
      "    Key: gene, Value: ['bgaS']\n",
      "    Key: product, Value: ['beta-galactosidase']\n",
      "\n",
      "type: intron\n",
      "location: [567:631](+)\n",
      "qualifiers:\n",
      "    Key: gene, Value: ['bgaS']\n",
      "    Key: number, Value: ['1']\n",
      "\n",
      "type: exon\n",
      "location: [631:708](+)\n",
      "qualifiers:\n",
      "    Key: gene, Value: ['bgaS']\n",
      "    Key: number, Value: ['2']\n",
      "\n",
      "type: intron\n",
      "location: [708:759](+)\n",
      "qualifiers:\n",
      "    Key: gene, Value: ['bgaS']\n",
      "    Key: number, Value: ['2']\n",
      "\n",
      "type: exon\n",
      "location: [759:1062](+)\n",
      "qualifiers:\n",
      "    Key: gene, Value: ['bgaS']\n",
      "    Key: number, Value: ['3']\n",
      "\n",
      "type: intron\n",
      "location: [1062:>1084](+)\n",
      "qualifiers:\n",
      "    Key: gene, Value: ['bgaS']\n",
      "    Key: number, Value: ['3']\n",
      "\n"
     ]
    }
   ],
   "source": [
    "features_qualifiers(\"HLA-DQB1.gbk\")"
   ]
  }
 ],
 "metadata": {
  "kernelspec": {
   "display_name": "base",
   "language": "python",
   "name": "python3"
  },
  "language_info": {
   "codemirror_mode": {
    "name": "ipython",
    "version": 3
   },
   "file_extension": ".py",
   "mimetype": "text/x-python",
   "name": "python",
   "nbconvert_exporter": "python",
   "pygments_lexer": "ipython3",
   "version": "3.11.5"
  }
 },
 "nbformat": 4,
 "nbformat_minor": 2
}
