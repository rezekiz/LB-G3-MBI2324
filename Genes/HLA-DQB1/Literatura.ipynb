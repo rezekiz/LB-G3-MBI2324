{
 "cells": [
  {
   "cell_type": "markdown",
   "metadata": {},
   "source": [
    "## HLA-DQB1\n",
    "\n",
    "> **Nome do gene:** major histocompatibility complex, class II, DQ beta 1\n",
    "\n",
    "> **Cromossoma:** Chromosome 6 NC_000006.12\n",
    "\n",
    "> **Gene ID**: 3119\n",
    "\n",
    "> **Proteína associada**: HLA class II histocompatibility antigen, DQ beta 1 chain\n",
    "\n",
    "> **Protein ID**: P01920\n",
    "\n",
    "### O papel do HLA-DQB1 no sistema imunitário\n",
    "O gene HLA-DQB1 é um gene que codifica uma proteína da superfície celular que faz parte do complexo principal de histocompatibilidade de classe II (MHC II). O HLA-DQB1 é um dos genes mais polimórficos do genoma humano, com mais de 1.000 alelos conhecidos, ou seja, existem muitas variações diferentes na sequência do gene. As variações na sequência do HLA-DQB1 podem afetar a capacidade do MHC II de apresentar antígenos aos linfócitos T. Essas variações podem também afetar o risco de desenvolver certas doenças, incluindo alergias (Bodmer, 1987).\n",
    "\n",
    "### HLA-DQB1 e relação com a Asma e a alergia ao amendoim\n",
    "Num estudo de associação do genoma realizado em grande escala, verificou-se que o locus do antigénio leucocitário humano (HLA)-DQB1 está fortemente associado à asma. Doença que muitas vezes está clinicamente associada a alergias alimentares (Simpson et al., 2010). Atualmente, alguns estudos têm demonstrado que algumas variações do gene HLA-DBQ1 estão associadas a um maior risco de desenvolver alergias ao amendoim. Por exemplo, o estudo levado a cabo por Madore et al. em 2013, analisou mais de 1000 pessoas com alergia ao amendoim e chegou à conclusão de que as pessoas com o alelo HLA-DQB1*06:02 tinham um risco 11 vezes maior de desenvolver a alergia do que pessoas sem esse alelo. \n",
    "\n",
    "### O papel das variações em HLA-DQB1 na intensificação de respostas alérgicas\n",
    "Os mecanismos pelos quais as variações no gene HLA-DQB1 aumentam o risco de alergia ao amendoim ainda não são totalmente compreendidos. No entanto, acredita-se que as variações podem afetar a capacidade do MHC II de apresentar antígenos de amendoim aos linfócitos T. Quando os linfócitos T são expostos a antígenos de amendoim, eles podem produzir moléculas chamadas citocinas. Essas citocinas podem desencadear uma resposta alérgica, que pode incluir sintomas como inchaço, urticária e dificuldade para respirar. As variações no gene HLA-DQB1 podem afetar a forma como os linfócitos T respondem aos antígenos de amendoim. Isso pode aumentar o risco de que os linfócitos T produzam citocinas em excesso, o que pode levar a uma resposta alérgica mais grave (Kostara et al., 2020).\n",
    "\n",
    "### Referências Bibliográficas\n",
    "\n",
    "- Bodmer, W. F., 1987. The HLA system: structure and function. Journal of clinical pathology, 40, 9, 948. https://jcp.bmj.com/content/40/9/948 \n",
    "Keating, M. U., Jones, R. T., Worley, N. J., Shively, C. A., & Yunginger, J. W., 1990. Immunoassay of peanut allergens in food-processing materials and finished foods. Journal of allergy and clinical immunology, 86, 1, 41-44. https://www.sciencedirect.com/science/article/abs/pii/S0091674905801216?via%3Dihub\n",
    "\n",
    "- Kostara, M., Chondrou, V., Sgourou, A., Douros, K., & Tsabouri, S., 2020. HLA polymorphisms and food allergy predisposition. Journal of Pediatric Genetics, 9, 02, 077-086. https://www.thieme-connect.de/products/ejournals/abstract/10.1055/s-0040-1708521 \n",
    "\n",
    "- Madore, A. M., Vaillancourt, V. T., Asai, Y., Alizadehfar, R., Ben-Shoshan, M., Michel, D. L., ... & Laprise, C., 2013. HLA-DQB1* 02 and DQB1* 06: 03P are associated with peanut allergy. European Journal of Human Genetics, 21, 10, 1181-1184. https://www.nature.com/articles/ejhg201313 \n",
    "\n",
    "- Simpson, A. B., Yousef, E., & Hossain, J., 2010. Association between peanut allergy and asthma morbidity. The Journal of pediatrics, 156, 5, 777-781. https://www.sciencedirect.com/science/article/pii/S0022347609012153?via%3Dihub \n",
    "\n"
   ]
  },
  {
   "cell_type": "markdown",
   "metadata": {},
   "source": []
  }
 ],
 "metadata": {
  "language_info": {
   "name": "python"
  }
 },
 "nbformat": 4,
 "nbformat_minor": 2
}
