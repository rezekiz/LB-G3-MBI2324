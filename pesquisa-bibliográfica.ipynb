{
 "cells": [
  {
   "cell_type": "code",
   "execution_count": 12,
   "metadata": {},
   "outputs": [],
   "source": [
    "# ATENÇÃO À UTILIZAÇÃO DESTA FUNÇÃO\n",
    "# DEMASIADAS QUERIES SEGUIDAS PODEM LEVAR A BLOQUEIO POR PARTE DO SERVIDOR\n",
    "# EM PRINCÍPIO O MÓDULO ENTREZ ESTÁ PREPARADO PARA LIDAR COM ISSO MAS CONVÉM TER SEMPRE CUIDADO\n",
    "\n",
    "def lit_search(email, term,db = 'pubmed',save = 'N',ext='txt'):\n",
    "\n",
    "    # TODO Adicionar indicações para fazer o print e elencar a lista de resultados\n",
    "    # TODO Adicionar documentação\n",
    "\n",
    "\n",
    "    # Importamos o módulo \n",
    "    from Bio import Entrez\n",
    "\n",
    "    # Definimos o email para os fins de pesquisa\n",
    "    Entrez.email = email\n",
    "    \n",
    "    \n",
    "\n",
    "    # Secção egquery que pode ser skipable\n",
    "\n",
    "    handle = Entrez.egquery(term=term)\n",
    "    egq_res = Entrez.read(handle)\n",
    "\n",
    "    for _ in egq_res['eGQueryResult']:\n",
    "        if db in _.values():\n",
    "            print('Resultados em \"pubmed\":',_['Count'])\n",
    "\n",
    "    # Sacar as IDs\n",
    "    handle      = Entrez.esearch(db=db,term=term, retmax=10)\n",
    "    esearch_res = Entrez.read(handle)\n",
    "\n",
    "    lista_ids = esearch_res['IdList']\n",
    "    print('Top 10 artigos ->',lista_ids) # Converter para uma lista de títulos mais à frente\n",
    "    \n",
    "    \n",
    "\n",
    "    # Sacar os abstracts\n",
    "    handle = Entrez.efetch(db=db,id=','.join(lista_ids),rettype='abstract',retmode='text')\n",
    "    fetch_res = handle.read()\n",
    "    \n",
    "    # Usar com print para já, para não estar a bagunçar demasiado.\n",
    "    # Perceber como se pode implementar a escrita de ficheiros para ser mais fácil de mastigar os resultados.\n",
    "\n",
    "    # NÃO FUNCIONA NO GITHUB / LIVECODING\n",
    "    # ADICIONAR PARAMETRO save = 'Y' SE SE PRETENDER GUARDAR FICHEIRO \n",
    "    \n",
    "    if save.upper() == 'Y':\n",
    "        with open(term+'.'+ext , 'w') as _:\n",
    "            _.write(fetch_res)\n",
    "\n",
    "    handle.close()\n",
    "\n",
    "    return fetch_res"
   ]
  },
  {
   "cell_type": "code",
   "execution_count": 14,
   "metadata": {},
   "outputs": [
    {
     "name": "stdout",
     "output_type": "stream",
     "text": [
      "Resultados em \"pubmed\": 1\n",
      "Top 10 artigos -> ['8930070']\n"
     ]
    }
   ],
   "source": [
    "termo = 'hla-dqa1 hla-dqa2 hla-dqb'\n",
    "email = 'email'\n",
    "teste = lit_search(email, termo)"
   ]
  },
  {
   "cell_type": "code",
   "execution_count": 15,
   "metadata": {},
   "outputs": [
    {
     "name": "stdout",
     "output_type": "stream",
     "text": [
      "1. Anim Genet. 1996 Oct;27(5):305-12. doi: 10.1111/j.1365-2052.1996.tb00974.x.\n",
      "\n",
      "Polymorphism at the ovine major histocompatibility complex class II loci.\n",
      "\n",
      "Escayg AP(1), Hickford JG, Montgomery GW, Dodds KG, Bullock DW.\n",
      "\n",
      "Author information:\n",
      "(1)Department of Animal and Veterinary Sciences, Lincoln University, Canterbury, \n",
      "New Zealand.\n",
      "\n",
      "Southern hybridization analysis of the ovine major histocompatibility complex \n",
      "(MHC) (MhcOvar) class II region, using sheep-specific probes for the DQA1, DQA2, \n",
      "DQB and DRA loci, has revealed extensive polymorphism. DQA1 and DQA2 had eight \n",
      "and 16 alleles respectively, DQB had six and DRA had three alleles. Little \n",
      "information was derived from the DRB locus owing to extensive \n",
      "cross-hybridization between the DRB probe and the DQB locus. Differences in \n",
      "allele frequency between breeds were revealed. At the DQA1 locus a null allele \n",
      "(DQA1-N) was observed with a frequency of between 27% and 45%, making this the \n",
      "most common DQA1 allele in all breeds examined. The frequency of DQA1-N \n",
      "homozygotes was between 11% and 18%, raising questions as to the functional \n",
      "significance of the DQA1 gene. Linkage analysis between the DQA1, DQA2, DQB and \n",
      "DRA loci did not reveal any recombination.\n",
      "\n",
      "DOI: 10.1111/j.1365-2052.1996.tb00974.x\n",
      "PMID: 8930070 [Indexed for MEDLINE]\n"
     ]
    }
   ],
   "source": [
    "print(teste)"
   ]
  }
 ],
 "metadata": {
  "kernelspec": {
   "display_name": "Python 3",
   "language": "python",
   "name": "python3"
  },
  "language_info": {
   "codemirror_mode": {
    "name": "ipython",
    "version": 3
   },
   "file_extension": ".py",
   "mimetype": "text/x-python",
   "name": "python",
   "nbconvert_exporter": "python",
   "pygments_lexer": "ipython3",
   "version": "3.11.5"
  }
 },
 "nbformat": 4,
 "nbformat_minor": 2
}
