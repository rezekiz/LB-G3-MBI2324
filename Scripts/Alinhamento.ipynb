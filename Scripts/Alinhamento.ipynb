{
 "cells": [
  {
   "cell_type": "markdown",
   "metadata": {},
   "source": [
    "### Alinhamento Múltiplo com ClustalW: \n",
    "\n",
    "**Desenvolvido por Mariana**"
   ]
  },
  {
   "cell_type": "markdown",
   "metadata": {},
   "source": [
    "Para fazer o alinhamento múltiplo recorreu-se a uma função que utiliza o BioPython. Neste caso, a ferramenta escolhida para realizar o alinhamento é o **ClustalW**, e a implementação é realizada por meio da classe ClustalwCommandline do módulo Bio.Align.Applications. A função recebe como parâmetro o ficheiro guardado previamente que contém a sequências de proteína desejada no formato FASTA."
   ]
  },
  {
   "cell_type": "code",
   "execution_count": null,
   "metadata": {},
   "outputs": [],
   "source": [
    "from Bio.Align.Applications import ClustalwCommandline\n",
    "\n",
    "#Ficheiro com sequências de proteínas em formato fasta\n",
    "ficheiro = ''\n",
    "\n",
    "#Faz alinhamento múltiplo\n",
    "clustalw_cline = ClustalwCommandline(\"clustalw2\", infine = ficheiro)\n"
   ]
  },
  {
   "cell_type": "code",
   "execution_count": null,
   "metadata": {},
   "outputs": [],
   "source": [
    "from Bio import AlignIO\n",
    "\n",
    "clustalalign = AlignIO.read(\"ficheiro alinhamento.aln\", \"clustal\")\n",
    "\n",
    "print(clustalalign)"
   ]
  },
  {
   "cell_type": "markdown",
   "metadata": {},
   "source": [
    "### Gerar árvore filogenética"
   ]
  },
  {
   "cell_type": "markdown",
   "metadata": {},
   "source": [
    "A função apresentada utiliza a biblioteca BioPython para criar e visualizar uma representação gráfica de uma árvore filogenética através o módulo Phylo do BioPython que lê o ficheiro gerado através do código anterior, no formato Newick."
   ]
  },
  {
   "cell_type": "code",
   "execution_count": null,
   "metadata": {},
   "outputs": [],
   "source": [
    "from Bio import Phylo\n",
    "\n",
    "tree = Phylo.read(\"ficheiro alinhamento.dnd\", \"newick\")\n",
    "\n",
    "Phylo.draw_ascii(tree)"
   ]
  }
 ],
 "metadata": {
  "kernelspec": {
   "display_name": "Python 3",
   "language": "python",
   "name": "python3"
  },
  "language_info": {
   "codemirror_mode": {
    "name": "ipython",
    "version": 3
   },
   "file_extension": ".py",
   "mimetype": "text/x-python",
   "name": "python",
   "nbconvert_exporter": "python",
   "pygments_lexer": "ipython3",
   "version": "3.10.11"
  }
 },
 "nbformat": 4,
 "nbformat_minor": 2
}
