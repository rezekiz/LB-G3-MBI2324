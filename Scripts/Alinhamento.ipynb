{
 "cells": [
  {
   "cell_type": "code",
   "execution_count": null,
   "metadata": {},
   "outputs": [],
   "source": [
    "from Bio import AlignIO\n",
    "from Bio.Seq import Seq\n",
    "from Bio.SeqRecord import SeqRecord\n",
    "from Bio.Align import MultipleSeqAlignment\n",
    "\n",
    "alinhamento = AlignIO.parse(\"ficheiro\", \"tipo ficheiro\")\n",
    "\n",
    "print(alinhamento)\n",
    "\n",
    "for align in alinhamento:\n",
    "    print(align)\n",
    "\n",
    "for align in alinhamento:\n",
    "\n",
    "#comprimento alinhamento\n",
    "print(alinhamento.get_alignment_length())"
   ]
  }
 ],
 "metadata": {
  "language_info": {
   "name": "python"
  }
 },
 "nbformat": 4,
 "nbformat_minor": 2
}
