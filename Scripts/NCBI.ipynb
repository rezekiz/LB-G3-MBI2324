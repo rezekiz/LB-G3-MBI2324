{
 "cells": [
  {
   "cell_type": "markdown",
   "id": "12a1543d",
   "metadata": {},
   "source": [
    "# Análise da sequência e das features presentes no NCBI"
   ]
  },
  {
   "cell_type": "markdown",
   "id": "a74c9a95",
   "metadata": {},
   "source": [
    "* Aceder ao NCBI e guardar os ficheiros correspondentes aos genes escolhidos"
   ]
  },
  {
   "cell_type": "code",
   "execution_count": 3,
   "id": "b8551b7f",
   "metadata": {},
   "outputs": [],
   "source": [
    "def guardar_ficheiro(email, basedados, id_gene, nome_ficheiro):\n",
    "    \n",
    "    import os\n",
    "    from Bio import SeqIO\n",
    "    from Bio import Entrez\n",
    "\n",
    "    Entrez.email = email\n",
    "    \n",
    "    filename = nome_ficheiro\n",
    "\n",
    "    if not os.path.isfile(filename):\n",
    "        net_handle = Entrez.efetch( db = basedados, id = id_gene, rettype=\"gb\", retmode=\"text\")\n",
    "        out_handle = open(filename, \"w\")\n",
    "        out_handle.write(net_handle.read())\n",
    "        out_handle.close()\n",
    "        net_handle.close()\n",
    "        diretoria = os.getcwd()\n",
    "        print(\"O ficheiro foi guardado com sucesso na seguinte diretoria:\", diretoria)\n",
    "\n",
    "    return "
   ]
  },
  {
   "cell_type": "markdown",
   "id": "1ff7cc94",
   "metadata": {},
   "source": [
    "* Análise do ficheiro"
   ]
  },
  {
   "cell_type": "code",
   "execution_count": 1,
   "id": "5bc142cc",
   "metadata": {},
   "outputs": [],
   "source": [
    "def parsing(nome_ficheiro):\n",
    "\n",
    "    from Bio import SeqIO\n",
    "    \n",
    "    record = SeqIO.read(nome_ficheiro, \"genbank\")\n",
    "\n",
    "    print(\"ID do gene:\", record.id)\n",
    "\n",
    "    print(\"Nome do gene:\", record.name)\n",
    "\n",
    "    print(\"Descrição do gene\", record.description)\n",
    "\n",
    "    print(\"Comprimento da sequência:\", len(record.seq), \"bp\")\n",
    "\n",
    "    return"
   ]
  },
  {
   "cell_type": "markdown",
   "id": "ca87c8a4",
   "metadata": {},
   "source": [
    "* Verificar as anotações correspondentes aos genes de interesse"
   ]
  },
  {
   "cell_type": "code",
   "execution_count": 22,
   "id": "9971b144",
   "metadata": {},
   "outputs": [],
   "source": [
    "def anot(nome_ficheiro):\n",
    "    \n",
    "    from Bio import SeqIO\n",
    "    \n",
    "    record = SeqIO.read(nome_ficheiro, \"genbank\")\n",
    "\n",
    "    print(\"Quantidade de anotações:\", len(record.annotations))\n",
    "\n",
    "    print()\n",
    "    \n",
    "    print(\"Lista de anotações:\")\n",
    "    \n",
    "    for anotacao in record.annotations:\n",
    "        print(anotacao, \"->\", record.annotations[anotacao])\n",
    "\n",
    "    return   \n"
   ]
  },
  {
   "cell_type": "markdown",
   "id": "d22a8cbb",
   "metadata": {},
   "source": [
    "* Verificar e analisar a informação complementar fornecida pela lista de *features* e seus *qualifiers*"
   ]
  },
  {
   "cell_type": "code",
   "execution_count": 58,
   "id": "a6861a81",
   "metadata": {},
   "outputs": [],
   "source": [
    "def features_qualifiers(nome_ficheiro):\n",
    "    \n",
    "    from Bio import SeqIO\n",
    "    \n",
    "    record = SeqIO.read(nome_ficheiro, \"genbank\")\n",
    "    \n",
    "    print(\"Quantidade de features:\", len(record.features))\n",
    "\n",
    "    for feature in record.features:\n",
    "        print(feature)\n",
    "    return\n"
   ]
  }
 ],
 "metadata": {
  "kernelspec": {
   "display_name": "Python 3",
   "language": "python",
   "name": "python3"
  },
  "language_info": {
   "codemirror_mode": {
    "name": "ipython",
    "version": 3
   },
   "file_extension": ".py",
   "mimetype": "text/x-python",
   "name": "python",
   "nbconvert_exporter": "python",
   "pygments_lexer": "ipython3",
   "version": "3.10.11"
  }
 },
 "nbformat": 4,
 "nbformat_minor": 5
}
