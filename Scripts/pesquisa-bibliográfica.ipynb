{
 "cells": [
  {
   "cell_type": "code",
   "execution_count": 83,
   "metadata": {},
   "outputs": [],
   "source": [
    "# ATENÇÃO À UTILIZAÇÃO DESTA FUNÇÃO\n",
    "# DEMASIADAS QUERIES SEGUIDAS PODEM LEVAR A BLOQUEIO POR PARTE DO SERVIDOR\n",
    "# EM PRINCÍPIO O MÓDULO ENTREZ ESTÁ PREPARADO PARA LIDAR COM ISSO MAS CONVÉM TER SEMPRE CUIDADO\n",
    "\n",
    "def lit_search(email, term,db = 'pubmed',save = 'N',ext='.txt'):\n",
    "    import os\n",
    "\n",
    "    # TODO Adicionar indicações para fazer o print e elencar a lista de resultados\n",
    "    # TODO Adicionar documentação\n",
    "\n",
    "\n",
    "    # Importamos o módulo \n",
    "    from Bio import Entrez\n",
    "\n",
    "    # Definimos o email para os fins de pesquisa\n",
    "    Entrez.email = email\n",
    "    \n",
    "    \n",
    "\n",
    "    # Secção egquery que pode ser skipable\n",
    "\n",
    "    handle = Entrez.egquery(term=term)\n",
    "    egq_res = Entrez.read(handle)\n",
    "\n",
    "    for _ in egq_res['eGQueryResult']:\n",
    "        if db in _.values():\n",
    "            print('Resultados em \"pubmed\":',_['Count'])\n",
    "\n",
    "    # Sacar as IDs\n",
    "    handle      = Entrez.esearch(db=db,term=term, retmax=10)\n",
    "    esearch_res = Entrez.read(handle)\n",
    "\n",
    "    lista_ids = esearch_res['IdList']\n",
    "    print('Top 10 artigos ->',lista_ids) # Converter para uma lista de títulos mais à frente\n",
    "    \n",
    "    \n",
    "\n",
    "    # Sacar os abstracts\n",
    "    handle = Entrez.efetch(db=db,id=','.join(lista_ids),rettype='abstract',retmode='text')\n",
    "    fetch_res = handle.read()\n",
    "    \n",
    "    # Usar com print para já, para não estar a bagunçar demasiado.\n",
    "    # Perceber como se pode implementar a escrita de ficheiros para ser mais fácil de mastigar os resultados.\n",
    "\n",
    "    # NÃO FUNCIONA NO GITHUB / LIVECODING\n",
    "    # ADICIONAR PARAMETRO save = 'Y' SE SE PRETENDER GUARDAR FICHEIRO \n",
    "   \n",
    "    # Verifica a condição de gravação de output como ficheiro de texto\n",
    "    if save.upper() == 'Y':\n",
    "\n",
    "        # Verifica se existe pasta para output e cria-a caso não exista\n",
    "        cwd = os.getcwd()\n",
    "        outputdir = os.path.join(cwd,'lit-search-output')\n",
    "        if not os.path.exists(outputdir):\n",
    "            os.mkdir(outputdir)\n",
    "\n",
    "\n",
    "        # Muda o working directory para a pasta de output para gerar o ficheiro\n",
    "        os.chdir(outputdir)\n",
    "\n",
    "        # Gera o ficheiro           \n",
    "        with open(term+ext , 'w', encoding='utf-8') as _:\n",
    "            _.write(fetch_res)\n",
    "\n",
    "        # Retorna ao working directory anterior\n",
    "        os.chdir(cwd)\n",
    "\n",
    "    handle.close()\n",
    "\n",
    "    return fetch_res"
   ]
  },
  {
   "cell_type": "code",
   "execution_count": 84,
   "metadata": {},
   "outputs": [
    {
     "name": "stdout",
     "output_type": "stream",
     "text": [
      "Resultados em \"pubmed\": 0\n",
      "Top 10 artigos -> []\n"
     ]
    },
    {
     "data": {
      "text/plain": [
       "'Supplied+id+parameter+is+empty.\\n'"
      ]
     },
     "execution_count": 84,
     "metadata": {},
     "output_type": "execute_result"
    }
   ],
   "source": [
    "termos = ['hla-dq1 hla-dqa2 hla-dqb1','hla-dqa2 food allergy','hla-dqa2','hla-dqa2 hla-dqa1 related','hla-dqb1 hla-dba2 related','hla-dqa2 role']\n",
    "email = 'contact@ruisousa.me'\n",
    "\n",
    "# Teste pesado\n",
    "lit_search(email,'porque e que os profs desistiram para o chatgpt',save='y')"
   ]
  }
 ],
 "metadata": {
  "kernelspec": {
   "display_name": "Python 3",
   "language": "python",
   "name": "python3"
  },
  "language_info": {
   "codemirror_mode": {
    "name": "ipython",
    "version": 3
   },
   "file_extension": ".py",
   "mimetype": "text/x-python",
   "name": "python",
   "nbconvert_exporter": "python",
   "pygments_lexer": "ipython3",
   "version": "3.7.1"
  }
 },
 "nbformat": 4,
 "nbformat_minor": 2
}
