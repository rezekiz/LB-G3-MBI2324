{
 "cells": [
  {
   "cell_type": "code",
   "execution_count": 26,
   "metadata": {},
   "outputs": [],
   "source": [
    "\n",
    "def carregar_sequencia(filename):\n",
    "    from Bio import SeqIO\n",
    "    \n",
    "    # Lemos o ficheiro .fasta\n",
    "    seq_proteina = SeqIO.read(open(filename),format='fasta')\n",
    "\n",
    "    sp = seq_proteina.seq # Isolamos a sequência\n",
    "\n",
    "    return sp"
   ]
  },
  {
   "cell_type": "code",
   "execution_count": 27,
   "metadata": {},
   "outputs": [],
   "source": [
    "# Procedemos à contagem de aminoácidos:\n",
    "# Primeiro para a sequência traduzida e depois para o conjunto de sequências após a remoção de codões stop\n",
    "\n",
    "sp = carregar_sequencia('output\\\\UQL50880.fasta')\n",
    "\n",
    "def conta_aa(seq_prot):\n",
    "    # TODO colocar um dicionário bonitinho\n",
    "    from collections import Counter\n",
    "    contagem_aa = dict(Counter(seq_prot))\n",
    "    \n",
    "    return contagem_aa\n",
    "\n",
    "# conta_aa(sp)\n"
   ]
  },
  {
   "cell_type": "code",
   "execution_count": 29,
   "metadata": {},
   "outputs": [
    {
     "name": "stdout",
     "output_type": "stream",
     "text": [
      "ID P01906\n",
      "Sequência: MILNKALLLGALALTAVMSPCGGEDIVADHVASYGVNFYQSHGPSGQYTHEFDGDEEFYVDLETKETVWQLPMFSKFISFDPQSALRNMAVGKHTLEFMMRQSNSTAATNEVPEVTVFSKFPVTLGQPNTLICLVDNIFPPVVNITWLSNGHSVTEGVSETSFLSKSDHSFFKISYLTFLPSADEIYDCKVEHWGLDEPLLKHWEPEIPAPMSELTETLVCALGLSVGLMGIVVGTVFIIQGLRSVGASRHQGLL\n",
      "Tamanho da sequência: 255 bp\n",
      "Nome: DQA2_HUMAN\n",
      "Descrição: RecName: Full=HLA class II histocompatibility antigen, DQ alpha 2 chain; AltName: Full=DX alpha chain; AltName: Full=HLA class II histocompatibility antigen, DQ(6) alpha chain; AltName: Full=HLA-DQA1; AltName: Full=MHC class II DQA2; Flags: Precursor;\n",
      "Taxonomia: ['Eukaryota', 'Metazoa', 'Chordata', 'Craniata', 'Vertebrata', 'Euteleostomi', 'Mammalia', 'Eutheria', 'Euarchontoglires', 'Primates', 'Haplorrhini', 'Catarrhini', 'Hominidae', 'Homo']\n",
      "Organismo: Homo sapiens (Human)\n",
      "Keywords: ['Adaptive immunity', 'Cell membrane', 'Disulfide bond', 'Endoplasmic reticulum', 'Endosome', 'Glycoprotein', 'Golgi apparatus', 'Immunity', 'Lysosome', 'Membrane', 'MHC II', 'Reference proteome', 'Signal', 'Transmembrane', 'Transmembrane helix']\n"
     ]
    }
   ],
   "source": [
    "swiss_id = 'P01906' # Encontra-se o ID no ficheiro FASTA \n",
    "\n",
    "def swiss_prot_scan(swiss_id):\n",
    "    from Bio import SeqIO\n",
    "    from Bio import ExPASy\n",
    "    # Efetuamos uma pesquisa na base de dados SwissProt \n",
    "    handle = ExPASy.get_sprot_raw(swiss_id) # Encontramos o ID ao ler o ficheiro fasta\n",
    "    sr = SeqIO.read(handle, \"swiss\")\n",
    "    print(\n",
    "        f'ID {sr.id}',\n",
    "        f'Sequência: {sr.seq}',\n",
    "        f'Tamanho da sequência: {len(sr.seq)} bp',\n",
    "        f'Nome: {sr.name}',\n",
    "        f'Descrição: {sr.description}',\n",
    "        f'Taxonomia: {sr.annotations[\"taxonomy\"]}',\n",
    "        f'Organismo: {sr.annotations[\"organism\"]}',\n",
    "        f'Keywords: {sr.annotations[\"keywords\"]}',\n",
    "        sep = '\\n')\n",
    "\n",
    "swiss_prot_scan('P01906')"
   ]
  },
  {
   "cell_type": "code",
   "execution_count": 30,
   "metadata": {},
   "outputs": [],
   "source": [
    "def analise_blast(email, sequencia_proteina, filename, lim = None):\n",
    "    import os\n",
    "    from Bio.Blast import NCBIWWW\n",
    "    \n",
    "    NCBIWWW.email = email\n",
    "\n",
    "    \n",
    "    \n",
    "    # Verifica se já existe um ficheiro XML para os resultados do BLAST. Ignora a pesquisa caso já exista.\n",
    "    # Para poupar tempo.\n",
    "    # Se o ficheiro já existir executa o parsing do ficheiro.\n",
    "\n",
    "    if '.xml' not in filename:\n",
    "        filename = filename + '.xml'\n",
    "\n",
    "    if os.path.isfile(filename): \n",
    "        \n",
    "        blast_parse(filename,lim)\n",
    "\n",
    "    else: \n",
    "    # Executa o BLAST da Proteína\n",
    "        handle = NCBIWWW.qblast('blastp','swissprot',sequencia_proteina.seq)\n",
    "\n",
    "        with open(filename, 'w') as _:\n",
    "            _.write(handle.read())\n",
    "        \n",
    "        handle.close()\n",
    "\n",
    "# analise_blast('pg21019@alunos.uminho.pt', seq_proteina,'blast_results.xml')"
   ]
  },
  {
   "cell_type": "code",
   "execution_count": 31,
   "metadata": {},
   "outputs": [],
   "source": [
    "filename = 'blast_results.xml'\n",
    "\n",
    "def blast_parse(filename, lim = None):\n",
    "    \n",
    "    from Bio.Blast import NCBIXML\n",
    "\n",
    "    handle = open(filename)\n",
    "    blast_res = NCBIXML.parse(handle)\n",
    "    blast_records = list(blast_res)\n",
    "\n",
    "    num = 1\n",
    "    for record in blast_records:\n",
    "\n",
    "        if lim == None: lim = len(record.alignments)    \n",
    "\n",
    "        for aligment in record.alignments[0:lim]:\n",
    "            #print(aligment)\n",
    "            \n",
    "            for hsp in aligment.hsps:\n",
    "                #print(hsp)\n",
    "                \n",
    "                if hsp.expect < 0.05:\n",
    "                    print('****Alinhamento {} ****'.format(num))\n",
    "                    print('Sequência:',aligment.title)\n",
    "                    print('Tamanho da Sequência:',aligment.length)\n",
    "                    print('e-value:',hsp.expect)\n",
    "                    print(hsp.query[0:40]+'...')\n",
    "                    print(hsp.match[0:40]+'...')\n",
    "                    print(hsp.sbjct[0:40]+'...')\n",
    "                    print()\n",
    "                    num += 1    \n"
   ]
  }
 ],
 "metadata": {
  "kernelspec": {
   "display_name": "Python 3",
   "language": "python",
   "name": "python3"
  },
  "language_info": {
   "codemirror_mode": {
    "name": "ipython",
    "version": 3
   },
   "file_extension": ".py",
   "mimetype": "text/x-python",
   "name": "python",
   "nbconvert_exporter": "python",
   "pygments_lexer": "ipython3",
   "version": "3.7.1"
  }
 },
 "nbformat": 4,
 "nbformat_minor": 2
}
