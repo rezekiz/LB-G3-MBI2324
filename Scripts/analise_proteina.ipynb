{
 "cells": [
  {
   "cell_type": "code",
   "execution_count": 2,
   "metadata": {},
   "outputs": [],
   "source": [
    "\n",
    "def carregar_sequencia(filename):\n",
    "    from Bio import SeqIO\n",
    "\n",
    "    try:    \n",
    "        # Lemos o ficheiro .fasta\n",
    "        seq_proteina = SeqIO.read(open(filename),format='fasta')\n",
    "\n",
    "        sp = seq_proteina.seq # Isolamos a sequência\n",
    "        return sp\n",
    "    \n",
    "    except FileNotFoundError:\n",
    "        print('Ficheiro FASTA não existe. Apresentar um ficheiro FASTA válido.')\n",
    "\n",
    "\n"
   ]
  },
  {
   "cell_type": "code",
   "execution_count": 3,
   "metadata": {},
   "outputs": [],
   "source": [
    "# Procedemos à contagem de aminoácidos:\n",
    "# Primeiro para a sequência traduzida e depois para o conjunto de sequências após a remoção de codões stop\n",
    "\n",
    "def conta_aa(fastafile):\n",
    "    # TODO colocar um dicionário bonitinho\n",
    "    from collections import Counter\n",
    "    seq_prot = carregar_sequencia(fastafile)\n",
    "    contagem_aa = dict(Counter(seq_prot))\n",
    "    \n",
    "    return contagem_aa\n",
    "\n",
    "# conta_aa(sp)\n"
   ]
  },
  {
   "cell_type": "code",
   "execution_count": 4,
   "metadata": {},
   "outputs": [],
   "source": [
    "filename = 'blast_results.xml'\n",
    "\n",
    "def blast_parse(filename, lim = None, ethreshold = 0.05):\n",
    "    \n",
    "    from Bio.Blast import NCBIXML\n",
    "\n",
    "    handle = open(filename)\n",
    "    blast_res = NCBIXML.parse(handle)\n",
    "    blast_records = list(blast_res)\n",
    "\n",
    "    num = 1\n",
    "    for record in blast_records:\n",
    "\n",
    "        if lim == None: lim = len(record.alignments)    \n",
    "\n",
    "        for aligment in record.alignments[0:lim]:\n",
    "            #print(aligment)\n",
    "            \n",
    "            for hsp in aligment.hsps:\n",
    "                #print(hsp)\n",
    "                \n",
    "                if hsp.expect < ethreshold:\n",
    "                    print('****Alinhamento {} ****'.format(num))\n",
    "                    print('Sequência:',aligment.title)\n",
    "                    print('Tamanho da Sequência:',aligment.length)\n",
    "                    print('e-value:',hsp.expect)\n",
    "                    print(hsp.query[0:40]+'...')\n",
    "                    print(hsp.match[0:40]+'...')\n",
    "                    print(hsp.sbjct[0:40]+'...')\n",
    "                    print()\n",
    "                    num += 1    \n"
   ]
  },
  {
   "cell_type": "code",
   "execution_count": 22,
   "metadata": {},
   "outputs": [],
   "source": [
    "def analise_blast(email, fastafile, xmlfile, lim = None, ethreshold = 0.05):\n",
    "    '''\n",
    "    Função que carrega uma sequência de aminoácidos a partir de ficheiro fasta e realiza\n",
    "    uma análise blast caso esta ainda não esteja feita ou então faz parse de blast records\n",
    "    até ao limite definido.\n",
    "\n",
    "    email : str\n",
    "        parâmetro de email para utilização do serviço NCBIWWW\n",
    "\n",
    "    fastafile : str\n",
    "        caminho para ficheiro fasta com a sequência da proteína\n",
    "\n",
    "    xmlfile : str\n",
    "        caminho para o ficheiro XML com blastrecords caso já esteja previamente realizada\n",
    "\n",
    "    lim : int\n",
    "        limite de resultados que queremos visualizar dos resultados do blast\n",
    "        por defeito não está definido\n",
    "\n",
    "    e-threshold : float\n",
    "        valor-limite de e-value a que queremos delimitar a nossa análise blast\n",
    "        por defeito está definido 0.05\n",
    "    \n",
    "    '''\n",
    "    import os\n",
    "    from Bio.Blast import NCBIWWW\n",
    "    \n",
    "    NCBIWWW.email = email\n",
    "\n",
    "    if not fastafile.endswith('.fasta'): raise ValueError('Ficheiro .fasta inválido')\n",
    "\n",
    "    # Muda para a pasta da função para as operações\n",
    "        \n",
    "    cwd = os.getcwd()\n",
    "    outputdir = os.path.join(cwd,'output')\n",
    "    os.chdir(outputdir)\n",
    "                \n",
    "\n",
    "    try:\n",
    "        sequencia_proteina = carregar_sequencia(fastafile)\n",
    "    except FileNotFoundError: \n",
    "        print('Ficheiro FASTA não existe. Apresentar um ficheiro FASTA válido.')\n",
    "        print('Sugestão: Realizar um pesquisa_ncbi() com o ID da proteína na base de dados protein')\n",
    "    \n",
    "    # Verifica se já existe um ficheiro XML para os resultados do BLAST. Ignora a pesquisa caso já exista.\n",
    "    # Para poupar tempo.\n",
    "    # Se o ficheiro já existir executa o parsing do ficheiro.\n",
    "\n",
    "    if not xmlfile.endswith('.xml'):\n",
    "        xmlfile = xmlfile + '.xml'\n",
    "\n",
    "    # Verifica a existência do ficheiro\n",
    "\n",
    "    if os.path.isfile(xmlfile): \n",
    "        \n",
    "        \n",
    "        blast_parse(xmlfile,lim, ethreshold)\n",
    "        os.chdir(cwd)\n",
    "        \n",
    "    \n",
    "    else: \n",
    "    # Executa o BLAST da Proteína\n",
    "        handle = NCBIWWW.qblast('blastp','swissprot',sequencia_proteina)\n",
    "\n",
    "        # TODO Converter o savefile numa sub-função\n",
    "        # Verifica se existe pasta para output e cria-a caso não exista\n",
    "        cwd = os.getcwd()\n",
    "        outputdir = os.path.join(cwd,'output')\n",
    "        if not os.path.exists(outputdir):\n",
    "            os.mkdir(outputdir)\n",
    "\n",
    "        # Muda o working directory para a pasta de output para gerar o ficheiro\n",
    "        os.chdir(outputdir)\n",
    "\n",
    "        with open(xmlfile, 'w') as _:\n",
    "            _.write(handle.read())\n",
    "\n",
    "        blast_parse(xmlfile,lim,ethreshold)\n",
    "\n",
    "        # Retorna ao working directory anterior\n",
    "        os.chdir(cwd)\n",
    "        \n",
    "\n",
    "        \n",
    "\n",
    "        print(f'Ficheiro {xmlfile} gravado. Para realizar um blast parse ir buscar o ficheiro à pasta output')\n",
    "        \n",
    "        handle.close()"
   ]
  },
  {
   "cell_type": "code",
   "execution_count": 21,
   "metadata": {},
   "outputs": [
    {
     "name": "stdout",
     "output_type": "stream",
     "text": [
      "existe!\n",
      "****Alinhamento 1 ****\n",
      "Sequência: sp|P01906.2| RecName: Full=HLA class II histocompatibility antigen, DQ alpha 2 chain; AltName: Full=DX alpha chain; AltName: Full=HLA class II histocompatibility antigen, DQ(6) alpha chain; AltName: Full=HLA-DQA1; AltName: Full=MHC class II DQA2; Flags: Precursor [Homo sapiens]\n",
      "Tamanho da Sequência: 255\n",
      "e-value: 0.0\n",
      "MILNKALLLGALALTAVMSPCGGEDIVADHVASYGVNFYQ...\n",
      "MILNKALLLGALALTAVMSPCGGEDIVADHVASYGVNFYQ...\n",
      "MILNKALLLGALALTAVMSPCGGEDIVADHVASYGVNFYQ...\n",
      "\n",
      "c:\\Users\\rsous\\OneDrive\\Ambiente de Trabalho\\MBioinf\\mbi2324-grupo-3-labs-bioinf\\Scripts\n"
     ]
    }
   ],
   "source": [
    "analise_blast('pg21019@alunos.uminho.pt','UQL50880.fasta','teste.xml',1)"
   ]
  },
  {
   "cell_type": "code",
   "execution_count": 12,
   "metadata": {},
   "outputs": [],
   "source": [
    "import os\n",
    "os.chdir('c:\\\\Users\\\\rsous\\\\OneDrive\\\\Ambiente de Trabalho\\\\MBioinf\\\\mbi2324-grupo-3-labs-bioinf\\\\Scripts')"
   ]
  },
  {
   "cell_type": "code",
   "execution_count": 13,
   "metadata": {},
   "outputs": [
    {
     "data": {
      "text/plain": [
       "'c:\\\\Users\\\\rsous\\\\OneDrive\\\\Ambiente de Trabalho\\\\MBioinf\\\\mbi2324-grupo-3-labs-bioinf\\\\Scripts'"
      ]
     },
     "execution_count": 13,
     "metadata": {},
     "output_type": "execute_result"
    }
   ],
   "source": [
    "os.getcwd()"
   ]
  },
  {
   "cell_type": "code",
   "execution_count": 8,
   "metadata": {},
   "outputs": [
    {
     "data": {
      "text/plain": [
       "True"
      ]
     },
     "execution_count": 8,
     "metadata": {},
     "output_type": "execute_result"
    }
   ],
   "source": [
    "import os\n",
    "os.path.isfile('output\\\\'+'teste.xml')"
   ]
  },
  {
   "cell_type": "code",
   "execution_count": null,
   "metadata": {},
   "outputs": [
    {
     "name": "stdout",
     "output_type": "stream",
     "text": [
      "ID P01906\n",
      "Sequência: MILNKALLLGALALTAVMSPCGGEDIVADHVASYGVNFYQSHGPSGQYTHEFDGDEEFYVDLETKETVWQLPMFSKFISFDPQSALRNMAVGKHTLEFMMRQSNSTAATNEVPEVTVFSKFPVTLGQPNTLICLVDNIFPPVVNITWLSNGHSVTEGVSETSFLSKSDHSFFKISYLTFLPSADEIYDCKVEHWGLDEPLLKHWEPEIPAPMSELTETLVCALGLSVGLMGIVVGTVFIIQGLRSVGASRHQGLL\n",
      "Tamanho da sequência: 255 bp\n",
      "Nome: DQA2_HUMAN\n",
      "Descrição: RecName: Full=HLA class II histocompatibility antigen, DQ alpha 2 chain; AltName: Full=DX alpha chain; AltName: Full=HLA class II histocompatibility antigen, DQ(6) alpha chain; AltName: Full=HLA-DQA1; AltName: Full=MHC class II DQA2; Flags: Precursor;\n",
      "Taxonomia: ['Eukaryota', 'Metazoa', 'Chordata', 'Craniata', 'Vertebrata', 'Euteleostomi', 'Mammalia', 'Eutheria', 'Euarchontoglires', 'Primates', 'Haplorrhini', 'Catarrhini', 'Hominidae', 'Homo']\n",
      "Organismo: Homo sapiens (Human)\n",
      "Keywords: ['Adaptive immunity', 'Cell membrane', 'Disulfide bond', 'Endoplasmic reticulum', 'Endosome', 'Glycoprotein', 'Golgi apparatus', 'Immunity', 'Lysosome', 'Membrane', 'MHC II', 'Reference proteome', 'Signal', 'Transmembrane', 'Transmembrane helix']\n"
     ]
    }
   ],
   "source": [
    "swiss_id = 'P01906' # Encontra-se o ID no ficheiro FASTA \n",
    "\n",
    "# TODO integrar esta função na função de análise\n",
    "\n",
    "def swiss_prot_scan(swiss_id):\n",
    "    from Bio import SeqIO\n",
    "    from Bio import ExPASy\n",
    "    # Efetuamos uma pesquisa na base de dados SwissProt \n",
    "    handle = ExPASy.get_sprot_raw(swiss_id) # Encontramos o ID ao ler o ficheiro fasta\n",
    "    sr = SeqIO.read(handle, \"swiss\")\n",
    "    print(\n",
    "        f'ID {sr.id}',\n",
    "        f'Sequência: {sr.seq}',\n",
    "        f'Tamanho da sequência: {len(sr.seq)} bp',\n",
    "        f'Nome: {sr.name}',\n",
    "        f'Descrição: {sr.description}',\n",
    "        f'Taxonomia: {sr.annotations[\"taxonomy\"]}',\n",
    "        f'Organismo: {sr.annotations[\"organism\"]}',\n",
    "        f'Keywords: {sr.annotations[\"keywords\"]}',\n",
    "        sep = '\\n')\n",
    "\n",
    "swiss_prot_scan('P01906')"
   ]
  }
 ],
 "metadata": {
  "kernelspec": {
   "display_name": "Python 3",
   "language": "python",
   "name": "python3"
  },
  "language_info": {
   "codemirror_mode": {
    "name": "ipython",
    "version": 3
   },
   "file_extension": ".py",
   "mimetype": "text/x-python",
   "name": "python",
   "nbconvert_exporter": "python",
   "pygments_lexer": "ipython3",
   "version": "3.7.1"
  }
 },
 "nbformat": 4,
 "nbformat_minor": 2
}
