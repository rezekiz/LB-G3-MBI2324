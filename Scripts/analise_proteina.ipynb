{
 "cells": [
  {
   "cell_type": "code",
   "execution_count": 2,
   "metadata": {},
   "outputs": [],
   "source": [
    "\n",
    "def carregar_sequencia(filename):\n",
    "    from Bio import SeqIO\n",
    "\n",
    "    try:    \n",
    "        # Lemos o ficheiro .fasta\n",
    "        seq_proteina = SeqIO.read(open(filename),format='fasta')\n",
    "\n",
    "        sp = seq_proteina.seq # Isolamos a sequência\n",
    "        return sp\n",
    "    \n",
    "    except FileNotFoundError:\n",
    "        print('Ficheiro FASTA não existe. Apresentar um ficheiro FASTA válido.')\n",
    "\n",
    "\n"
   ]
  },
  {
   "cell_type": "code",
   "execution_count": 3,
   "metadata": {},
   "outputs": [],
   "source": [
    "# Procedemos à contagem de aminoácidos:\n",
    "# Primeiro para a sequência traduzida e depois para o conjunto de sequências após a remoção de codões stop\n",
    "\n",
    "def conta_aa(fastafile):\n",
    "    # TODO colocar um dicionário bonitinho\n",
    "    from collections import Counter\n",
    "    seq_prot = carregar_sequencia(fastafile)\n",
    "    contagem_aa = dict(Counter(seq_prot))\n",
    "    \n",
    "    return contagem_aa\n",
    "\n",
    "# conta_aa(sp)\n"
   ]
  },
  {
   "cell_type": "code",
   "execution_count": null,
   "metadata": {},
   "outputs": [
    {
     "name": "stdout",
     "output_type": "stream",
     "text": [
      "ID P01906\n",
      "Sequência: MILNKALLLGALALTAVMSPCGGEDIVADHVASYGVNFYQSHGPSGQYTHEFDGDEEFYVDLETKETVWQLPMFSKFISFDPQSALRNMAVGKHTLEFMMRQSNSTAATNEVPEVTVFSKFPVTLGQPNTLICLVDNIFPPVVNITWLSNGHSVTEGVSETSFLSKSDHSFFKISYLTFLPSADEIYDCKVEHWGLDEPLLKHWEPEIPAPMSELTETLVCALGLSVGLMGIVVGTVFIIQGLRSVGASRHQGLL\n",
      "Tamanho da sequência: 255 bp\n",
      "Nome: DQA2_HUMAN\n",
      "Descrição: RecName: Full=HLA class II histocompatibility antigen, DQ alpha 2 chain; AltName: Full=DX alpha chain; AltName: Full=HLA class II histocompatibility antigen, DQ(6) alpha chain; AltName: Full=HLA-DQA1; AltName: Full=MHC class II DQA2; Flags: Precursor;\n",
      "Taxonomia: ['Eukaryota', 'Metazoa', 'Chordata', 'Craniata', 'Vertebrata', 'Euteleostomi', 'Mammalia', 'Eutheria', 'Euarchontoglires', 'Primates', 'Haplorrhini', 'Catarrhini', 'Hominidae', 'Homo']\n",
      "Organismo: Homo sapiens (Human)\n",
      "Keywords: ['Adaptive immunity', 'Cell membrane', 'Disulfide bond', 'Endoplasmic reticulum', 'Endosome', 'Glycoprotein', 'Golgi apparatus', 'Immunity', 'Lysosome', 'Membrane', 'MHC II', 'Reference proteome', 'Signal', 'Transmembrane', 'Transmembrane helix']\n"
     ]
    }
   ],
   "source": [
    "swiss_id = 'P01906' # Encontra-se o ID no ficheiro FASTA \n",
    "\n",
    "# TODO integrar esta função na função de análise\n",
    "\n",
    "def swiss_prot_scan(swiss_id):\n",
    "    from Bio import SeqIO\n",
    "    from Bio import ExPASy\n",
    "    # Efetuamos uma pesquisa na base de dados SwissProt \n",
    "    handle = ExPASy.get_sprot_raw(swiss_id) # Encontramos o ID ao ler o ficheiro fasta\n",
    "    sr = SeqIO.read(handle, \"swiss\")\n",
    "    print(\n",
    "        f'ID {sr.id}',\n",
    "        f'Sequência: {sr.seq}',\n",
    "        f'Tamanho da sequência: {len(sr.seq)} bp',\n",
    "        f'Nome: {sr.name}',\n",
    "        f'Descrição: {sr.description}',\n",
    "        f'Taxonomia: {sr.annotations[\"taxonomy\"]}',\n",
    "        f'Organismo: {sr.annotations[\"organism\"]}',\n",
    "        f'Keywords: {sr.annotations[\"keywords\"]}',\n",
    "        sep = '\\n')\n",
    "\n",
    "swiss_prot_scan('P01906')"
   ]
  }
 ],
 "metadata": {
  "kernelspec": {
   "display_name": "Python 3",
   "language": "python",
   "name": "python3"
  },
  "language_info": {
   "codemirror_mode": {
    "name": "ipython",
    "version": 3
   },
   "file_extension": ".py",
   "mimetype": "text/x-python",
   "name": "python",
   "nbconvert_exporter": "python",
   "pygments_lexer": "ipython3",
   "version": "3.7.1"
  }
 },
 "nbformat": 4,
 "nbformat_minor": 2
}
