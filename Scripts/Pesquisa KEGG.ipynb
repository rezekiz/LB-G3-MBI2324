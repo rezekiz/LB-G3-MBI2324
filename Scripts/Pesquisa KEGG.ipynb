{
 "cells": [
  {
   "cell_type": "code",
   "execution_count": null,
   "metadata": {},
   "outputs": [],
   "source": [
    "def get_kegg(ficheiro,organismo,idgene,displ = 'N'):\n",
    "    '''\n",
    "    Função que pesquisa na base de dados KEGG.\n",
    "\n",
    "    Na primeira versão vai ser preciso introduzir o ID do gene (consultar a base de dados gene, a função \n",
    "    pesquisa_ncbi pode ajudar aqui)\n",
    "\n",
    "    Referencial de IDs, etc: https://www.kegg.jp/kegg/rest/keggapi.html\n",
    "    \n",
    "    Numa segunda versão será implementada uma pesquisa com prompt com termo de pesquisa e confirmação se \n",
    "    é o gene pretendido para depois transferir o ficheiro relativo ao gene\n",
    "\n",
    "    '''\n",
    "    import os\n",
    "    from Bio.KEGG import REST\n",
    "    request = REST.kegg_get(organismo+':'+idgene)\n",
    "\n",
    "    if not ficheiro.endswith('.kegg'):\n",
    "        ficheiro = ficheiro+'.kegg'\n",
    "\n",
    "    if not os.path.isfile(ficheiro):\n",
    "        with open(ficheiro,'w',encoding='utf-8') as _:\n",
    "            _.write(request.read())\n",
    "    \n",
    "    if displ.upper() == 'Y':\n",
    "        read_kegg(ficheiro)\n",
    "\n",
    "def read_kegg(ficheiro):\n",
    "    handle = open(ficheiro)\n",
    "    for line in handle:\n",
    "        print(line)\n",
    "    handle.close()\n",
    "\n",
    "get_kegg('HLA-DQA2','hsa','3118','Y')"
   ]
  }
 ],
 "metadata": {
  "language_info": {
   "name": "python"
  }
 },
 "nbformat": 4,
 "nbformat_minor": 2
}
