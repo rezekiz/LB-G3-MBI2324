{
 "cells": [
  {
   "cell_type": "code",
   "execution_count": 4,
   "metadata": {},
   "outputs": [
    {
     "data": {
      "application/vnd.jupyter.widget-view+json": {
       "model_id": "fe9b937fa37e4201be7417416904cacc",
       "version_major": 2,
       "version_minor": 0
      },
      "text/plain": []
     },
     "metadata": {},
     "output_type": "display_data"
    }
   ],
   "source": [
    "from Bio.PDB import *\n",
    "import nglview as nv"
   ]
  },
  {
   "cell_type": "code",
   "execution_count": 5,
   "metadata": {},
   "outputs": [],
   "source": [
    "pdb_parser = PDBParser()"
   ]
  },
  {
   "cell_type": "code",
   "execution_count": 10,
   "metadata": {},
   "outputs": [
    {
     "name": "stderr",
     "output_type": "stream",
     "text": [
      "f:\\Python3\\Lib\\site-packages\\Bio\\PDB\\StructureBuilder.py:89: PDBConstructionWarning: WARNING: Chain A is discontinuous at line 12986.\n",
      "  warnings.warn(\n",
      "f:\\Python3\\Lib\\site-packages\\Bio\\PDB\\StructureBuilder.py:89: PDBConstructionWarning: WARNING: Chain B is discontinuous at line 12992.\n",
      "  warnings.warn(\n",
      "f:\\Python3\\Lib\\site-packages\\Bio\\PDB\\StructureBuilder.py:89: PDBConstructionWarning: WARNING: Chain A is discontinuous at line 12998.\n",
      "  warnings.warn(\n",
      "f:\\Python3\\Lib\\site-packages\\Bio\\PDB\\StructureBuilder.py:89: PDBConstructionWarning: WARNING: Chain B is discontinuous at line 13000.\n",
      "  warnings.warn(\n",
      "f:\\Python3\\Lib\\site-packages\\Bio\\PDB\\StructureBuilder.py:89: PDBConstructionWarning: WARNING: Chain C is discontinuous at line 13006.\n",
      "  warnings.warn(\n",
      "f:\\Python3\\Lib\\site-packages\\Bio\\PDB\\StructureBuilder.py:89: PDBConstructionWarning: WARNING: Chain D is discontinuous at line 13008.\n",
      "  warnings.warn(\n"
     ]
    }
   ],
   "source": [
    "structure = pdb_parser.get_structure(\"4D8P\", \"4D8P.pdb\")"
   ]
  },
  {
   "cell_type": "code",
   "execution_count": 11,
   "metadata": {},
   "outputs": [],
   "source": [
    "view = nv.show_biopython(structure)"
   ]
  },
  {
   "cell_type": "code",
   "execution_count": 12,
   "metadata": {},
   "outputs": [
    {
     "data": {
      "application/vnd.jupyter.widget-view+json": {
       "model_id": "2ddeca41e5884f88bdf2af2b41e373a3",
       "version_major": 2,
       "version_minor": 0
      },
      "text/plain": [
       "NGLWidget()"
      ]
     },
     "metadata": {},
     "output_type": "display_data"
    }
   ],
   "source": [
    "view"
   ]
  }
 ],
 "metadata": {
  "kernelspec": {
   "display_name": "Python 3",
   "language": "python",
   "name": "python3"
  },
  "language_info": {
   "codemirror_mode": {
    "name": "ipython",
    "version": 3
   },
   "file_extension": ".py",
   "mimetype": "text/x-python",
   "name": "python",
   "nbconvert_exporter": "python",
   "pygments_lexer": "ipython3",
   "version": "3.12.1"
  }
 },
 "nbformat": 4,
 "nbformat_minor": 2
}
