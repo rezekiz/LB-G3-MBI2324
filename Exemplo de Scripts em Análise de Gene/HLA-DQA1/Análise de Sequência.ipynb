{
 "cells": [
  {
   "cell_type": "markdown",
   "id": "12a1543d",
   "metadata": {},
   "source": [
    "# Análise da sequência e das features presentes no NCBI"
   ]
  },
  {
   "cell_type": "markdown",
   "id": "a74c9a95",
   "metadata": {},
   "source": [
    "* Aceder ao NCBI e guardar os ficheiros correspondentes aos genes escolhidos"
   ]
  },
  {
   "cell_type": "code",
   "execution_count": 1,
   "id": "b8551b7f",
   "metadata": {},
   "outputs": [],
   "source": [
    "def guardar_ficheiro(email, basedados, id_gene, nome_ficheiro):\n",
    "    \n",
    "    import os\n",
    "    from Bio import SeqIO\n",
    "    from Bio import Entrez\n",
    "\n",
    "    Entrez.email = email\n",
    "    \n",
    "    filename = nome_ficheiro\n",
    "\n",
    "    if not os.path.isfile(filename):\n",
    "        net_handle = Entrez.efetch( db = basedados, id = id_gene, rettype=\"gb\", retmode=\"text\")\n",
    "        out_handle = open(filename, \"w\")\n",
    "        out_handle.write(net_handle.read())\n",
    "        out_handle.close()\n",
    "        net_handle.close()\n",
    "        diretoria = os.getcwd()\n",
    "        print(\"O ficheiro foi guardado com sucesso na seguinte diretoria:\", diretoria)\n",
    "\n",
    "    return "
   ]
  },
  {
   "cell_type": "code",
   "execution_count": 5,
   "id": "a1a20202",
   "metadata": {},
   "outputs": [
    {
     "name": "stdout",
     "output_type": "stream",
     "text": [
      "O ficheiro foi guardado com sucesso na seguinte diretoria: c:\\Users\\olive\\Desktop\\Bioinformática\\1º Semestre\\LB\\Trabalho\\Git\\LB-G3-MBI2324-1\\Genes\\HLA-DQA1\n"
     ]
    }
   ],
   "source": [
    "guardar_ficheiro(\"oliveira1mariana@hotmail.com\", \"nucleotide\",\"NG_032876\", \"NG_032876.gbk\")"
   ]
  },
  {
   "cell_type": "markdown",
   "id": "1ff7cc94",
   "metadata": {},
   "source": [
    "* Análise do ficheiro"
   ]
  },
  {
   "cell_type": "code",
   "execution_count": 40,
   "id": "5bc142cc",
   "metadata": {},
   "outputs": [],
   "source": [
    "def parsing(nome_ficheiro):\n",
    "\n",
    "    from Bio import SeqIO\n",
    "    \n",
    "    record = SeqIO.read(nome_ficheiro, \"genbank\")\n",
    "\n",
    "    print(\"ID:\", record.id)\n",
    "\n",
    "    print(\"Nome:\", record.name)\n",
    "\n",
    "    print(\"Descrição\", record.description)\n",
    "\n",
    "    print(\"Comprimento da sequência:\", len(record.seq), \"bp\")\n",
    "\n",
    "    return"
   ]
  },
  {
   "cell_type": "code",
   "execution_count": 41,
   "id": "8f7cc6df",
   "metadata": {},
   "outputs": [
    {
     "name": "stdout",
     "output_type": "stream",
     "text": [
      "ID: NG_032876.1\n",
      "Nome: NG_032876\n",
      "Descrição Homo sapiens major histocompatibility complex, class II, DQ alpha 1 (HLA-DQA1), RefSeqGene on chromosome 6\n",
      "Comprimento da sequência: 13247 bp\n"
     ]
    }
   ],
   "source": [
    "parsing(\"NG_032876.gbk\")"
   ]
  },
  {
   "cell_type": "markdown",
   "id": "ca87c8a4",
   "metadata": {},
   "source": [
    "* Verificar as anotações correspondentes aos genes de interesse"
   ]
  },
  {
   "cell_type": "code",
   "execution_count": 7,
   "id": "9971b144",
   "metadata": {},
   "outputs": [],
   "source": [
    "def anot(nome_ficheiro):\n",
    "    \n",
    "    from Bio import SeqIO\n",
    "    \n",
    "    record = SeqIO.read(nome_ficheiro, \"genbank\")\n",
    "\n",
    "    print(\"Quantidade de anotações:\", len(record.annotations))\n",
    "\n",
    "    print()\n",
    "    \n",
    "    print(\"Lista de anotações:\")\n",
    "    \n",
    "    for anotacao in record.annotations:\n",
    "        print(anotacao, \"->\", record.annotations[anotacao])\n",
    "\n",
    "    return   \n"
   ]
  },
  {
   "cell_type": "code",
   "execution_count": 8,
   "id": "2629adba",
   "metadata": {},
   "outputs": [
    {
     "name": "stdout",
     "output_type": "stream",
     "text": [
      "Quantidade de anotações: 12\n",
      "\n",
      "Lista de anotações:\n",
      "molecule_type -> DNA\n",
      "topology -> linear\n",
      "data_file_division -> PRI\n",
      "date -> 19-NOV-2023\n",
      "accessions -> ['NG_032876']\n",
      "sequence_version -> 1\n",
      "keywords -> ['RefSeq', 'RefSeqGene']\n",
      "source -> Homo sapiens (human)\n",
      "organism -> Homo sapiens\n",
      "taxonomy -> ['Eukaryota', 'Metazoa', 'Chordata', 'Craniata', 'Vertebrata', 'Euteleostomi', 'Mammalia', 'Eutheria', 'Euarchontoglires', 'Primates', 'Haplorrhini', 'Catarrhini', 'Hominidae', 'Homo']\n",
      "references -> [Reference(title='Celiac Disease', ...)]\n",
      "comment -> REVIEWED REFSEQ: This record has been curated by NCBI staff. The\n",
      "reference sequence was derived from AL662789.11.\n",
      "This sequence is a reference standard in the RefSeqGene project.\n",
      "Summary: HLA-DQA1 belongs to the HLA class II alpha chain\n",
      "paralogues. The class II molecule is a heterodimer consisting of an\n",
      "alpha (DQA) and a beta chain (DQB), both anchored in the membrane.\n",
      "It plays a central role in the immune system by presenting peptides\n",
      "derived from extracellular proteins. Class II molecules are\n",
      "expressed in antigen presenting cells (APC: B Lymphocytes,\n",
      "dendritic cells, macrophages). The alpha chain is approximately\n",
      "33-35 kDa. It is encoded by 5 exons; exon 1 encodes the leader\n",
      "peptide, exons 2 and 3 encode the two extracellular domains, and\n",
      "exon 4 encodes the transmembrane domain and the cytoplasmic tail.\n",
      "Within the DQ molecule both the alpha chain and the beta chain\n",
      "contain the polymorphisms specifying the peptide binding\n",
      "specificities, resulting in up to four different molecules. Typing\n",
      "for these polymorphisms is routinely done for bone marrow\n",
      "transplantation. [provided by RefSeq, Jul 2008].\n"
     ]
    }
   ],
   "source": [
    "anot(\"NG_032876.gbk\")"
   ]
  },
  {
   "cell_type": "markdown",
   "id": "d22a8cbb",
   "metadata": {},
   "source": [
    "* Verificar e analisar a informação complementar fornecida pela lista de *features* e seus *qualifiers*"
   ]
  },
  {
   "cell_type": "code",
   "execution_count": 11,
   "id": "a6861a81",
   "metadata": {},
   "outputs": [],
   "source": [
    "def features_qualifiers(nome_ficheiro):\n",
    "    \n",
    "    from Bio import SeqIO\n",
    "    \n",
    "    record = SeqIO.read(nome_ficheiro, \"genbank\")\n",
    "    \n",
    "    print(\"Quantidade de features:\", len(record.features))\n",
    "\n",
    "    for feature in record.features:\n",
    "        print(feature)\n",
    "    \n",
    "    for db in record.dbxrefs:\n",
    "        print(db)\n",
    "\n",
    "    return\n"
   ]
  },
  {
   "cell_type": "code",
   "execution_count": 12,
   "id": "cc6823c2",
   "metadata": {},
   "outputs": [
    {
     "name": "stdout",
     "output_type": "stream",
     "text": [
      "Quantidade de features: 10\n",
      "type: source\n",
      "location: [0:13247](+)\n",
      "qualifiers:\n",
      "    Key: chromosome, Value: ['6']\n",
      "    Key: db_xref, Value: ['taxon:9606']\n",
      "    Key: map, Value: ['6p21.32']\n",
      "    Key: mol_type, Value: ['genomic DNA']\n",
      "    Key: organism, Value: ['Homo sapiens']\n",
      "\n",
      "type: gene\n",
      "location: [5000:11279](+)\n",
      "qualifiers:\n",
      "    Key: db_xref, Value: ['GeneID:3117', 'HGNC:HGNC:4942', 'MIM:146880']\n",
      "    Key: gene, Value: ['HLA-DQA1']\n",
      "    Key: gene_synonym, Value: ['CELIAC1; DQ-A1; DQA1; HLA-DQA; HLA-DQA1*; HLA-DQB1']\n",
      "    Key: note, Value: ['major histocompatibility complex, class II, DQ alpha 1']\n",
      "\n",
      "type: mRNA\n",
      "location: join{[5000:5135](+), [8904:9153](+), [9566:9848](+), [10204:10379](+), [10546:11279](+)}\n",
      "qualifiers:\n",
      "    Key: db_xref, Value: ['GeneID:3117', 'HGNC:HGNC:4942', 'MIM:146880']\n",
      "    Key: gene, Value: ['HLA-DQA1']\n",
      "    Key: gene_synonym, Value: ['CELIAC1; DQ-A1; DQA1; HLA-DQA; HLA-DQA1*; HLA-DQB1']\n",
      "    Key: product, Value: ['major histocompatibility complex, class II, DQ alpha 1']\n",
      "    Key: transcript_id, Value: ['NM_002122.5']\n",
      "\n",
      "type: exon\n",
      "location: [5000:5135](+)\n",
      "qualifiers:\n",
      "    Key: gene, Value: ['HLA-DQA1']\n",
      "    Key: gene_synonym, Value: ['CELIAC1; DQ-A1; DQA1; HLA-DQA; HLA-DQA1*; HLA-DQB1']\n",
      "    Key: inference, Value: ['alignment:Splign:2.1.0']\n",
      "    Key: number, Value: ['1']\n",
      "\n",
      "type: CDS\n",
      "location: join{[5053:5135](+), [8904:9153](+), [9566:9848](+), [10204:10359](+)}\n",
      "qualifiers:\n",
      "    Key: codon_start, Value: ['1']\n",
      "    Key: db_xref, Value: ['CCDS:CCDS4752.1', 'GeneID:3117', 'HGNC:HGNC:4942', 'MIM:146880']\n",
      "    Key: gene, Value: ['HLA-DQA1']\n",
      "    Key: gene_synonym, Value: ['CELIAC1; DQ-A1; DQA1; HLA-DQA; HLA-DQA1*; HLA-DQB1']\n",
      "    Key: note, Value: ['HLA class II histocompatibility antigen, DQ alpha 1 chain; MHC HLA-DQ alpha; MHC class II HLA-DQ-alpha-1; MHC class II DQ alpha chain; MHC class II DQA1; HLA-DCA; DC-alpha; DC-1 alpha chain; MHC class II antigen DQA1; MHC class II protein; HLA class II histocompatibility antigen DQ alpha chain']\n",
      "    Key: product, Value: ['HLA class II histocompatibility antigen, DQ alpha 1 chain precursor']\n",
      "    Key: protein_id, Value: ['NP_002113.2']\n",
      "    Key: translation, Value: ['MILNKALLLGALALTTVMSPCGGEDIVADHVASCGVNLYQFYGPSGQYTHEFDGDEQFYVDLERKETAWRWPEFSKFGGFDPQGALRNMAVAKHNLNIMIKRYNSTAATNEVPEVTVFSKSPVTLGQPNTLICLVDNIFPPVVNITWLSNGQSVTEGVSETSFLSKSDHSFFKISYLTFLPSADEIYDCKVEHWGLDQPLLKHWEPEIPAPMSELTETVVCALGLSVGLMGIVVGTVFIIQGLRSVGASRHQGPL']\n",
      "\n",
      "type: sig_peptide\n",
      "location: [5053:5122](+)\n",
      "qualifiers:\n",
      "    Key: gene, Value: ['HLA-DQA1']\n",
      "    Key: gene_synonym, Value: ['CELIAC1; DQ-A1; DQA1; HLA-DQA; HLA-DQA1*; HLA-DQB1']\n",
      "    Key: inference, Value: ['COORDINATES: ab initio prediction:SignalP:4.0']\n",
      "\n",
      "type: exon\n",
      "location: [8904:9153](+)\n",
      "qualifiers:\n",
      "    Key: gene, Value: ['HLA-DQA1']\n",
      "    Key: gene_synonym, Value: ['CELIAC1; DQ-A1; DQA1; HLA-DQA; HLA-DQA1*; HLA-DQB1']\n",
      "    Key: inference, Value: ['alignment:Splign:2.1.0']\n",
      "    Key: number, Value: ['2']\n",
      "\n",
      "type: exon\n",
      "location: [9566:9848](+)\n",
      "qualifiers:\n",
      "    Key: gene, Value: ['HLA-DQA1']\n",
      "    Key: gene_synonym, Value: ['CELIAC1; DQ-A1; DQA1; HLA-DQA; HLA-DQA1*; HLA-DQB1']\n",
      "    Key: inference, Value: ['alignment:Splign:2.1.0']\n",
      "    Key: number, Value: ['3']\n",
      "\n",
      "type: exon\n",
      "location: [10204:10379](+)\n",
      "qualifiers:\n",
      "    Key: gene, Value: ['HLA-DQA1']\n",
      "    Key: gene_synonym, Value: ['CELIAC1; DQ-A1; DQA1; HLA-DQA; HLA-DQA1*; HLA-DQB1']\n",
      "    Key: inference, Value: ['alignment:Splign:2.1.0']\n",
      "    Key: number, Value: ['4']\n",
      "\n",
      "type: exon\n",
      "location: [10546:11279](+)\n",
      "qualifiers:\n",
      "    Key: gene, Value: ['HLA-DQA1']\n",
      "    Key: gene_synonym, Value: ['CELIAC1; DQ-A1; DQA1; HLA-DQA; HLA-DQA1*; HLA-DQB1']\n",
      "    Key: inference, Value: ['alignment:Splign:2.1.0']\n",
      "    Key: number, Value: ['5']\n",
      "\n"
     ]
    }
   ],
   "source": [
    "features_qualifiers(\"NG_032876.gbk\")"
   ]
  },
  {
   "cell_type": "code",
   "execution_count": 24,
   "id": "3563a33c",
   "metadata": {},
   "outputs": [],
   "source": [
    "def  db(nome_ficheiro):\n",
    "\n",
    "    from Bio import SeqIO\n",
    "    \n",
    "    record = SeqIO.read(nome_ficheiro, \"genbank\")\n",
    "    \n",
    "    for db in record.dbxrefs:\n",
    "        print(db)\n",
    "    \n",
    "    for anot in record.letter_annotations:\n",
    "        print(anot)\n",
    "    \n",
    "    return"
   ]
  },
  {
   "cell_type": "code",
   "execution_count": 25,
   "id": "3a10f712",
   "metadata": {},
   "outputs": [],
   "source": [
    "db(\"NG_032876.gbk\")"
   ]
  },
  {
   "cell_type": "markdown",
   "id": "bf521c98",
   "metadata": {},
   "source": [
    "# Análise do ficheiro da sequência de mRNA"
   ]
  },
  {
   "cell_type": "code",
   "execution_count": 26,
   "id": "20a2b008",
   "metadata": {},
   "outputs": [],
   "source": [
    "guardar_ficheiro(\"oliveira1mariana@hotmail.com\", \"nucleotide\",\"NM_002122.5\", \"NM_002122.5.gbk\")"
   ]
  },
  {
   "cell_type": "code",
   "execution_count": 42,
   "id": "a53357ab",
   "metadata": {},
   "outputs": [
    {
     "name": "stdout",
     "output_type": "stream",
     "text": [
      "ID: NM_002122.5\n",
      "Nome: NM_002122\n",
      "Descrição Homo sapiens major histocompatibility complex, class II, DQ alpha 1 (HLA-DQA1), mRNA\n",
      "Comprimento da sequência: 1574 bp\n"
     ]
    }
   ],
   "source": [
    "parsing(\"NM_002122.5.gbk\")"
   ]
  },
  {
   "cell_type": "code",
   "execution_count": 28,
   "id": "386483c2",
   "metadata": {},
   "outputs": [
    {
     "name": "stdout",
     "output_type": "stream",
     "text": [
      "Quantidade de features: 16\n",
      "type: source\n",
      "location: [0:1574](+)\n",
      "qualifiers:\n",
      "    Key: chromosome, Value: ['6']\n",
      "    Key: db_xref, Value: ['taxon:9606']\n",
      "    Key: map, Value: ['6p21.32']\n",
      "    Key: mol_type, Value: ['mRNA']\n",
      "    Key: organism, Value: ['Homo sapiens']\n",
      "\n",
      "type: gene\n",
      "location: [0:1574](+)\n",
      "qualifiers:\n",
      "    Key: db_xref, Value: ['GeneID:3117', 'HGNC:HGNC:4942', 'MIM:146880']\n",
      "    Key: gene, Value: ['HLA-DQA1']\n",
      "    Key: gene_synonym, Value: ['CELIAC1; DQ-A1; DQA1; HLA-DQA; HLA-DQA1*; HLA-DQB1']\n",
      "    Key: note, Value: ['major histocompatibility complex, class II, DQ alpha 1']\n",
      "\n",
      "type: exon\n",
      "location: [0:135](+)\n",
      "qualifiers:\n",
      "    Key: gene, Value: ['HLA-DQA1']\n",
      "    Key: gene_synonym, Value: ['CELIAC1; DQ-A1; DQA1; HLA-DQA; HLA-DQA1*; HLA-DQB1']\n",
      "    Key: inference, Value: ['alignment:Splign:2.1.0']\n",
      "\n",
      "type: misc_feature\n",
      "location: [32:35](+)\n",
      "qualifiers:\n",
      "    Key: gene, Value: ['HLA-DQA1']\n",
      "    Key: gene_synonym, Value: ['CELIAC1; DQ-A1; DQA1; HLA-DQA; HLA-DQA1*; HLA-DQB1']\n",
      "    Key: note, Value: ['upstream in-frame stop codon']\n",
      "\n",
      "type: CDS\n",
      "location: [53:821](+)\n",
      "qualifiers:\n",
      "    Key: codon_start, Value: ['1']\n",
      "    Key: db_xref, Value: ['CCDS:CCDS4752.1', 'GeneID:3117', 'HGNC:HGNC:4942', 'MIM:146880']\n",
      "    Key: gene, Value: ['HLA-DQA1']\n",
      "    Key: gene_synonym, Value: ['CELIAC1; DQ-A1; DQA1; HLA-DQA; HLA-DQA1*; HLA-DQB1']\n",
      "    Key: note, Value: ['HLA class II histocompatibility antigen, DQ alpha 1 chain; MHC HLA-DQ alpha; MHC class II HLA-DQ-alpha-1; MHC class II DQ alpha chain; MHC class II DQA1; HLA-DCA; DC-alpha; DC-1 alpha chain; MHC class II antigen DQA1; MHC class II protein; HLA class II histocompatibility antigen DQ alpha chain']\n",
      "    Key: product, Value: ['HLA class II histocompatibility antigen, DQ alpha 1 chain precursor']\n",
      "    Key: protein_id, Value: ['NP_002113.2']\n",
      "    Key: translation, Value: ['MILNKALLLGALALTTVMSPCGGEDIVADHVASCGVNLYQFYGPSGQYTHEFDGDEQFYVDLERKETAWRWPEFSKFGGFDPQGALRNMAVAKHNLNIMIKRYNSTAATNEVPEVTVFSKSPVTLGQPNTLICLVDNIFPPVVNITWLSNGQSVTEGVSETSFLSKSDHSFFKISYLTFLPSADEIYDCKVEHWGLDQPLLKHWEPEIPAPMSELTETVVCALGLSVGLMGIVVGTVFIIQGLRSVGASRHQGPL']\n",
      "\n",
      "type: sig_peptide\n",
      "location: [53:122](+)\n",
      "qualifiers:\n",
      "    Key: gene, Value: ['HLA-DQA1']\n",
      "    Key: gene_synonym, Value: ['CELIAC1; DQ-A1; DQA1; HLA-DQA; HLA-DQA1*; HLA-DQB1']\n",
      "    Key: inference, Value: ['COORDINATES: ab initio prediction:SignalP:4.0']\n",
      "\n",
      "type: exon\n",
      "location: [135:384](+)\n",
      "qualifiers:\n",
      "    Key: gene, Value: ['HLA-DQA1']\n",
      "    Key: gene_synonym, Value: ['CELIAC1; DQ-A1; DQA1; HLA-DQA; HLA-DQA1*; HLA-DQB1']\n",
      "    Key: inference, Value: ['alignment:Splign:2.1.0']\n",
      "\n",
      "type: exon\n",
      "location: [384:666](+)\n",
      "qualifiers:\n",
      "    Key: gene, Value: ['HLA-DQA1']\n",
      "    Key: gene_synonym, Value: ['CELIAC1; DQ-A1; DQA1; HLA-DQA; HLA-DQA1*; HLA-DQB1']\n",
      "    Key: inference, Value: ['alignment:Splign:2.1.0']\n",
      "\n",
      "type: exon\n",
      "location: [666:841](+)\n",
      "qualifiers:\n",
      "    Key: gene, Value: ['HLA-DQA1']\n",
      "    Key: gene_synonym, Value: ['CELIAC1; DQ-A1; DQA1; HLA-DQA; HLA-DQA1*; HLA-DQB1']\n",
      "    Key: inference, Value: ['alignment:Splign:2.1.0']\n",
      "\n",
      "type: exon\n",
      "location: [841:1574](+)\n",
      "qualifiers:\n",
      "    Key: gene, Value: ['HLA-DQA1']\n",
      "    Key: gene_synonym, Value: ['CELIAC1; DQ-A1; DQA1; HLA-DQA; HLA-DQA1*; HLA-DQB1']\n",
      "    Key: inference, Value: ['alignment:Splign:2.1.0']\n",
      "\n",
      "type: regulatory\n",
      "location: [1131:1137](+)\n",
      "qualifiers:\n",
      "    Key: gene, Value: ['HLA-DQA1']\n",
      "    Key: gene_synonym, Value: ['CELIAC1; DQ-A1; DQA1; HLA-DQA; HLA-DQA1*; HLA-DQB1']\n",
      "    Key: note, Value: ['hexamer: AATAAA']\n",
      "    Key: regulatory_class, Value: ['polyA_signal_sequence']\n",
      "\n",
      "type: polyA_site\n",
      "location: [1154:1155](+)\n",
      "qualifiers:\n",
      "    Key: gene, Value: ['HLA-DQA1']\n",
      "    Key: gene_synonym, Value: ['CELIAC1; DQ-A1; DQA1; HLA-DQA; HLA-DQA1*; HLA-DQB1']\n",
      "    Key: note, Value: ['major polyA site']\n",
      "\n",
      "type: regulatory\n",
      "location: [1462:1468](+)\n",
      "qualifiers:\n",
      "    Key: gene, Value: ['HLA-DQA1']\n",
      "    Key: gene_synonym, Value: ['CELIAC1; DQ-A1; DQA1; HLA-DQA; HLA-DQA1*; HLA-DQB1']\n",
      "    Key: note, Value: ['hexamer: AATAAG']\n",
      "    Key: regulatory_class, Value: ['polyA_signal_sequence']\n",
      "\n",
      "type: polyA_site\n",
      "location: [1483:1484](+)\n",
      "qualifiers:\n",
      "    Key: gene, Value: ['HLA-DQA1']\n",
      "    Key: gene_synonym, Value: ['CELIAC1; DQ-A1; DQA1; HLA-DQA; HLA-DQA1*; HLA-DQB1']\n",
      "\n",
      "type: regulatory\n",
      "location: [1553:1559](+)\n",
      "qualifiers:\n",
      "    Key: gene, Value: ['HLA-DQA1']\n",
      "    Key: gene_synonym, Value: ['CELIAC1; DQ-A1; DQA1; HLA-DQA; HLA-DQA1*; HLA-DQB1']\n",
      "    Key: note, Value: ['hexamer: AGTAAA']\n",
      "    Key: regulatory_class, Value: ['polyA_signal_sequence']\n",
      "\n",
      "type: polyA_site\n",
      "location: [1573:1574](+)\n",
      "qualifiers:\n",
      "    Key: gene, Value: ['HLA-DQA1']\n",
      "    Key: gene_synonym, Value: ['CELIAC1; DQ-A1; DQA1; HLA-DQA; HLA-DQA1*; HLA-DQB1']\n",
      "\n"
     ]
    }
   ],
   "source": [
    "features_qualifiers(\"NM_002122.5.gbk\")"
   ]
  },
  {
   "cell_type": "code",
   "execution_count": 30,
   "id": "40e02c4d",
   "metadata": {},
   "outputs": [],
   "source": [
    "db(\"NM_002122.5.gbk\")"
   ]
  },
  {
   "cell_type": "markdown",
   "id": "06abcf86",
   "metadata": {},
   "source": [
    "# Análise da sequência da proteína"
   ]
  },
  {
   "cell_type": "code",
   "execution_count": 36,
   "id": "be14f115",
   "metadata": {},
   "outputs": [
    {
     "name": "stdout",
     "output_type": "stream",
     "text": [
      "O ficheiro foi guardado com sucesso na seguinte diretoria: c:\\Users\\olive\\Desktop\\Bioinformática\\1º Semestre\\LB\\Trabalho\\Git\\LB-G3-MBI2324-1\\Genes\\HLA-DQA1\n"
     ]
    }
   ],
   "source": [
    "guardar_ficheiro(\"oliveira1mariana@hotmail.com\", \"protein\",\"NP_002113.2\", \"NP_002113.2.gbk\")"
   ]
  },
  {
   "cell_type": "code",
   "execution_count": 43,
   "id": "8747fd9b",
   "metadata": {},
   "outputs": [
    {
     "name": "stdout",
     "output_type": "stream",
     "text": [
      "ID: NP_002113.2\n",
      "Nome: NP_002113\n",
      "Descrição HLA class II histocompatibility antigen, DQ alpha 1 chain precursor [Homo sapiens]\n",
      "Comprimento da sequência: 255 bp\n"
     ]
    }
   ],
   "source": [
    "parsing(\"NP_002113.2.gbk\")"
   ]
  },
  {
   "cell_type": "code",
   "execution_count": 38,
   "id": "9d2d6800",
   "metadata": {},
   "outputs": [
    {
     "name": "stdout",
     "output_type": "stream",
     "text": [
      "Quantidade de features: 16\n",
      "type: source\n",
      "location: [0:255]\n",
      "qualifiers:\n",
      "    Key: chromosome, Value: ['6']\n",
      "    Key: db_xref, Value: ['taxon:9606']\n",
      "    Key: map, Value: ['6p21.32']\n",
      "    Key: organism, Value: ['Homo sapiens']\n",
      "\n",
      "type: Protein\n",
      "location: [0:255]\n",
      "qualifiers:\n",
      "    Key: calculated_mol_wt, Value: ['25730']\n",
      "    Key: note, Value: ['HLA class II histocompatibility antigen, DQ alpha 1 chain; MHC HLA-DQ alpha; MHC class II HLA-DQ-alpha-1; MHC class II DQ alpha chain; MHC class II DQA1; HLA-DCA; DC-alpha; DC-1 alpha chain; MHC class II antigen DQA1; MHC class II protein; HLA class II histocompatibility antigen DQ alpha chain']\n",
      "    Key: product, Value: ['HLA class II histocompatibility antigen, DQ alpha 1 chain precursor']\n",
      "\n",
      "type: sig_peptide\n",
      "location: [0:23]\n",
      "qualifiers:\n",
      "    Key: calculated_mol_wt, Value: ['2288']\n",
      "    Key: inference, Value: ['COORDINATES: ab initio prediction:SignalP:4.0']\n",
      "\n",
      "type: Region\n",
      "location: [28:109]\n",
      "qualifiers:\n",
      "    Key: db_xref, Value: ['CDD:425978']\n",
      "    Key: note, Value: ['Class II histocompatibility antigen, alpha domain; pfam00993']\n",
      "    Key: region_name, Value: ['MHC_II_alpha']\n",
      "\n",
      "type: Region\n",
      "location: [110:205]\n",
      "qualifiers:\n",
      "    Key: db_xref, Value: ['CDD:409599']\n",
      "    Key: note, Value: ['Class II major histocompatibility complex (MHC) alpha chain immunoglobulin domain of histocompatibility antigen (HLA) DQ and related proteins; member of the C1-set of Ig superfamily (IgSF) domains; cd21008']\n",
      "    Key: region_name, Value: ['IgC1_MHC_II_alpha_HLA-DQ']\n",
      "\n",
      "type: Region\n",
      "location: [111:120]\n",
      "qualifiers:\n",
      "    Key: db_xref, Value: ['CDD:409599']\n",
      "    Key: note, Value: ['Ig strand A [structural motif]']\n",
      "    Key: region_name, Value: ['Ig strand A']\n",
      "\n",
      "type: Site\n",
      "location: order{[115:116], [117:120], [121:122], [173:174], [175:176]}\n",
      "qualifiers:\n",
      "    Key: db_xref, Value: ['CDD:409599']\n",
      "    Key: note, Value: ['heterodimer interface [polypeptide binding]']\n",
      "    Key: site_type, Value: ['other']\n",
      "\n",
      "type: Region\n",
      "location: [127:137]\n",
      "qualifiers:\n",
      "    Key: db_xref, Value: ['CDD:409599']\n",
      "    Key: note, Value: ['Ig strand B [structural motif]']\n",
      "    Key: region_name, Value: ['Ig strand B']\n",
      "\n",
      "type: Site\n",
      "location: order{[139:142], [160:164], [169:171], [175:176]}\n",
      "qualifiers:\n",
      "    Key: db_xref, Value: ['CDD:409599']\n",
      "    Key: note, Value: ['MHC binding domain interface [polypeptide binding]']\n",
      "    Key: site_type, Value: ['other']\n",
      "\n",
      "type: Region\n",
      "location: [142:149]\n",
      "qualifiers:\n",
      "    Key: db_xref, Value: ['CDD:409599']\n",
      "    Key: note, Value: ['Ig strand C [structural motif]']\n",
      "    Key: region_name, Value: ['Ig strand C']\n",
      "\n",
      "type: Region\n",
      "location: [150:154]\n",
      "qualifiers:\n",
      "    Key: db_xref, Value: ['CDD:409599']\n",
      "    Key: note, Value: [\"Ig strand C' [structural motif]\"]\n",
      "    Key: region_name, Value: [\"Ig strand C'\"]\n",
      "\n",
      "type: Region\n",
      "location: [157:166]\n",
      "qualifiers:\n",
      "    Key: db_xref, Value: ['CDD:409599']\n",
      "    Key: note, Value: ['Ig strand D [structural motif]']\n",
      "    Key: region_name, Value: ['Ig strand D']\n",
      "\n",
      "type: Region\n",
      "location: [168:179]\n",
      "qualifiers:\n",
      "    Key: db_xref, Value: ['CDD:409599']\n",
      "    Key: note, Value: ['Ig strand E [structural motif]']\n",
      "    Key: region_name, Value: ['Ig strand E']\n",
      "\n",
      "type: Region\n",
      "location: [185:193]\n",
      "qualifiers:\n",
      "    Key: db_xref, Value: ['CDD:409599']\n",
      "    Key: note, Value: ['Ig strand F [structural motif]']\n",
      "    Key: region_name, Value: ['Ig strand F']\n",
      "\n",
      "type: Region\n",
      "location: [198:204]\n",
      "qualifiers:\n",
      "    Key: db_xref, Value: ['CDD:409599']\n",
      "    Key: note, Value: ['Ig strand G [structural motif]']\n",
      "    Key: region_name, Value: ['Ig strand G']\n",
      "\n",
      "type: CDS\n",
      "location: [0:255]\n",
      "qualifiers:\n",
      "    Key: coded_by, Value: ['NM_002122.5:54..821']\n",
      "    Key: db_xref, Value: ['CCDS:CCDS4752.1', 'GeneID:3117', 'HGNC:HGNC:4942', 'MIM:146880']\n",
      "    Key: gene, Value: ['HLA-DQA1']\n",
      "    Key: gene_synonym, Value: ['CELIAC1; DQ-A1; DQA1; HLA-DQA; HLA-DQA1*; HLA-DQB1']\n",
      "\n"
     ]
    }
   ],
   "source": [
    "features_qualifiers(\"NP_002113.2.gbk\")"
   ]
  },
  {
   "cell_type": "code",
   "execution_count": 39,
   "id": "1ce09804",
   "metadata": {},
   "outputs": [],
   "source": [
    "db(\"NP_002113.2.gbk\")"
   ]
  }
 ],
 "metadata": {
  "kernelspec": {
   "display_name": "Python 3 (ipykernel)",
   "language": "python",
   "name": "python3"
  },
  "language_info": {
   "codemirror_mode": {
    "name": "ipython",
    "version": 3
   },
   "file_extension": ".py",
   "mimetype": "text/x-python",
   "name": "python",
   "nbconvert_exporter": "python",
   "pygments_lexer": "ipython3",
   "version": "3.10.11"
  }
 },
 "nbformat": 4,
 "nbformat_minor": 5
}
